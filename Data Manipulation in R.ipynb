{
 "cells": [
  {
   "cell_type": "code",
   "execution_count": 12,
   "metadata": {},
   "outputs": [
    {
     "name": "stderr",
     "output_type": "stream",
     "text": [
      "\n",
      "Attaching package: ‘dplyr’\n",
      "\n",
      "The following object is masked from ‘package:MASS’:\n",
      "\n",
      "    select\n",
      "\n",
      "The following objects are masked from ‘package:stats’:\n",
      "\n",
      "    filter, lag\n",
      "\n",
      "The following objects are masked from ‘package:base’:\n",
      "\n",
      "    intersect, setdiff, setequal, union\n",
      "\n"
     ]
    }
   ],
   "source": [
    "library(dplyr)\n",
    "library(nycflights13)"
   ]
  },
  {
   "cell_type": "code",
   "execution_count": 13,
   "metadata": {},
   "outputs": [
    {
     "data": {
      "text/html": [
       "<table>\n",
       "<thead><tr><th scope=col>year</th><th scope=col>month</th><th scope=col>day</th><th scope=col>dep_time</th><th scope=col>sched_dep_time</th><th scope=col>dep_delay</th><th scope=col>arr_time</th><th scope=col>sched_arr_time</th><th scope=col>arr_delay</th><th scope=col>carrier</th><th scope=col>flight</th><th scope=col>tailnum</th><th scope=col>origin</th><th scope=col>dest</th><th scope=col>air_time</th><th scope=col>distance</th><th scope=col>hour</th><th scope=col>minute</th><th scope=col>time_hour</th></tr></thead>\n",
       "<tbody>\n",
       "\t<tr><td>2013               </td><td>1                  </td><td>1                  </td><td>517                </td><td>515                </td><td> 2                 </td><td> 830               </td><td> 819               </td><td> 11                </td><td>UA                 </td><td>1545               </td><td>N14228             </td><td>EWR                </td><td>IAH                </td><td>227                </td><td>1400               </td><td>5                  </td><td>15                 </td><td>2013-01-01 05:00:00</td></tr>\n",
       "\t<tr><td>2013               </td><td>1                  </td><td>1                  </td><td>533                </td><td>529                </td><td> 4                 </td><td> 850               </td><td> 830               </td><td> 20                </td><td>UA                 </td><td>1714               </td><td>N24211             </td><td>LGA                </td><td>IAH                </td><td>227                </td><td>1416               </td><td>5                  </td><td>29                 </td><td>2013-01-01 05:00:00</td></tr>\n",
       "\t<tr><td>2013               </td><td>1                  </td><td>1                  </td><td>542                </td><td>540                </td><td> 2                 </td><td> 923               </td><td> 850               </td><td> 33                </td><td>AA                 </td><td>1141               </td><td>N619AA             </td><td>JFK                </td><td>MIA                </td><td>160                </td><td>1089               </td><td>5                  </td><td>40                 </td><td>2013-01-01 05:00:00</td></tr>\n",
       "\t<tr><td>2013               </td><td>1                  </td><td>1                  </td><td>544                </td><td>545                </td><td>-1                 </td><td>1004               </td><td>1022               </td><td>-18                </td><td>B6                 </td><td> 725               </td><td>N804JB             </td><td>JFK                </td><td>BQN                </td><td>183                </td><td>1576               </td><td>5                  </td><td>45                 </td><td>2013-01-01 05:00:00</td></tr>\n",
       "\t<tr><td>2013               </td><td>1                  </td><td>1                  </td><td>554                </td><td>600                </td><td>-6                 </td><td> 812               </td><td> 837               </td><td>-25                </td><td>DL                 </td><td> 461               </td><td>N668DN             </td><td>LGA                </td><td>ATL                </td><td>116                </td><td> 762               </td><td>6                  </td><td> 0                 </td><td>2013-01-01 06:00:00</td></tr>\n",
       "\t<tr><td>2013               </td><td>1                  </td><td>1                  </td><td>554                </td><td>558                </td><td>-4                 </td><td> 740               </td><td> 728               </td><td> 12                </td><td>UA                 </td><td>1696               </td><td>N39463             </td><td>EWR                </td><td>ORD                </td><td>150                </td><td> 719               </td><td>5                  </td><td>58                 </td><td>2013-01-01 05:00:00</td></tr>\n",
       "</tbody>\n",
       "</table>\n"
      ],
      "text/latex": [
       "\\begin{tabular}{r|lllllllllllllllllll}\n",
       " year & month & day & dep\\_time & sched\\_dep\\_time & dep\\_delay & arr\\_time & sched\\_arr\\_time & arr\\_delay & carrier & flight & tailnum & origin & dest & air\\_time & distance & hour & minute & time\\_hour\\\\\n",
       "\\hline\n",
       "\t 2013                & 1                   & 1                   & 517                 & 515                 &  2                  &  830                &  819                &  11                 & UA                  & 1545                & N14228              & EWR                 & IAH                 & 227                 & 1400                & 5                   & 15                  & 2013-01-01 05:00:00\\\\\n",
       "\t 2013                & 1                   & 1                   & 533                 & 529                 &  4                  &  850                &  830                &  20                 & UA                  & 1714                & N24211              & LGA                 & IAH                 & 227                 & 1416                & 5                   & 29                  & 2013-01-01 05:00:00\\\\\n",
       "\t 2013                & 1                   & 1                   & 542                 & 540                 &  2                  &  923                &  850                &  33                 & AA                  & 1141                & N619AA              & JFK                 & MIA                 & 160                 & 1089                & 5                   & 40                  & 2013-01-01 05:00:00\\\\\n",
       "\t 2013                & 1                   & 1                   & 544                 & 545                 & -1                  & 1004                & 1022                & -18                 & B6                  &  725                & N804JB              & JFK                 & BQN                 & 183                 & 1576                & 5                   & 45                  & 2013-01-01 05:00:00\\\\\n",
       "\t 2013                & 1                   & 1                   & 554                 & 600                 & -6                  &  812                &  837                & -25                 & DL                  &  461                & N668DN              & LGA                 & ATL                 & 116                 &  762                & 6                   &  0                  & 2013-01-01 06:00:00\\\\\n",
       "\t 2013                & 1                   & 1                   & 554                 & 558                 & -4                  &  740                &  728                &  12                 & UA                  & 1696                & N39463              & EWR                 & ORD                 & 150                 &  719                & 5                   & 58                  & 2013-01-01 05:00:00\\\\\n",
       "\\end{tabular}\n"
      ],
      "text/markdown": [
       "\n",
       "year | month | day | dep_time | sched_dep_time | dep_delay | arr_time | sched_arr_time | arr_delay | carrier | flight | tailnum | origin | dest | air_time | distance | hour | minute | time_hour | \n",
       "|---|---|---|---|---|---|\n",
       "| 2013                | 1                   | 1                   | 517                 | 515                 |  2                  |  830                |  819                |  11                 | UA                  | 1545                | N14228              | EWR                 | IAH                 | 227                 | 1400                | 5                   | 15                  | 2013-01-01 05:00:00 | \n",
       "| 2013                | 1                   | 1                   | 533                 | 529                 |  4                  |  850                |  830                |  20                 | UA                  | 1714                | N24211              | LGA                 | IAH                 | 227                 | 1416                | 5                   | 29                  | 2013-01-01 05:00:00 | \n",
       "| 2013                | 1                   | 1                   | 542                 | 540                 |  2                  |  923                |  850                |  33                 | AA                  | 1141                | N619AA              | JFK                 | MIA                 | 160                 | 1089                | 5                   | 40                  | 2013-01-01 05:00:00 | \n",
       "| 2013                | 1                   | 1                   | 544                 | 545                 | -1                  | 1004                | 1022                | -18                 | B6                  |  725                | N804JB              | JFK                 | BQN                 | 183                 | 1576                | 5                   | 45                  | 2013-01-01 05:00:00 | \n",
       "| 2013                | 1                   | 1                   | 554                 | 600                 | -6                  |  812                |  837                | -25                 | DL                  |  461                | N668DN              | LGA                 | ATL                 | 116                 |  762                | 6                   |  0                  | 2013-01-01 06:00:00 | \n",
       "| 2013                | 1                   | 1                   | 554                 | 558                 | -4                  |  740                |  728                |  12                 | UA                  | 1696                | N39463              | EWR                 | ORD                 | 150                 |  719                | 5                   | 58                  | 2013-01-01 05:00:00 | \n",
       "\n",
       "\n"
      ],
      "text/plain": [
       "  year month day dep_time sched_dep_time dep_delay arr_time sched_arr_time\n",
       "1 2013 1     1   517      515             2         830      819          \n",
       "2 2013 1     1   533      529             4         850      830          \n",
       "3 2013 1     1   542      540             2         923      850          \n",
       "4 2013 1     1   544      545            -1        1004     1022          \n",
       "5 2013 1     1   554      600            -6         812      837          \n",
       "6 2013 1     1   554      558            -4         740      728          \n",
       "  arr_delay carrier flight tailnum origin dest air_time distance hour minute\n",
       "1  11       UA      1545   N14228  EWR    IAH  227      1400     5    15    \n",
       "2  20       UA      1714   N24211  LGA    IAH  227      1416     5    29    \n",
       "3  33       AA      1141   N619AA  JFK    MIA  160      1089     5    40    \n",
       "4 -18       B6       725   N804JB  JFK    BQN  183      1576     5    45    \n",
       "5 -25       DL       461   N668DN  LGA    ATL  116       762     6     0    \n",
       "6  12       UA      1696   N39463  EWR    ORD  150       719     5    58    \n",
       "  time_hour          \n",
       "1 2013-01-01 05:00:00\n",
       "2 2013-01-01 05:00:00\n",
       "3 2013-01-01 05:00:00\n",
       "4 2013-01-01 05:00:00\n",
       "5 2013-01-01 06:00:00\n",
       "6 2013-01-01 05:00:00"
      ]
     },
     "metadata": {},
     "output_type": "display_data"
    }
   ],
   "source": [
    "head(flights)"
   ]
  },
  {
   "cell_type": "code",
   "execution_count": 22,
   "metadata": {},
   "outputs": [
    {
     "data": {
      "text/html": [
       "<table>\n",
       "<thead><tr><th scope=col>year</th><th scope=col>month</th><th scope=col>day</th><th scope=col>dep_time</th><th scope=col>sched_dep_time</th><th scope=col>dep_delay</th><th scope=col>arr_time</th><th scope=col>sched_arr_time</th><th scope=col>arr_delay</th><th scope=col>carrier</th><th scope=col>flight</th><th scope=col>tailnum</th><th scope=col>origin</th><th scope=col>dest</th><th scope=col>air_time</th><th scope=col>distance</th><th scope=col>hour</th><th scope=col>minute</th><th scope=col>time_hour</th></tr></thead>\n",
       "<tbody>\n",
       "\t<tr><td>2013               </td><td>11                 </td><td>3                  </td><td>538                </td><td>545                </td><td>-7                 </td><td>824                </td><td>855                </td><td>-31                </td><td>AA                 </td><td>2243               </td><td>N5DWAA             </td><td>JFK                </td><td>MIA                </td><td>144                </td><td>1089               </td><td>5                  </td><td>45                 </td><td>2013-11-03 05:00:00</td></tr>\n",
       "\t<tr><td>2013               </td><td>11                 </td><td>3                  </td><td>556                </td><td>600                </td><td>-4                 </td><td>900                </td><td>905                </td><td> -5                </td><td>AA                 </td><td>1175               </td><td>N3CSAA             </td><td>LGA                </td><td>MIA                </td><td>148                </td><td>1096               </td><td>6                  </td><td> 0                 </td><td>2013-11-03 06:00:00</td></tr>\n",
       "\t<tr><td>2013               </td><td>11                 </td><td>3                  </td><td>604                </td><td>610                </td><td>-6                 </td><td>844                </td><td>855                </td><td>-11                </td><td>AA                 </td><td>1103               </td><td>N3KDAA             </td><td>LGA                </td><td>DFW                </td><td>192                </td><td>1389               </td><td>6                  </td><td>10                 </td><td>2013-11-03 06:00:00</td></tr>\n",
       "\t<tr><td>2013               </td><td>11                 </td><td>3                  </td><td>624                </td><td>629                </td><td>-5                 </td><td>907                </td><td>929                </td><td>-22                </td><td>AA                 </td><td>1205               </td><td>N3EJAA             </td><td>EWR                </td><td>MIA                </td><td>141                </td><td>1085               </td><td>6                  </td><td>29                 </td><td>2013-11-03 06:00:00</td></tr>\n",
       "\t<tr><td>2013               </td><td>11                 </td><td>3                  </td><td>625                </td><td>630                </td><td>-5                 </td><td>736                </td><td>805                </td><td>-29                </td><td>AA                 </td><td> 303               </td><td>N4WJAA             </td><td>LGA                </td><td>ORD                </td><td>113                </td><td> 733               </td><td>6                  </td><td>30                 </td><td>2013-11-03 06:00:00</td></tr>\n",
       "\t<tr><td>2013               </td><td>11                 </td><td>3                  </td><td>653                </td><td>655                </td><td>-2                 </td><td>925                </td><td>920                </td><td>  5                </td><td>AA                 </td><td>1263               </td><td>N634AA             </td><td>JFK                </td><td>LAS                </td><td>306                </td><td>2248               </td><td>6                  </td><td>55                 </td><td>2013-11-03 06:00:00</td></tr>\n",
       "</tbody>\n",
       "</table>\n"
      ],
      "text/latex": [
       "\\begin{tabular}{r|lllllllllllllllllll}\n",
       " year & month & day & dep\\_time & sched\\_dep\\_time & dep\\_delay & arr\\_time & sched\\_arr\\_time & arr\\_delay & carrier & flight & tailnum & origin & dest & air\\_time & distance & hour & minute & time\\_hour\\\\\n",
       "\\hline\n",
       "\t 2013                & 11                  & 3                   & 538                 & 545                 & -7                  & 824                 & 855                 & -31                 & AA                  & 2243                & N5DWAA              & JFK                 & MIA                 & 144                 & 1089                & 5                   & 45                  & 2013-11-03 05:00:00\\\\\n",
       "\t 2013                & 11                  & 3                   & 556                 & 600                 & -4                  & 900                 & 905                 &  -5                 & AA                  & 1175                & N3CSAA              & LGA                 & MIA                 & 148                 & 1096                & 6                   &  0                  & 2013-11-03 06:00:00\\\\\n",
       "\t 2013                & 11                  & 3                   & 604                 & 610                 & -6                  & 844                 & 855                 & -11                 & AA                  & 1103                & N3KDAA              & LGA                 & DFW                 & 192                 & 1389                & 6                   & 10                  & 2013-11-03 06:00:00\\\\\n",
       "\t 2013                & 11                  & 3                   & 624                 & 629                 & -5                  & 907                 & 929                 & -22                 & AA                  & 1205                & N3EJAA              & EWR                 & MIA                 & 141                 & 1085                & 6                   & 29                  & 2013-11-03 06:00:00\\\\\n",
       "\t 2013                & 11                  & 3                   & 625                 & 630                 & -5                  & 736                 & 805                 & -29                 & AA                  &  303                & N4WJAA              & LGA                 & ORD                 & 113                 &  733                & 6                   & 30                  & 2013-11-03 06:00:00\\\\\n",
       "\t 2013                & 11                  & 3                   & 653                 & 655                 & -2                  & 925                 & 920                 &   5                 & AA                  & 1263                & N634AA              & JFK                 & LAS                 & 306                 & 2248                & 6                   & 55                  & 2013-11-03 06:00:00\\\\\n",
       "\\end{tabular}\n"
      ],
      "text/markdown": [
       "\n",
       "year | month | day | dep_time | sched_dep_time | dep_delay | arr_time | sched_arr_time | arr_delay | carrier | flight | tailnum | origin | dest | air_time | distance | hour | minute | time_hour | \n",
       "|---|---|---|---|---|---|\n",
       "| 2013                | 11                  | 3                   | 538                 | 545                 | -7                  | 824                 | 855                 | -31                 | AA                  | 2243                | N5DWAA              | JFK                 | MIA                 | 144                 | 1089                | 5                   | 45                  | 2013-11-03 05:00:00 | \n",
       "| 2013                | 11                  | 3                   | 556                 | 600                 | -4                  | 900                 | 905                 |  -5                 | AA                  | 1175                | N3CSAA              | LGA                 | MIA                 | 148                 | 1096                | 6                   |  0                  | 2013-11-03 06:00:00 | \n",
       "| 2013                | 11                  | 3                   | 604                 | 610                 | -6                  | 844                 | 855                 | -11                 | AA                  | 1103                | N3KDAA              | LGA                 | DFW                 | 192                 | 1389                | 6                   | 10                  | 2013-11-03 06:00:00 | \n",
       "| 2013                | 11                  | 3                   | 624                 | 629                 | -5                  | 907                 | 929                 | -22                 | AA                  | 1205                | N3EJAA              | EWR                 | MIA                 | 141                 | 1085                | 6                   | 29                  | 2013-11-03 06:00:00 | \n",
       "| 2013                | 11                  | 3                   | 625                 | 630                 | -5                  | 736                 | 805                 | -29                 | AA                  |  303                | N4WJAA              | LGA                 | ORD                 | 113                 |  733                | 6                   | 30                  | 2013-11-03 06:00:00 | \n",
       "| 2013                | 11                  | 3                   | 653                 | 655                 | -2                  | 925                 | 920                 |   5                 | AA                  | 1263                | N634AA              | JFK                 | LAS                 | 306                 | 2248                | 6                   | 55                  | 2013-11-03 06:00:00 | \n",
       "\n",
       "\n"
      ],
      "text/plain": [
       "  year month day dep_time sched_dep_time dep_delay arr_time sched_arr_time\n",
       "1 2013 11    3   538      545            -7        824      855           \n",
       "2 2013 11    3   556      600            -4        900      905           \n",
       "3 2013 11    3   604      610            -6        844      855           \n",
       "4 2013 11    3   624      629            -5        907      929           \n",
       "5 2013 11    3   625      630            -5        736      805           \n",
       "6 2013 11    3   653      655            -2        925      920           \n",
       "  arr_delay carrier flight tailnum origin dest air_time distance hour minute\n",
       "1 -31       AA      2243   N5DWAA  JFK    MIA  144      1089     5    45    \n",
       "2  -5       AA      1175   N3CSAA  LGA    MIA  148      1096     6     0    \n",
       "3 -11       AA      1103   N3KDAA  LGA    DFW  192      1389     6    10    \n",
       "4 -22       AA      1205   N3EJAA  EWR    MIA  141      1085     6    29    \n",
       "5 -29       AA       303   N4WJAA  LGA    ORD  113       733     6    30    \n",
       "6   5       AA      1263   N634AA  JFK    LAS  306      2248     6    55    \n",
       "  time_hour          \n",
       "1 2013-11-03 05:00:00\n",
       "2 2013-11-03 06:00:00\n",
       "3 2013-11-03 06:00:00\n",
       "4 2013-11-03 06:00:00\n",
       "5 2013-11-03 06:00:00\n",
       "6 2013-11-03 06:00:00"
      ]
     },
     "metadata": {},
     "output_type": "display_data"
    }
   ],
   "source": [
    "# All AA flight in November 3th.\n",
    "\n",
    "head(filter(flights, month == 11, day == 3, carrier == 'AA'))\n"
   ]
  },
  {
   "cell_type": "code",
   "execution_count": 27,
   "metadata": {},
   "outputs": [
    {
     "data": {
      "text/html": [
       "<table>\n",
       "<thead><tr><th scope=col>year</th><th scope=col>month</th><th scope=col>day</th><th scope=col>dep_time</th><th scope=col>sched_dep_time</th><th scope=col>dep_delay</th><th scope=col>arr_time</th><th scope=col>sched_arr_time</th><th scope=col>arr_delay</th><th scope=col>carrier</th><th scope=col>flight</th><th scope=col>tailnum</th><th scope=col>origin</th><th scope=col>dest</th><th scope=col>air_time</th><th scope=col>distance</th><th scope=col>hour</th><th scope=col>minute</th><th scope=col>time_hour</th></tr></thead>\n",
       "<tbody>\n",
       "\t<tr><td>2013               </td><td>1                  </td><td>1                  </td><td>557                </td><td>600                </td><td>-3                 </td><td>709                </td><td>723                </td><td>-14                </td><td>EV                 </td><td>5708               </td><td>N829AS             </td><td>LGA                </td><td>IAD                </td><td> 53                </td><td>229                </td><td>6                  </td><td>0                  </td><td>2013-01-01 06:00:00</td></tr>\n",
       "\t<tr><td>2013               </td><td>1                  </td><td>1                  </td><td>557                </td><td>600                </td><td>-3                 </td><td>838                </td><td>846                </td><td> -8                </td><td>B6                 </td><td>  79               </td><td>N593JB             </td><td>JFK                </td><td>MCO                </td><td>140                </td><td>944                </td><td>6                  </td><td>0                  </td><td>2013-01-01 06:00:00</td></tr>\n",
       "\t<tr><td>2013               </td><td>1                  </td><td>1                  </td><td>558                </td><td>600                </td><td>-2                 </td><td>753                </td><td>745                </td><td>  8                </td><td>AA                 </td><td> 301               </td><td>N3ALAA             </td><td>LGA                </td><td>ORD                </td><td>138                </td><td>733                </td><td>6                  </td><td>0                  </td><td>2013-01-01 06:00:00</td></tr>\n",
       "</tbody>\n",
       "</table>\n"
      ],
      "text/latex": [
       "\\begin{tabular}{r|lllllllllllllllllll}\n",
       " year & month & day & dep\\_time & sched\\_dep\\_time & dep\\_delay & arr\\_time & sched\\_arr\\_time & arr\\_delay & carrier & flight & tailnum & origin & dest & air\\_time & distance & hour & minute & time\\_hour\\\\\n",
       "\\hline\n",
       "\t 2013                & 1                   & 1                   & 557                 & 600                 & -3                  & 709                 & 723                 & -14                 & EV                  & 5708                & N829AS              & LGA                 & IAD                 &  53                 & 229                 & 6                   & 0                   & 2013-01-01 06:00:00\\\\\n",
       "\t 2013                & 1                   & 1                   & 557                 & 600                 & -3                  & 838                 & 846                 &  -8                 & B6                  &   79                & N593JB              & JFK                 & MCO                 & 140                 & 944                 & 6                   & 0                   & 2013-01-01 06:00:00\\\\\n",
       "\t 2013                & 1                   & 1                   & 558                 & 600                 & -2                  & 753                 & 745                 &   8                 & AA                  &  301                & N3ALAA              & LGA                 & ORD                 & 138                 & 733                 & 6                   & 0                   & 2013-01-01 06:00:00\\\\\n",
       "\\end{tabular}\n"
      ],
      "text/markdown": [
       "\n",
       "year | month | day | dep_time | sched_dep_time | dep_delay | arr_time | sched_arr_time | arr_delay | carrier | flight | tailnum | origin | dest | air_time | distance | hour | minute | time_hour | \n",
       "|---|---|---|\n",
       "| 2013                | 1                   | 1                   | 557                 | 600                 | -3                  | 709                 | 723                 | -14                 | EV                  | 5708                | N829AS              | LGA                 | IAD                 |  53                 | 229                 | 6                   | 0                   | 2013-01-01 06:00:00 | \n",
       "| 2013                | 1                   | 1                   | 557                 | 600                 | -3                  | 838                 | 846                 |  -8                 | B6                  |   79                | N593JB              | JFK                 | MCO                 | 140                 | 944                 | 6                   | 0                   | 2013-01-01 06:00:00 | \n",
       "| 2013                | 1                   | 1                   | 558                 | 600                 | -2                  | 753                 | 745                 |   8                 | AA                  |  301                | N3ALAA              | LGA                 | ORD                 | 138                 | 733                 | 6                   | 0                   | 2013-01-01 06:00:00 | \n",
       "\n",
       "\n"
      ],
      "text/plain": [
       "  year month day dep_time sched_dep_time dep_delay arr_time sched_arr_time\n",
       "1 2013 1     1   557      600            -3        709      723           \n",
       "2 2013 1     1   557      600            -3        838      846           \n",
       "3 2013 1     1   558      600            -2        753      745           \n",
       "  arr_delay carrier flight tailnum origin dest air_time distance hour minute\n",
       "1 -14       EV      5708   N829AS  LGA    IAD   53      229      6    0     \n",
       "2  -8       B6        79   N593JB  JFK    MCO  140      944      6    0     \n",
       "3   8       AA       301   N3ALAA  LGA    ORD  138      733      6    0     \n",
       "  time_hour          \n",
       "1 2013-01-01 06:00:00\n",
       "2 2013-01-01 06:00:00\n",
       "3 2013-01-01 06:00:00"
      ]
     },
     "metadata": {},
     "output_type": "display_data"
    }
   ],
   "source": [
    "slice(flights, 8:10)"
   ]
  },
  {
   "cell_type": "code",
   "execution_count": 29,
   "metadata": {},
   "outputs": [
    {
     "data": {
      "text/html": [
       "<table>\n",
       "<thead><tr><th scope=col>year</th><th scope=col>month</th><th scope=col>day</th><th scope=col>dep_time</th><th scope=col>sched_dep_time</th><th scope=col>dep_delay</th><th scope=col>arr_time</th><th scope=col>sched_arr_time</th><th scope=col>arr_delay</th><th scope=col>carrier</th><th scope=col>flight</th><th scope=col>tailnum</th><th scope=col>origin</th><th scope=col>dest</th><th scope=col>air_time</th><th scope=col>distance</th><th scope=col>hour</th><th scope=col>minute</th><th scope=col>time_hour</th></tr></thead>\n",
       "<tbody>\n",
       "\t<tr><td>2013               </td><td>1                  </td><td>1                  </td><td>1929               </td><td>1920               </td><td>  9                </td><td> 3                 </td><td>   7               </td><td> -4                </td><td>UA                 </td><td>1071               </td><td>N27205             </td><td>EWR                </td><td>BQN                </td><td>192                </td><td>1585               </td><td>19                 </td><td>20                 </td><td>2013-01-01 19:00:00</td></tr>\n",
       "\t<tr><td>2013               </td><td>1                  </td><td>1                  </td><td>2121               </td><td>2040               </td><td> 41                </td><td> 6                 </td><td>2323               </td><td> 43                </td><td>B6                 </td><td> 227               </td><td>N307JB             </td><td>EWR                </td><td>MCO                </td><td>143                </td><td> 937               </td><td>20                 </td><td>40                 </td><td>2013-01-01 20:00:00</td></tr>\n",
       "\t<tr><td>2013               </td><td>1                  </td><td>1                  </td><td>2058               </td><td>2100               </td><td> -2                </td><td> 8                 </td><td>2359               </td><td>  9                </td><td>UA                 </td><td>1241               </td><td>N27724             </td><td>EWR                </td><td>TPA                </td><td>159                </td><td> 997               </td><td>21                 </td><td> 0                 </td><td>2013-01-01 21:00:00</td></tr>\n",
       "\t<tr><td>2013               </td><td>1                  </td><td>1                  </td><td>2120               </td><td>2130               </td><td>-10                </td><td>16                 </td><td>  18               </td><td> -2                </td><td>B6                 </td><td> 383               </td><td>N603JB             </td><td>LGA                </td><td>FLL                </td><td>160                </td><td>1076               </td><td>21                 </td><td>30                 </td><td>2013-01-01 21:00:00</td></tr>\n",
       "\t<tr><td>2013               </td><td>1                  </td><td>1                  </td><td>2134               </td><td>2045               </td><td> 49                </td><td>20                 </td><td>2352               </td><td> 28                </td><td>UA                 </td><td>1106               </td><td>N27733             </td><td>EWR                </td><td>FLL                </td><td>152                </td><td>1065               </td><td>20                 </td><td>45                 </td><td>2013-01-01 20:00:00</td></tr>\n",
       "\t<tr><td>2013               </td><td>1                  </td><td>1                  </td><td>2312               </td><td>2000               </td><td>192                </td><td>21                 </td><td>2110               </td><td>191                </td><td>EV                 </td><td>4312               </td><td>N13958             </td><td>EWR                </td><td>DCA                </td><td> 44                </td><td> 199               </td><td>20                 </td><td> 0                 </td><td>2013-01-01 20:00:00</td></tr>\n",
       "</tbody>\n",
       "</table>\n"
      ],
      "text/latex": [
       "\\begin{tabular}{r|lllllllllllllllllll}\n",
       " year & month & day & dep\\_time & sched\\_dep\\_time & dep\\_delay & arr\\_time & sched\\_arr\\_time & arr\\_delay & carrier & flight & tailnum & origin & dest & air\\_time & distance & hour & minute & time\\_hour\\\\\n",
       "\\hline\n",
       "\t 2013                & 1                   & 1                   & 1929                & 1920                &   9                 &  3                  &    7                &  -4                 & UA                  & 1071                & N27205              & EWR                 & BQN                 & 192                 & 1585                & 19                  & 20                  & 2013-01-01 19:00:00\\\\\n",
       "\t 2013                & 1                   & 1                   & 2121                & 2040                &  41                 &  6                  & 2323                &  43                 & B6                  &  227                & N307JB              & EWR                 & MCO                 & 143                 &  937                & 20                  & 40                  & 2013-01-01 20:00:00\\\\\n",
       "\t 2013                & 1                   & 1                   & 2058                & 2100                &  -2                 &  8                  & 2359                &   9                 & UA                  & 1241                & N27724              & EWR                 & TPA                 & 159                 &  997                & 21                  &  0                  & 2013-01-01 21:00:00\\\\\n",
       "\t 2013                & 1                   & 1                   & 2120                & 2130                & -10                 & 16                  &   18                &  -2                 & B6                  &  383                & N603JB              & LGA                 & FLL                 & 160                 & 1076                & 21                  & 30                  & 2013-01-01 21:00:00\\\\\n",
       "\t 2013                & 1                   & 1                   & 2134                & 2045                &  49                 & 20                  & 2352                &  28                 & UA                  & 1106                & N27733              & EWR                 & FLL                 & 152                 & 1065                & 20                  & 45                  & 2013-01-01 20:00:00\\\\\n",
       "\t 2013                & 1                   & 1                   & 2312                & 2000                & 192                 & 21                  & 2110                & 191                 & EV                  & 4312                & N13958              & EWR                 & DCA                 &  44                 &  199                & 20                  &  0                  & 2013-01-01 20:00:00\\\\\n",
       "\\end{tabular}\n"
      ],
      "text/markdown": [
       "\n",
       "year | month | day | dep_time | sched_dep_time | dep_delay | arr_time | sched_arr_time | arr_delay | carrier | flight | tailnum | origin | dest | air_time | distance | hour | minute | time_hour | \n",
       "|---|---|---|---|---|---|\n",
       "| 2013                | 1                   | 1                   | 1929                | 1920                |   9                 |  3                  |    7                |  -4                 | UA                  | 1071                | N27205              | EWR                 | BQN                 | 192                 | 1585                | 19                  | 20                  | 2013-01-01 19:00:00 | \n",
       "| 2013                | 1                   | 1                   | 2121                | 2040                |  41                 |  6                  | 2323                |  43                 | B6                  |  227                | N307JB              | EWR                 | MCO                 | 143                 |  937                | 20                  | 40                  | 2013-01-01 20:00:00 | \n",
       "| 2013                | 1                   | 1                   | 2058                | 2100                |  -2                 |  8                  | 2359                |   9                 | UA                  | 1241                | N27724              | EWR                 | TPA                 | 159                 |  997                | 21                  |  0                  | 2013-01-01 21:00:00 | \n",
       "| 2013                | 1                   | 1                   | 2120                | 2130                | -10                 | 16                  |   18                |  -2                 | B6                  |  383                | N603JB              | LGA                 | FLL                 | 160                 | 1076                | 21                  | 30                  | 2013-01-01 21:00:00 | \n",
       "| 2013                | 1                   | 1                   | 2134                | 2045                |  49                 | 20                  | 2352                |  28                 | UA                  | 1106                | N27733              | EWR                 | FLL                 | 152                 | 1065                | 20                  | 45                  | 2013-01-01 20:00:00 | \n",
       "| 2013                | 1                   | 1                   | 2312                | 2000                | 192                 | 21                  | 2110                | 191                 | EV                  | 4312                | N13958              | EWR                 | DCA                 |  44                 |  199                | 20                  |  0                  | 2013-01-01 20:00:00 | \n",
       "\n",
       "\n"
      ],
      "text/plain": [
       "  year month day dep_time sched_dep_time dep_delay arr_time sched_arr_time\n",
       "1 2013 1     1   1929     1920             9        3          7          \n",
       "2 2013 1     1   2121     2040            41        6       2323          \n",
       "3 2013 1     1   2058     2100            -2        8       2359          \n",
       "4 2013 1     1   2120     2130           -10       16         18          \n",
       "5 2013 1     1   2134     2045            49       20       2352          \n",
       "6 2013 1     1   2312     2000           192       21       2110          \n",
       "  arr_delay carrier flight tailnum origin dest air_time distance hour minute\n",
       "1  -4       UA      1071   N27205  EWR    BQN  192      1585     19   20    \n",
       "2  43       B6       227   N307JB  EWR    MCO  143       937     20   40    \n",
       "3   9       UA      1241   N27724  EWR    TPA  159       997     21    0    \n",
       "4  -2       B6       383   N603JB  LGA    FLL  160      1076     21   30    \n",
       "5  28       UA      1106   N27733  EWR    FLL  152      1065     20   45    \n",
       "6 191       EV      4312   N13958  EWR    DCA   44       199     20    0    \n",
       "  time_hour          \n",
       "1 2013-01-01 19:00:00\n",
       "2 2013-01-01 20:00:00\n",
       "3 2013-01-01 21:00:00\n",
       "4 2013-01-01 21:00:00\n",
       "5 2013-01-01 20:00:00\n",
       "6 2013-01-01 20:00:00"
      ]
     },
     "metadata": {},
     "output_type": "display_data"
    }
   ],
   "source": [
    "  head(arrange(flights, year, month, day, arr_time))"
   ]
  },
  {
   "cell_type": "code",
   "execution_count": 31,
   "metadata": {},
   "outputs": [
    {
     "data": {
      "text/html": [
       "<table>\n",
       "<thead><tr><th scope=col>year</th><th scope=col>month</th><th scope=col>day</th><th scope=col>dep_time</th><th scope=col>sched_dep_time</th><th scope=col>dep_delay</th><th scope=col>arr_time</th><th scope=col>sched_arr_time</th><th scope=col>arr_delay</th><th scope=col>carrier</th><th scope=col>flight</th><th scope=col>tailnum</th><th scope=col>origin</th><th scope=col>dest</th><th scope=col>air_time</th><th scope=col>distance</th><th scope=col>hour</th><th scope=col>minute</th><th scope=col>time_hour</th></tr></thead>\n",
       "<tbody>\n",
       "\t<tr><td>2013               </td><td>1                  </td><td>1                  </td><td>2209               </td><td>2155               </td><td> 14                </td><td>2400               </td><td>2337               </td><td> 23                </td><td>B6                 </td><td>1109               </td><td>N216JB             </td><td>JFK                </td><td>RDU                </td><td> 86                </td><td> 427               </td><td>21                 </td><td>55                 </td><td>2013-01-01 21:00:00</td></tr>\n",
       "\t<tr><td>2013               </td><td>1                  </td><td>1                  </td><td>1952               </td><td>1930               </td><td> 22                </td><td>2358               </td><td>2207               </td><td> NA                </td><td>EV                 </td><td>4333               </td><td>N11194             </td><td>EWR                </td><td>TUL                </td><td> NA                </td><td>1215               </td><td>19                 </td><td>30                 </td><td>2013-01-01 19:00:00</td></tr>\n",
       "\t<tr><td>2013               </td><td>1                  </td><td>1                  </td><td>2025               </td><td>2028               </td><td> -3                </td><td>2358               </td><td>2351               </td><td>  7                </td><td>UA                 </td><td>1615               </td><td>N76516             </td><td>EWR                </td><td>AUS                </td><td>248                </td><td>1504               </td><td>20                 </td><td>28                 </td><td>2013-01-01 20:00:00</td></tr>\n",
       "\t<tr><td>2013               </td><td>1                  </td><td>1                  </td><td>2119               </td><td>1930               </td><td>109                </td><td>2358               </td><td>2136               </td><td>142                </td><td>EV                 </td><td>4543               </td><td>N13123             </td><td>EWR                </td><td>DSM                </td><td>200                </td><td>1017               </td><td>19                 </td><td>30                 </td><td>2013-01-01 19:00:00</td></tr>\n",
       "\t<tr><td>2013               </td><td>1                  </td><td>1                  </td><td>2052               </td><td>2045               </td><td>  7                </td><td>2357               </td><td>2359               </td><td> -2                </td><td>B6                 </td><td> 147               </td><td>N535JB             </td><td>JFK                </td><td>RSW                </td><td>163                </td><td>1074               </td><td>20                 </td><td>45                 </td><td>2013-01-01 20:00:00</td></tr>\n",
       "\t<tr><td>2013               </td><td>1                  </td><td>1                  </td><td>2030               </td><td>2035               </td><td> -5                </td><td>2354               </td><td>2342               </td><td> 12                </td><td>B6                 </td><td> 629               </td><td>N192JB             </td><td>JFK                </td><td>HOU                </td><td>245                </td><td>1428               </td><td>20                 </td><td>35                 </td><td>2013-01-01 20:00:00</td></tr>\n",
       "</tbody>\n",
       "</table>\n"
      ],
      "text/latex": [
       "\\begin{tabular}{r|lllllllllllllllllll}\n",
       " year & month & day & dep\\_time & sched\\_dep\\_time & dep\\_delay & arr\\_time & sched\\_arr\\_time & arr\\_delay & carrier & flight & tailnum & origin & dest & air\\_time & distance & hour & minute & time\\_hour\\\\\n",
       "\\hline\n",
       "\t 2013                & 1                   & 1                   & 2209                & 2155                &  14                 & 2400                & 2337                &  23                 & B6                  & 1109                & N216JB              & JFK                 & RDU                 &  86                 &  427                & 21                  & 55                  & 2013-01-01 21:00:00\\\\\n",
       "\t 2013                & 1                   & 1                   & 1952                & 1930                &  22                 & 2358                & 2207                &  NA                 & EV                  & 4333                & N11194              & EWR                 & TUL                 &  NA                 & 1215                & 19                  & 30                  & 2013-01-01 19:00:00\\\\\n",
       "\t 2013                & 1                   & 1                   & 2025                & 2028                &  -3                 & 2358                & 2351                &   7                 & UA                  & 1615                & N76516              & EWR                 & AUS                 & 248                 & 1504                & 20                  & 28                  & 2013-01-01 20:00:00\\\\\n",
       "\t 2013                & 1                   & 1                   & 2119                & 1930                & 109                 & 2358                & 2136                & 142                 & EV                  & 4543                & N13123              & EWR                 & DSM                 & 200                 & 1017                & 19                  & 30                  & 2013-01-01 19:00:00\\\\\n",
       "\t 2013                & 1                   & 1                   & 2052                & 2045                &   7                 & 2357                & 2359                &  -2                 & B6                  &  147                & N535JB              & JFK                 & RSW                 & 163                 & 1074                & 20                  & 45                  & 2013-01-01 20:00:00\\\\\n",
       "\t 2013                & 1                   & 1                   & 2030                & 2035                &  -5                 & 2354                & 2342                &  12                 & B6                  &  629                & N192JB              & JFK                 & HOU                 & 245                 & 1428                & 20                  & 35                  & 2013-01-01 20:00:00\\\\\n",
       "\\end{tabular}\n"
      ],
      "text/markdown": [
       "\n",
       "year | month | day | dep_time | sched_dep_time | dep_delay | arr_time | sched_arr_time | arr_delay | carrier | flight | tailnum | origin | dest | air_time | distance | hour | minute | time_hour | \n",
       "|---|---|---|---|---|---|\n",
       "| 2013                | 1                   | 1                   | 2209                | 2155                |  14                 | 2400                | 2337                |  23                 | B6                  | 1109                | N216JB              | JFK                 | RDU                 |  86                 |  427                | 21                  | 55                  | 2013-01-01 21:00:00 | \n",
       "| 2013                | 1                   | 1                   | 1952                | 1930                |  22                 | 2358                | 2207                |  NA                 | EV                  | 4333                | N11194              | EWR                 | TUL                 |  NA                 | 1215                | 19                  | 30                  | 2013-01-01 19:00:00 | \n",
       "| 2013                | 1                   | 1                   | 2025                | 2028                |  -3                 | 2358                | 2351                |   7                 | UA                  | 1615                | N76516              | EWR                 | AUS                 | 248                 | 1504                | 20                  | 28                  | 2013-01-01 20:00:00 | \n",
       "| 2013                | 1                   | 1                   | 2119                | 1930                | 109                 | 2358                | 2136                | 142                 | EV                  | 4543                | N13123              | EWR                 | DSM                 | 200                 | 1017                | 19                  | 30                  | 2013-01-01 19:00:00 | \n",
       "| 2013                | 1                   | 1                   | 2052                | 2045                |   7                 | 2357                | 2359                |  -2                 | B6                  |  147                | N535JB              | JFK                 | RSW                 | 163                 | 1074                | 20                  | 45                  | 2013-01-01 20:00:00 | \n",
       "| 2013                | 1                   | 1                   | 2030                | 2035                |  -5                 | 2354                | 2342                |  12                 | B6                  |  629                | N192JB              | JFK                 | HOU                 | 245                 | 1428                | 20                  | 35                  | 2013-01-01 20:00:00 | \n",
       "\n",
       "\n"
      ],
      "text/plain": [
       "  year month day dep_time sched_dep_time dep_delay arr_time sched_arr_time\n",
       "1 2013 1     1   2209     2155            14       2400     2337          \n",
       "2 2013 1     1   1952     1930            22       2358     2207          \n",
       "3 2013 1     1   2025     2028            -3       2358     2351          \n",
       "4 2013 1     1   2119     1930           109       2358     2136          \n",
       "5 2013 1     1   2052     2045             7       2357     2359          \n",
       "6 2013 1     1   2030     2035            -5       2354     2342          \n",
       "  arr_delay carrier flight tailnum origin dest air_time distance hour minute\n",
       "1  23       B6      1109   N216JB  JFK    RDU   86       427     21   55    \n",
       "2  NA       EV      4333   N11194  EWR    TUL   NA      1215     19   30    \n",
       "3   7       UA      1615   N76516  EWR    AUS  248      1504     20   28    \n",
       "4 142       EV      4543   N13123  EWR    DSM  200      1017     19   30    \n",
       "5  -2       B6       147   N535JB  JFK    RSW  163      1074     20   45    \n",
       "6  12       B6       629   N192JB  JFK    HOU  245      1428     20   35    \n",
       "  time_hour          \n",
       "1 2013-01-01 21:00:00\n",
       "2 2013-01-01 19:00:00\n",
       "3 2013-01-01 20:00:00\n",
       "4 2013-01-01 19:00:00\n",
       "5 2013-01-01 20:00:00\n",
       "6 2013-01-01 20:00:00"
      ]
     },
     "metadata": {},
     "output_type": "display_data"
    }
   ],
   "source": [
    "head(arrange(flights, year, month, day, desc(arr_time)))"
   ]
  },
  {
   "cell_type": "code",
   "execution_count": 32,
   "metadata": {},
   "outputs": [
    {
     "data": {
      "text/html": [
       "<table>\n",
       "<thead><tr><th scope=col>carrier</th><th scope=col>arr_time</th><th scope=col>month</th></tr></thead>\n",
       "<tbody>\n",
       "\t<tr><td>UA  </td><td> 830</td><td>1   </td></tr>\n",
       "\t<tr><td>UA  </td><td> 850</td><td>1   </td></tr>\n",
       "\t<tr><td>AA  </td><td> 923</td><td>1   </td></tr>\n",
       "\t<tr><td>B6  </td><td>1004</td><td>1   </td></tr>\n",
       "\t<tr><td>DL  </td><td> 812</td><td>1   </td></tr>\n",
       "\t<tr><td>UA  </td><td> 740</td><td>1   </td></tr>\n",
       "</tbody>\n",
       "</table>\n"
      ],
      "text/latex": [
       "\\begin{tabular}{r|lll}\n",
       " carrier & arr\\_time & month\\\\\n",
       "\\hline\n",
       "\t UA   &  830 & 1   \\\\\n",
       "\t UA   &  850 & 1   \\\\\n",
       "\t AA   &  923 & 1   \\\\\n",
       "\t B6   & 1004 & 1   \\\\\n",
       "\t DL   &  812 & 1   \\\\\n",
       "\t UA   &  740 & 1   \\\\\n",
       "\\end{tabular}\n"
      ],
      "text/markdown": [
       "\n",
       "carrier | arr_time | month | \n",
       "|---|---|---|---|---|---|\n",
       "| UA   |  830 | 1    | \n",
       "| UA   |  850 | 1    | \n",
       "| AA   |  923 | 1    | \n",
       "| B6   | 1004 | 1    | \n",
       "| DL   |  812 | 1    | \n",
       "| UA   |  740 | 1    | \n",
       "\n",
       "\n"
      ],
      "text/plain": [
       "  carrier arr_time month\n",
       "1 UA       830     1    \n",
       "2 UA       850     1    \n",
       "3 AA       923     1    \n",
       "4 B6      1004     1    \n",
       "5 DL       812     1    \n",
       "6 UA       740     1    "
      ]
     },
     "metadata": {},
     "output_type": "display_data"
    }
   ],
   "source": [
    "head(select(flights, carrier, arr_time, month))"
   ]
  },
  {
   "cell_type": "code",
   "execution_count": 33,
   "metadata": {},
   "outputs": [
    {
     "data": {
      "text/html": [
       "<table>\n",
       "<thead><tr><th scope=col>year</th><th scope=col>month</th><th scope=col>day</th><th scope=col>dep_time</th><th scope=col>sched_dep_time</th><th scope=col>dep_delay</th><th scope=col>arr_time</th><th scope=col>sched_arr_time</th><th scope=col>arr_delay</th><th scope=col>airline_carrier</th><th scope=col>flight</th><th scope=col>tailnum</th><th scope=col>origin</th><th scope=col>dest</th><th scope=col>air_time</th><th scope=col>distance</th><th scope=col>hour</th><th scope=col>minute</th><th scope=col>time_hour</th></tr></thead>\n",
       "<tbody>\n",
       "\t<tr><td>2013               </td><td>1                  </td><td>1                  </td><td>517                </td><td>515                </td><td> 2                 </td><td> 830               </td><td> 819               </td><td> 11                </td><td>UA                 </td><td>1545               </td><td>N14228             </td><td>EWR                </td><td>IAH                </td><td>227                </td><td>1400               </td><td>5                  </td><td>15                 </td><td>2013-01-01 05:00:00</td></tr>\n",
       "\t<tr><td>2013               </td><td>1                  </td><td>1                  </td><td>533                </td><td>529                </td><td> 4                 </td><td> 850               </td><td> 830               </td><td> 20                </td><td>UA                 </td><td>1714               </td><td>N24211             </td><td>LGA                </td><td>IAH                </td><td>227                </td><td>1416               </td><td>5                  </td><td>29                 </td><td>2013-01-01 05:00:00</td></tr>\n",
       "\t<tr><td>2013               </td><td>1                  </td><td>1                  </td><td>542                </td><td>540                </td><td> 2                 </td><td> 923               </td><td> 850               </td><td> 33                </td><td>AA                 </td><td>1141               </td><td>N619AA             </td><td>JFK                </td><td>MIA                </td><td>160                </td><td>1089               </td><td>5                  </td><td>40                 </td><td>2013-01-01 05:00:00</td></tr>\n",
       "\t<tr><td>2013               </td><td>1                  </td><td>1                  </td><td>544                </td><td>545                </td><td>-1                 </td><td>1004               </td><td>1022               </td><td>-18                </td><td>B6                 </td><td> 725               </td><td>N804JB             </td><td>JFK                </td><td>BQN                </td><td>183                </td><td>1576               </td><td>5                  </td><td>45                 </td><td>2013-01-01 05:00:00</td></tr>\n",
       "\t<tr><td>2013               </td><td>1                  </td><td>1                  </td><td>554                </td><td>600                </td><td>-6                 </td><td> 812               </td><td> 837               </td><td>-25                </td><td>DL                 </td><td> 461               </td><td>N668DN             </td><td>LGA                </td><td>ATL                </td><td>116                </td><td> 762               </td><td>6                  </td><td> 0                 </td><td>2013-01-01 06:00:00</td></tr>\n",
       "\t<tr><td>2013               </td><td>1                  </td><td>1                  </td><td>554                </td><td>558                </td><td>-4                 </td><td> 740               </td><td> 728               </td><td> 12                </td><td>UA                 </td><td>1696               </td><td>N39463             </td><td>EWR                </td><td>ORD                </td><td>150                </td><td> 719               </td><td>5                  </td><td>58                 </td><td>2013-01-01 05:00:00</td></tr>\n",
       "</tbody>\n",
       "</table>\n"
      ],
      "text/latex": [
       "\\begin{tabular}{r|lllllllllllllllllll}\n",
       " year & month & day & dep\\_time & sched\\_dep\\_time & dep\\_delay & arr\\_time & sched\\_arr\\_time & arr\\_delay & airline\\_carrier & flight & tailnum & origin & dest & air\\_time & distance & hour & minute & time\\_hour\\\\\n",
       "\\hline\n",
       "\t 2013                & 1                   & 1                   & 517                 & 515                 &  2                  &  830                &  819                &  11                 & UA                  & 1545                & N14228              & EWR                 & IAH                 & 227                 & 1400                & 5                   & 15                  & 2013-01-01 05:00:00\\\\\n",
       "\t 2013                & 1                   & 1                   & 533                 & 529                 &  4                  &  850                &  830                &  20                 & UA                  & 1714                & N24211              & LGA                 & IAH                 & 227                 & 1416                & 5                   & 29                  & 2013-01-01 05:00:00\\\\\n",
       "\t 2013                & 1                   & 1                   & 542                 & 540                 &  2                  &  923                &  850                &  33                 & AA                  & 1141                & N619AA              & JFK                 & MIA                 & 160                 & 1089                & 5                   & 40                  & 2013-01-01 05:00:00\\\\\n",
       "\t 2013                & 1                   & 1                   & 544                 & 545                 & -1                  & 1004                & 1022                & -18                 & B6                  &  725                & N804JB              & JFK                 & BQN                 & 183                 & 1576                & 5                   & 45                  & 2013-01-01 05:00:00\\\\\n",
       "\t 2013                & 1                   & 1                   & 554                 & 600                 & -6                  &  812                &  837                & -25                 & DL                  &  461                & N668DN              & LGA                 & ATL                 & 116                 &  762                & 6                   &  0                  & 2013-01-01 06:00:00\\\\\n",
       "\t 2013                & 1                   & 1                   & 554                 & 558                 & -4                  &  740                &  728                &  12                 & UA                  & 1696                & N39463              & EWR                 & ORD                 & 150                 &  719                & 5                   & 58                  & 2013-01-01 05:00:00\\\\\n",
       "\\end{tabular}\n"
      ],
      "text/markdown": [
       "\n",
       "year | month | day | dep_time | sched_dep_time | dep_delay | arr_time | sched_arr_time | arr_delay | airline_carrier | flight | tailnum | origin | dest | air_time | distance | hour | minute | time_hour | \n",
       "|---|---|---|---|---|---|\n",
       "| 2013                | 1                   | 1                   | 517                 | 515                 |  2                  |  830                |  819                |  11                 | UA                  | 1545                | N14228              | EWR                 | IAH                 | 227                 | 1400                | 5                   | 15                  | 2013-01-01 05:00:00 | \n",
       "| 2013                | 1                   | 1                   | 533                 | 529                 |  4                  |  850                |  830                |  20                 | UA                  | 1714                | N24211              | LGA                 | IAH                 | 227                 | 1416                | 5                   | 29                  | 2013-01-01 05:00:00 | \n",
       "| 2013                | 1                   | 1                   | 542                 | 540                 |  2                  |  923                |  850                |  33                 | AA                  | 1141                | N619AA              | JFK                 | MIA                 | 160                 | 1089                | 5                   | 40                  | 2013-01-01 05:00:00 | \n",
       "| 2013                | 1                   | 1                   | 544                 | 545                 | -1                  | 1004                | 1022                | -18                 | B6                  |  725                | N804JB              | JFK                 | BQN                 | 183                 | 1576                | 5                   | 45                  | 2013-01-01 05:00:00 | \n",
       "| 2013                | 1                   | 1                   | 554                 | 600                 | -6                  |  812                |  837                | -25                 | DL                  |  461                | N668DN              | LGA                 | ATL                 | 116                 |  762                | 6                   |  0                  | 2013-01-01 06:00:00 | \n",
       "| 2013                | 1                   | 1                   | 554                 | 558                 | -4                  |  740                |  728                |  12                 | UA                  | 1696                | N39463              | EWR                 | ORD                 | 150                 |  719                | 5                   | 58                  | 2013-01-01 05:00:00 | \n",
       "\n",
       "\n"
      ],
      "text/plain": [
       "  year month day dep_time sched_dep_time dep_delay arr_time sched_arr_time\n",
       "1 2013 1     1   517      515             2         830      819          \n",
       "2 2013 1     1   533      529             4         850      830          \n",
       "3 2013 1     1   542      540             2         923      850          \n",
       "4 2013 1     1   544      545            -1        1004     1022          \n",
       "5 2013 1     1   554      600            -6         812      837          \n",
       "6 2013 1     1   554      558            -4         740      728          \n",
       "  arr_delay airline_carrier flight tailnum origin dest air_time distance hour\n",
       "1  11       UA              1545   N14228  EWR    IAH  227      1400     5   \n",
       "2  20       UA              1714   N24211  LGA    IAH  227      1416     5   \n",
       "3  33       AA              1141   N619AA  JFK    MIA  160      1089     5   \n",
       "4 -18       B6               725   N804JB  JFK    BQN  183      1576     5   \n",
       "5 -25       DL               461   N668DN  LGA    ATL  116       762     6   \n",
       "6  12       UA              1696   N39463  EWR    ORD  150       719     5   \n",
       "  minute time_hour          \n",
       "1 15     2013-01-01 05:00:00\n",
       "2 29     2013-01-01 05:00:00\n",
       "3 40     2013-01-01 05:00:00\n",
       "4 45     2013-01-01 05:00:00\n",
       "5  0     2013-01-01 06:00:00\n",
       "6 58     2013-01-01 05:00:00"
      ]
     },
     "metadata": {},
     "output_type": "display_data"
    }
   ],
   "source": [
    "head(rename(flights, airline_carrier = carrier))"
   ]
  },
  {
   "cell_type": "code",
   "execution_count": 34,
   "metadata": {},
   "outputs": [
    {
     "data": {
      "text/html": [
       "<table>\n",
       "<thead><tr><th scope=col>carrier</th></tr></thead>\n",
       "<tbody>\n",
       "\t<tr><td>UA</td></tr>\n",
       "\t<tr><td>AA</td></tr>\n",
       "\t<tr><td>B6</td></tr>\n",
       "\t<tr><td>DL</td></tr>\n",
       "\t<tr><td>EV</td></tr>\n",
       "\t<tr><td>MQ</td></tr>\n",
       "\t<tr><td>US</td></tr>\n",
       "\t<tr><td>WN</td></tr>\n",
       "\t<tr><td>VX</td></tr>\n",
       "\t<tr><td>FL</td></tr>\n",
       "\t<tr><td>AS</td></tr>\n",
       "\t<tr><td>9E</td></tr>\n",
       "\t<tr><td>F9</td></tr>\n",
       "\t<tr><td>HA</td></tr>\n",
       "\t<tr><td>YV</td></tr>\n",
       "\t<tr><td>OO</td></tr>\n",
       "</tbody>\n",
       "</table>\n"
      ],
      "text/latex": [
       "\\begin{tabular}{r|l}\n",
       " carrier\\\\\n",
       "\\hline\n",
       "\t UA\\\\\n",
       "\t AA\\\\\n",
       "\t B6\\\\\n",
       "\t DL\\\\\n",
       "\t EV\\\\\n",
       "\t MQ\\\\\n",
       "\t US\\\\\n",
       "\t WN\\\\\n",
       "\t VX\\\\\n",
       "\t FL\\\\\n",
       "\t AS\\\\\n",
       "\t 9E\\\\\n",
       "\t F9\\\\\n",
       "\t HA\\\\\n",
       "\t YV\\\\\n",
       "\t OO\\\\\n",
       "\\end{tabular}\n"
      ],
      "text/markdown": [
       "\n",
       "carrier | \n",
       "|---|---|---|---|---|---|---|---|---|---|---|---|---|---|---|---|\n",
       "| UA | \n",
       "| AA | \n",
       "| B6 | \n",
       "| DL | \n",
       "| EV | \n",
       "| MQ | \n",
       "| US | \n",
       "| WN | \n",
       "| VX | \n",
       "| FL | \n",
       "| AS | \n",
       "| 9E | \n",
       "| F9 | \n",
       "| HA | \n",
       "| YV | \n",
       "| OO | \n",
       "\n",
       "\n"
      ],
      "text/plain": [
       "   carrier\n",
       "1  UA     \n",
       "2  AA     \n",
       "3  B6     \n",
       "4  DL     \n",
       "5  EV     \n",
       "6  MQ     \n",
       "7  US     \n",
       "8  WN     \n",
       "9  VX     \n",
       "10 FL     \n",
       "11 AS     \n",
       "12 9E     \n",
       "13 F9     \n",
       "14 HA     \n",
       "15 YV     \n",
       "16 OO     "
      ]
     },
     "metadata": {},
     "output_type": "display_data"
    }
   ],
   "source": [
    "distinct(select(flights, carrier))"
   ]
  },
  {
   "cell_type": "code",
   "execution_count": 35,
   "metadata": {},
   "outputs": [
    {
     "data": {
      "text/html": [
       "<table>\n",
       "<thead><tr><th scope=col>year</th><th scope=col>month</th><th scope=col>day</th><th scope=col>dep_time</th><th scope=col>sched_dep_time</th><th scope=col>dep_delay</th><th scope=col>arr_time</th><th scope=col>sched_arr_time</th><th scope=col>arr_delay</th><th scope=col>carrier</th><th scope=col>flight</th><th scope=col>tailnum</th><th scope=col>origin</th><th scope=col>dest</th><th scope=col>air_time</th><th scope=col>distance</th><th scope=col>hour</th><th scope=col>minute</th><th scope=col>time_hour</th><th scope=col>new_col</th></tr></thead>\n",
       "<tbody>\n",
       "\t<tr><td>2013               </td><td>1                  </td><td>1                  </td><td>517                </td><td>515                </td><td> 2                 </td><td> 830               </td><td> 819               </td><td> 11                </td><td>UA                 </td><td>1545               </td><td>N14228             </td><td>EWR                </td><td>IAH                </td><td>227                </td><td>1400               </td><td>5                  </td><td>15                 </td><td>2013-01-01 05:00:00</td><td>  9                </td></tr>\n",
       "\t<tr><td>2013               </td><td>1                  </td><td>1                  </td><td>533                </td><td>529                </td><td> 4                 </td><td> 850               </td><td> 830               </td><td> 20                </td><td>UA                 </td><td>1714               </td><td>N24211             </td><td>LGA                </td><td>IAH                </td><td>227                </td><td>1416               </td><td>5                  </td><td>29                 </td><td>2013-01-01 05:00:00</td><td> 16                </td></tr>\n",
       "\t<tr><td>2013               </td><td>1                  </td><td>1                  </td><td>542                </td><td>540                </td><td> 2                 </td><td> 923               </td><td> 850               </td><td> 33                </td><td>AA                 </td><td>1141               </td><td>N619AA             </td><td>JFK                </td><td>MIA                </td><td>160                </td><td>1089               </td><td>5                  </td><td>40                 </td><td>2013-01-01 05:00:00</td><td> 31                </td></tr>\n",
       "\t<tr><td>2013               </td><td>1                  </td><td>1                  </td><td>544                </td><td>545                </td><td>-1                 </td><td>1004               </td><td>1022               </td><td>-18                </td><td>B6                 </td><td> 725               </td><td>N804JB             </td><td>JFK                </td><td>BQN                </td><td>183                </td><td>1576               </td><td>5                  </td><td>45                 </td><td>2013-01-01 05:00:00</td><td>-17                </td></tr>\n",
       "\t<tr><td>2013               </td><td>1                  </td><td>1                  </td><td>554                </td><td>600                </td><td>-6                 </td><td> 812               </td><td> 837               </td><td>-25                </td><td>DL                 </td><td> 461               </td><td>N668DN             </td><td>LGA                </td><td>ATL                </td><td>116                </td><td> 762               </td><td>6                  </td><td> 0                 </td><td>2013-01-01 06:00:00</td><td>-19                </td></tr>\n",
       "\t<tr><td>2013               </td><td>1                  </td><td>1                  </td><td>554                </td><td>558                </td><td>-4                 </td><td> 740               </td><td> 728               </td><td> 12                </td><td>UA                 </td><td>1696               </td><td>N39463             </td><td>EWR                </td><td>ORD                </td><td>150                </td><td> 719               </td><td>5                  </td><td>58                 </td><td>2013-01-01 05:00:00</td><td> 16                </td></tr>\n",
       "\t<tr><td>2013               </td><td>1                  </td><td>1                  </td><td>555                </td><td>600                </td><td>-5                 </td><td> 913               </td><td> 854               </td><td> 19                </td><td>B6                 </td><td> 507               </td><td>N516JB             </td><td>EWR                </td><td>FLL                </td><td>158                </td><td>1065               </td><td>6                  </td><td> 0                 </td><td>2013-01-01 06:00:00</td><td> 24                </td></tr>\n",
       "\t<tr><td>2013               </td><td>1                  </td><td>1                  </td><td>557                </td><td>600                </td><td>-3                 </td><td> 709               </td><td> 723               </td><td>-14                </td><td>EV                 </td><td>5708               </td><td>N829AS             </td><td>LGA                </td><td>IAD                </td><td> 53                </td><td> 229               </td><td>6                  </td><td> 0                 </td><td>2013-01-01 06:00:00</td><td>-11                </td></tr>\n",
       "\t<tr><td>2013               </td><td>1                  </td><td>1                  </td><td>557                </td><td>600                </td><td>-3                 </td><td> 838               </td><td> 846               </td><td> -8                </td><td>B6                 </td><td>  79               </td><td>N593JB             </td><td>JFK                </td><td>MCO                </td><td>140                </td><td> 944               </td><td>6                  </td><td> 0                 </td><td>2013-01-01 06:00:00</td><td> -5                </td></tr>\n",
       "\t<tr><td>2013               </td><td>1                  </td><td>1                  </td><td>558                </td><td>600                </td><td>-2                 </td><td> 753               </td><td> 745               </td><td>  8                </td><td>AA                 </td><td> 301               </td><td>N3ALAA             </td><td>LGA                </td><td>ORD                </td><td>138                </td><td> 733               </td><td>6                  </td><td> 0                 </td><td>2013-01-01 06:00:00</td><td> 10                </td></tr>\n",
       "\t<tr><td>2013               </td><td>1                  </td><td>1                  </td><td>558                </td><td>600                </td><td>-2                 </td><td> 849               </td><td> 851               </td><td> -2                </td><td>B6                 </td><td>  49               </td><td>N793JB             </td><td>JFK                </td><td>PBI                </td><td>149                </td><td>1028               </td><td>6                  </td><td> 0                 </td><td>2013-01-01 06:00:00</td><td>  0                </td></tr>\n",
       "\t<tr><td>2013               </td><td>1                  </td><td>1                  </td><td>558                </td><td>600                </td><td>-2                 </td><td> 853               </td><td> 856               </td><td> -3                </td><td>B6                 </td><td>  71               </td><td>N657JB             </td><td>JFK                </td><td>TPA                </td><td>158                </td><td>1005               </td><td>6                  </td><td> 0                 </td><td>2013-01-01 06:00:00</td><td> -1                </td></tr>\n",
       "\t<tr><td>2013               </td><td>1                  </td><td>1                  </td><td>558                </td><td>600                </td><td>-2                 </td><td> 924               </td><td> 917               </td><td>  7                </td><td>UA                 </td><td> 194               </td><td>N29129             </td><td>JFK                </td><td>LAX                </td><td>345                </td><td>2475               </td><td>6                  </td><td> 0                 </td><td>2013-01-01 06:00:00</td><td>  9                </td></tr>\n",
       "\t<tr><td>2013               </td><td>1                  </td><td>1                  </td><td>558                </td><td>600                </td><td>-2                 </td><td> 923               </td><td> 937               </td><td>-14                </td><td>UA                 </td><td>1124               </td><td>N53441             </td><td>EWR                </td><td>SFO                </td><td>361                </td><td>2565               </td><td>6                  </td><td> 0                 </td><td>2013-01-01 06:00:00</td><td>-12                </td></tr>\n",
       "\t<tr><td>2013               </td><td>1                  </td><td>1                  </td><td>559                </td><td>600                </td><td>-1                 </td><td> 941               </td><td> 910               </td><td> 31                </td><td>AA                 </td><td> 707               </td><td>N3DUAA             </td><td>LGA                </td><td>DFW                </td><td>257                </td><td>1389               </td><td>6                  </td><td> 0                 </td><td>2013-01-01 06:00:00</td><td> 32                </td></tr>\n",
       "\t<tr><td>2013               </td><td>1                  </td><td>1                  </td><td>559                </td><td>559                </td><td> 0                 </td><td> 702               </td><td> 706               </td><td> -4                </td><td>B6                 </td><td>1806               </td><td>N708JB             </td><td>JFK                </td><td>BOS                </td><td> 44                </td><td> 187               </td><td>5                  </td><td>59                 </td><td>2013-01-01 05:00:00</td><td> -4                </td></tr>\n",
       "\t<tr><td>2013               </td><td>1                  </td><td>1                  </td><td>559                </td><td>600                </td><td>-1                 </td><td> 854               </td><td> 902               </td><td> -8                </td><td>UA                 </td><td>1187               </td><td>N76515             </td><td>EWR                </td><td>LAS                </td><td>337                </td><td>2227               </td><td>6                  </td><td> 0                 </td><td>2013-01-01 06:00:00</td><td> -7                </td></tr>\n",
       "\t<tr><td>2013               </td><td>1                  </td><td>1                  </td><td>600                </td><td>600                </td><td> 0                 </td><td> 851               </td><td> 858               </td><td> -7                </td><td>B6                 </td><td> 371               </td><td>N595JB             </td><td>LGA                </td><td>FLL                </td><td>152                </td><td>1076               </td><td>6                  </td><td> 0                 </td><td>2013-01-01 06:00:00</td><td> -7                </td></tr>\n",
       "\t<tr><td>2013               </td><td>1                  </td><td>1                  </td><td>600                </td><td>600                </td><td> 0                 </td><td> 837               </td><td> 825               </td><td> 12                </td><td>MQ                 </td><td>4650               </td><td>N542MQ             </td><td>LGA                </td><td>ATL                </td><td>134                </td><td> 762               </td><td>6                  </td><td> 0                 </td><td>2013-01-01 06:00:00</td><td> 12                </td></tr>\n",
       "\t<tr><td>2013               </td><td>1                  </td><td>1                  </td><td>601                </td><td>600                </td><td> 1                 </td><td> 844               </td><td> 850               </td><td> -6                </td><td>B6                 </td><td> 343               </td><td>N644JB             </td><td>EWR                </td><td>PBI                </td><td>147                </td><td>1023               </td><td>6                  </td><td> 0                 </td><td>2013-01-01 06:00:00</td><td> -7                </td></tr>\n",
       "\t<tr><td>2013               </td><td>1                  </td><td>1                  </td><td>602                </td><td>610                </td><td>-8                 </td><td> 812               </td><td> 820               </td><td> -8                </td><td>DL                 </td><td>1919               </td><td>N971DL             </td><td>LGA                </td><td>MSP                </td><td>170                </td><td>1020               </td><td>6                  </td><td>10                 </td><td>2013-01-01 06:00:00</td><td>  0                </td></tr>\n",
       "\t<tr><td>2013               </td><td>1                  </td><td>1                  </td><td>602                </td><td>605                </td><td>-3                 </td><td> 821               </td><td> 805               </td><td> 16                </td><td>MQ                 </td><td>4401               </td><td>N730MQ             </td><td>LGA                </td><td>DTW                </td><td>105                </td><td> 502               </td><td>6                  </td><td> 5                 </td><td>2013-01-01 06:00:00</td><td> 19                </td></tr>\n",
       "\t<tr><td>2013               </td><td>1                  </td><td>1                  </td><td>606                </td><td>610                </td><td>-4                 </td><td> 858               </td><td> 910               </td><td>-12                </td><td>AA                 </td><td>1895               </td><td>N633AA             </td><td>EWR                </td><td>MIA                </td><td>152                </td><td>1085               </td><td>6                  </td><td>10                 </td><td>2013-01-01 06:00:00</td><td> -8                </td></tr>\n",
       "\t<tr><td>2013               </td><td>1                  </td><td>1                  </td><td>606                </td><td>610                </td><td>-4                 </td><td> 837               </td><td> 845               </td><td> -8                </td><td>DL                 </td><td>1743               </td><td>N3739P             </td><td>JFK                </td><td>ATL                </td><td>128                </td><td> 760               </td><td>6                  </td><td>10                 </td><td>2013-01-01 06:00:00</td><td> -4                </td></tr>\n",
       "\t<tr><td>2013               </td><td>1                  </td><td>1                  </td><td>607                </td><td>607                </td><td> 0                 </td><td> 858               </td><td> 915               </td><td>-17                </td><td>UA                 </td><td>1077               </td><td>N53442             </td><td>EWR                </td><td>MIA                </td><td>157                </td><td>1085               </td><td>6                  </td><td> 7                 </td><td>2013-01-01 06:00:00</td><td>-17                </td></tr>\n",
       "\t<tr><td>2013               </td><td>1                  </td><td>1                  </td><td>608                </td><td>600                </td><td> 8                 </td><td> 807               </td><td> 735               </td><td> 32                </td><td>MQ                 </td><td>3768               </td><td>N9EAMQ             </td><td>EWR                </td><td>ORD                </td><td>139                </td><td> 719               </td><td>6                  </td><td> 0                 </td><td>2013-01-01 06:00:00</td><td> 24                </td></tr>\n",
       "\t<tr><td>2013               </td><td>1                  </td><td>1                  </td><td>611                </td><td>600                </td><td>11                 </td><td> 945               </td><td> 931               </td><td> 14                </td><td>UA                 </td><td> 303               </td><td>N532UA             </td><td>JFK                </td><td>SFO                </td><td>366                </td><td>2586               </td><td>6                  </td><td> 0                 </td><td>2013-01-01 06:00:00</td><td>  3                </td></tr>\n",
       "\t<tr><td>2013               </td><td>1                  </td><td>1                  </td><td>613                </td><td>610                </td><td> 3                 </td><td> 925               </td><td> 921               </td><td>  4                </td><td>B6                 </td><td> 135               </td><td>N635JB             </td><td>JFK                </td><td>RSW                </td><td>175                </td><td>1074               </td><td>6                  </td><td>10                 </td><td>2013-01-01 06:00:00</td><td>  1                </td></tr>\n",
       "\t<tr><td>2013               </td><td>1                  </td><td>1                  </td><td>615                </td><td>615                </td><td> 0                 </td><td>1039               </td><td>1100               </td><td>-21                </td><td>B6                 </td><td> 709               </td><td>N794JB             </td><td>JFK                </td><td>SJU                </td><td>182                </td><td>1598               </td><td>6                  </td><td>15                 </td><td>2013-01-01 06:00:00</td><td>-21                </td></tr>\n",
       "\t<tr><td>2013               </td><td>1                  </td><td>1                  </td><td>615                </td><td>615                </td><td> 0                 </td><td> 833               </td><td> 842               </td><td> -9                </td><td>DL                 </td><td> 575               </td><td>N326NB             </td><td>EWR                </td><td>ATL                </td><td>120                </td><td> 746               </td><td>6                  </td><td>15                 </td><td>2013-01-01 06:00:00</td><td> -9                </td></tr>\n",
       "\t<tr><td>⋮</td><td>⋮</td><td>⋮</td><td>⋮</td><td>⋮</td><td>⋮</td><td>⋮</td><td>⋮</td><td>⋮</td><td>⋮</td><td>⋮</td><td>⋮</td><td>⋮</td><td>⋮</td><td>⋮</td><td>⋮</td><td>⋮</td><td>⋮</td><td>⋮</td><td>⋮</td></tr>\n",
       "\t<tr><td>2013               </td><td>9                  </td><td>30                 </td><td>2123               </td><td>2125               </td><td> -2                </td><td>2223               </td><td>2247               </td><td>-24                </td><td>EV                 </td><td>5489               </td><td>N712EV             </td><td>LGA                </td><td>CHO                </td><td> 45                </td><td> 305               </td><td>21                 </td><td>25                 </td><td>2013-09-30 21:00:00</td><td>-22                </td></tr>\n",
       "\t<tr><td>2013               </td><td>9                  </td><td>30                 </td><td>2127               </td><td>2129               </td><td> -2                </td><td>2314               </td><td>2323               </td><td> -9                </td><td>EV                 </td><td>3833               </td><td>N16546             </td><td>EWR                </td><td>CLT                </td><td> 72                </td><td> 529               </td><td>21                 </td><td>29                 </td><td>2013-09-30 21:00:00</td><td> -7                </td></tr>\n",
       "\t<tr><td>2013               </td><td>9                  </td><td>30                 </td><td>2128               </td><td>2130               </td><td> -2                </td><td>2328               </td><td>2359               </td><td>-31                </td><td>B6                 </td><td>  97               </td><td>N807JB             </td><td>JFK                </td><td>DEN                </td><td>213                </td><td>1626               </td><td>21                 </td><td>30                 </td><td>2013-09-30 21:00:00</td><td>-29                </td></tr>\n",
       "\t<tr><td>2013               </td><td>9                  </td><td>30                 </td><td>2129               </td><td>2059               </td><td> 30                </td><td>2230               </td><td>2232               </td><td> -2                </td><td>EV                 </td><td>5048               </td><td>N751EV             </td><td>LGA                </td><td>RIC                </td><td> 45                </td><td> 292               </td><td>20                 </td><td>59                 </td><td>2013-09-30 20:00:00</td><td>-32                </td></tr>\n",
       "\t<tr><td>2013               </td><td>9                  </td><td>30                 </td><td>2131               </td><td>2140               </td><td> -9                </td><td>2225               </td><td>2255               </td><td>-30                </td><td>MQ                 </td><td>3621               </td><td>N807MQ             </td><td>JFK                </td><td>DCA                </td><td> 36                </td><td> 213               </td><td>21                 </td><td>40                 </td><td>2013-09-30 21:00:00</td><td>-21                </td></tr>\n",
       "\t<tr><td>2013               </td><td>9                  </td><td>30                 </td><td>2140               </td><td>2140               </td><td>  0                </td><td>  10               </td><td>  40               </td><td>-30                </td><td>AA                 </td><td> 185               </td><td>N335AA             </td><td>JFK                </td><td>LAX                </td><td>298                </td><td>2475               </td><td>21                 </td><td>40                 </td><td>2013-09-30 21:00:00</td><td>-30                </td></tr>\n",
       "\t<tr><td>2013               </td><td>9                  </td><td>30                 </td><td>2142               </td><td>2129               </td><td> 13                </td><td>2250               </td><td>2239               </td><td> 11                </td><td>EV                 </td><td>4509               </td><td>N12957             </td><td>EWR                </td><td>PWM                </td><td> 47                </td><td> 284               </td><td>21                 </td><td>29                 </td><td>2013-09-30 21:00:00</td><td> -2                </td></tr>\n",
       "\t<tr><td>2013               </td><td>9                  </td><td>30                 </td><td>2145               </td><td>2145               </td><td>  0                </td><td> 115               </td><td> 140               </td><td>-25                </td><td>B6                 </td><td>1103               </td><td>N633JB             </td><td>JFK                </td><td>SJU                </td><td>192                </td><td>1598               </td><td>21                 </td><td>45                 </td><td>2013-09-30 21:00:00</td><td>-25                </td></tr>\n",
       "\t<tr><td>2013               </td><td>9                  </td><td>30                 </td><td>2147               </td><td>2137               </td><td> 10                </td><td>  30               </td><td>  27               </td><td>  3                </td><td>B6                 </td><td>1371               </td><td>N627JB             </td><td>LGA                </td><td>FLL                </td><td>139                </td><td>1076               </td><td>21                 </td><td>37                 </td><td>2013-09-30 21:00:00</td><td> -7                </td></tr>\n",
       "\t<tr><td>2013               </td><td>9                  </td><td>30                 </td><td>2149               </td><td>2156               </td><td> -7                </td><td>2245               </td><td>2308               </td><td>-23                </td><td>UA                 </td><td> 523               </td><td>N813UA             </td><td>EWR                </td><td>BOS                </td><td> 37                </td><td> 200               </td><td>21                 </td><td>56                 </td><td>2013-09-30 21:00:00</td><td>-16                </td></tr>\n",
       "\t<tr><td>2013               </td><td>9                  </td><td>30                 </td><td>2150               </td><td>2159               </td><td> -9                </td><td>2250               </td><td>2306               </td><td>-16                </td><td>EV                 </td><td>3842               </td><td>N10575             </td><td>EWR                </td><td>MHT                </td><td> 39                </td><td> 209               </td><td>21                 </td><td>59                 </td><td>2013-09-30 21:00:00</td><td> -7                </td></tr>\n",
       "\t<tr><td>2013               </td><td>9                  </td><td>30                 </td><td>2159               </td><td>1845               </td><td>194                </td><td>2344               </td><td>2030               </td><td>194                </td><td>9E                 </td><td>3320               </td><td>N906XJ             </td><td>JFK                </td><td>BUF                </td><td> 50                </td><td> 301               </td><td>18                 </td><td>45                 </td><td>2013-09-30 18:00:00</td><td>  0                </td></tr>\n",
       "\t<tr><td>2013               </td><td>9                  </td><td>30                 </td><td>2203               </td><td>2205               </td><td> -2                </td><td>2339               </td><td>2331               </td><td>  8                </td><td>EV                 </td><td>5311               </td><td>N722EV             </td><td>LGA                </td><td>BGR                </td><td> 61                </td><td> 378               </td><td>22                 </td><td> 5                 </td><td>2013-09-30 22:00:00</td><td> 10                </td></tr>\n",
       "\t<tr><td>2013               </td><td>9                  </td><td>30                 </td><td>2207               </td><td>2140               </td><td> 27                </td><td>2257               </td><td>2250               </td><td>  7                </td><td>MQ                 </td><td>3660               </td><td>N532MQ             </td><td>LGA                </td><td>BNA                </td><td> 97                </td><td> 764               </td><td>21                 </td><td>40                 </td><td>2013-09-30 21:00:00</td><td>-20                </td></tr>\n",
       "\t<tr><td>2013               </td><td>9                  </td><td>30                 </td><td>2211               </td><td>2059               </td><td> 72                </td><td>2339               </td><td>2242               </td><td> 57                </td><td>EV                 </td><td>4672               </td><td>N12145             </td><td>EWR                </td><td>STL                </td><td>120                </td><td> 872               </td><td>20                 </td><td>59                 </td><td>2013-09-30 20:00:00</td><td>-15                </td></tr>\n",
       "\t<tr><td>2013               </td><td>9                  </td><td>30                 </td><td>2231               </td><td>2245               </td><td>-14                </td><td>2335               </td><td>2356               </td><td>-21                </td><td>B6                 </td><td> 108               </td><td>N193JB             </td><td>JFK                </td><td>PWM                </td><td> 48                </td><td> 273               </td><td>22                 </td><td>45                 </td><td>2013-09-30 22:00:00</td><td> -7                </td></tr>\n",
       "\t<tr><td>2013               </td><td>9                  </td><td>30                 </td><td>2233               </td><td>2113               </td><td> 80                </td><td> 112               </td><td>  30               </td><td> 42                </td><td>UA                 </td><td> 471               </td><td>N578UA             </td><td>EWR                </td><td>SFO                </td><td>318                </td><td>2565               </td><td>21                 </td><td>13                 </td><td>2013-09-30 21:00:00</td><td>-38                </td></tr>\n",
       "\t<tr><td>2013               </td><td>9                  </td><td>30                 </td><td>2235               </td><td>2001               </td><td>154                </td><td>  59               </td><td>2249               </td><td>130                </td><td>B6                 </td><td>1083               </td><td>N804JB             </td><td>JFK                </td><td>MCO                </td><td>123                </td><td> 944               </td><td>20                 </td><td> 1                 </td><td>2013-09-30 20:00:00</td><td>-24                </td></tr>\n",
       "\t<tr><td>2013               </td><td>9                  </td><td>30                 </td><td>2237               </td><td>2245               </td><td> -8                </td><td>2345               </td><td>2353               </td><td> -8                </td><td>B6                 </td><td> 234               </td><td>N318JB             </td><td>JFK                </td><td>BTV                </td><td> 43                </td><td> 266               </td><td>22                 </td><td>45                 </td><td>2013-09-30 22:00:00</td><td>  0                </td></tr>\n",
       "\t<tr><td>2013               </td><td>9                  </td><td>30                 </td><td>2240               </td><td>2245               </td><td> -5                </td><td>2334               </td><td>2351               </td><td>-17                </td><td>B6                 </td><td>1816               </td><td>N354JB             </td><td>JFK                </td><td>SYR                </td><td> 41                </td><td> 209               </td><td>22                 </td><td>45                 </td><td>2013-09-30 22:00:00</td><td>-12                </td></tr>\n",
       "\t<tr><td>2013               </td><td>9                  </td><td>30                 </td><td>2240               </td><td>2250               </td><td>-10                </td><td>2347               </td><td>   7               </td><td>-20                </td><td>B6                 </td><td>2002               </td><td>N281JB             </td><td>JFK                </td><td>BUF                </td><td> 52                </td><td> 301               </td><td>22                 </td><td>50                 </td><td>2013-09-30 22:00:00</td><td>-10                </td></tr>\n",
       "\t<tr><td>2013               </td><td>9                  </td><td>30                 </td><td>2241               </td><td>2246               </td><td> -5                </td><td>2345               </td><td>   1               </td><td>-16                </td><td>B6                 </td><td> 486               </td><td>N346JB             </td><td>JFK                </td><td>ROC                </td><td> 47                </td><td> 264               </td><td>22                 </td><td>46                 </td><td>2013-09-30 22:00:00</td><td>-11                </td></tr>\n",
       "\t<tr><td>2013               </td><td>9                  </td><td>30                 </td><td>2307               </td><td>2255               </td><td> 12                </td><td>2359               </td><td>2358               </td><td>  1                </td><td>B6                 </td><td> 718               </td><td>N565JB             </td><td>JFK                </td><td>BOS                </td><td> 33                </td><td> 187               </td><td>22                 </td><td>55                 </td><td>2013-09-30 22:00:00</td><td>-11                </td></tr>\n",
       "\t<tr><td>2013               </td><td>9                  </td><td>30                 </td><td>2349               </td><td>2359               </td><td>-10                </td><td> 325               </td><td> 350               </td><td>-25                </td><td>B6                 </td><td> 745               </td><td>N516JB             </td><td>JFK                </td><td>PSE                </td><td>196                </td><td>1617               </td><td>23                 </td><td>59                 </td><td>2013-09-30 23:00:00</td><td>-15                </td></tr>\n",
       "\t<tr><td>2013               </td><td>9                  </td><td>30                 </td><td>  NA               </td><td>1842               </td><td> NA                </td><td>  NA               </td><td>2019               </td><td> NA                </td><td>EV                 </td><td>5274               </td><td>N740EV             </td><td>LGA                </td><td>BNA                </td><td> NA                </td><td> 764               </td><td>18                 </td><td>42                 </td><td>2013-09-30 18:00:00</td><td> NA                </td></tr>\n",
       "\t<tr><td>2013               </td><td>9                  </td><td>30                 </td><td>  NA               </td><td>1455               </td><td> NA                </td><td>  NA               </td><td>1634               </td><td> NA                </td><td>9E                 </td><td>3393               </td><td>NA                 </td><td>JFK                </td><td>DCA                </td><td> NA                </td><td> 213               </td><td>14                 </td><td>55                 </td><td>2013-09-30 14:00:00</td><td> NA                </td></tr>\n",
       "\t<tr><td>2013               </td><td>9                  </td><td>30                 </td><td>  NA               </td><td>2200               </td><td> NA                </td><td>  NA               </td><td>2312               </td><td> NA                </td><td>9E                 </td><td>3525               </td><td>NA                 </td><td>LGA                </td><td>SYR                </td><td> NA                </td><td> 198               </td><td>22                 </td><td> 0                 </td><td>2013-09-30 22:00:00</td><td> NA                </td></tr>\n",
       "\t<tr><td>2013               </td><td>9                  </td><td>30                 </td><td>  NA               </td><td>1210               </td><td> NA                </td><td>  NA               </td><td>1330               </td><td> NA                </td><td>MQ                 </td><td>3461               </td><td>N535MQ             </td><td>LGA                </td><td>BNA                </td><td> NA                </td><td> 764               </td><td>12                 </td><td>10                 </td><td>2013-09-30 12:00:00</td><td> NA                </td></tr>\n",
       "\t<tr><td>2013               </td><td>9                  </td><td>30                 </td><td>  NA               </td><td>1159               </td><td> NA                </td><td>  NA               </td><td>1344               </td><td> NA                </td><td>MQ                 </td><td>3572               </td><td>N511MQ             </td><td>LGA                </td><td>CLE                </td><td> NA                </td><td> 419               </td><td>11                 </td><td>59                 </td><td>2013-09-30 11:00:00</td><td> NA                </td></tr>\n",
       "\t<tr><td>2013               </td><td>9                  </td><td>30                 </td><td>  NA               </td><td> 840               </td><td> NA                </td><td>  NA               </td><td>1020               </td><td> NA                </td><td>MQ                 </td><td>3531               </td><td>N839MQ             </td><td>LGA                </td><td>RDU                </td><td> NA                </td><td> 431               </td><td> 8                 </td><td>40                 </td><td>2013-09-30 08:00:00</td><td> NA                </td></tr>\n",
       "</tbody>\n",
       "</table>\n"
      ],
      "text/latex": [
       "\\begin{tabular}{r|llllllllllllllllllll}\n",
       " year & month & day & dep\\_time & sched\\_dep\\_time & dep\\_delay & arr\\_time & sched\\_arr\\_time & arr\\_delay & carrier & flight & tailnum & origin & dest & air\\_time & distance & hour & minute & time\\_hour & new\\_col\\\\\n",
       "\\hline\n",
       "\t 2013                & 1                   & 1                   & 517                 & 515                 &  2                  &  830                &  819                &  11                 & UA                  & 1545                & N14228              & EWR                 & IAH                 & 227                 & 1400                & 5                   & 15                  & 2013-01-01 05:00:00 &   9                \\\\\n",
       "\t 2013                & 1                   & 1                   & 533                 & 529                 &  4                  &  850                &  830                &  20                 & UA                  & 1714                & N24211              & LGA                 & IAH                 & 227                 & 1416                & 5                   & 29                  & 2013-01-01 05:00:00 &  16                \\\\\n",
       "\t 2013                & 1                   & 1                   & 542                 & 540                 &  2                  &  923                &  850                &  33                 & AA                  & 1141                & N619AA              & JFK                 & MIA                 & 160                 & 1089                & 5                   & 40                  & 2013-01-01 05:00:00 &  31                \\\\\n",
       "\t 2013                & 1                   & 1                   & 544                 & 545                 & -1                  & 1004                & 1022                & -18                 & B6                  &  725                & N804JB              & JFK                 & BQN                 & 183                 & 1576                & 5                   & 45                  & 2013-01-01 05:00:00 & -17                \\\\\n",
       "\t 2013                & 1                   & 1                   & 554                 & 600                 & -6                  &  812                &  837                & -25                 & DL                  &  461                & N668DN              & LGA                 & ATL                 & 116                 &  762                & 6                   &  0                  & 2013-01-01 06:00:00 & -19                \\\\\n",
       "\t 2013                & 1                   & 1                   & 554                 & 558                 & -4                  &  740                &  728                &  12                 & UA                  & 1696                & N39463              & EWR                 & ORD                 & 150                 &  719                & 5                   & 58                  & 2013-01-01 05:00:00 &  16                \\\\\n",
       "\t 2013                & 1                   & 1                   & 555                 & 600                 & -5                  &  913                &  854                &  19                 & B6                  &  507                & N516JB              & EWR                 & FLL                 & 158                 & 1065                & 6                   &  0                  & 2013-01-01 06:00:00 &  24                \\\\\n",
       "\t 2013                & 1                   & 1                   & 557                 & 600                 & -3                  &  709                &  723                & -14                 & EV                  & 5708                & N829AS              & LGA                 & IAD                 &  53                 &  229                & 6                   &  0                  & 2013-01-01 06:00:00 & -11                \\\\\n",
       "\t 2013                & 1                   & 1                   & 557                 & 600                 & -3                  &  838                &  846                &  -8                 & B6                  &   79                & N593JB              & JFK                 & MCO                 & 140                 &  944                & 6                   &  0                  & 2013-01-01 06:00:00 &  -5                \\\\\n",
       "\t 2013                & 1                   & 1                   & 558                 & 600                 & -2                  &  753                &  745                &   8                 & AA                  &  301                & N3ALAA              & LGA                 & ORD                 & 138                 &  733                & 6                   &  0                  & 2013-01-01 06:00:00 &  10                \\\\\n",
       "\t 2013                & 1                   & 1                   & 558                 & 600                 & -2                  &  849                &  851                &  -2                 & B6                  &   49                & N793JB              & JFK                 & PBI                 & 149                 & 1028                & 6                   &  0                  & 2013-01-01 06:00:00 &   0                \\\\\n",
       "\t 2013                & 1                   & 1                   & 558                 & 600                 & -2                  &  853                &  856                &  -3                 & B6                  &   71                & N657JB              & JFK                 & TPA                 & 158                 & 1005                & 6                   &  0                  & 2013-01-01 06:00:00 &  -1                \\\\\n",
       "\t 2013                & 1                   & 1                   & 558                 & 600                 & -2                  &  924                &  917                &   7                 & UA                  &  194                & N29129              & JFK                 & LAX                 & 345                 & 2475                & 6                   &  0                  & 2013-01-01 06:00:00 &   9                \\\\\n",
       "\t 2013                & 1                   & 1                   & 558                 & 600                 & -2                  &  923                &  937                & -14                 & UA                  & 1124                & N53441              & EWR                 & SFO                 & 361                 & 2565                & 6                   &  0                  & 2013-01-01 06:00:00 & -12                \\\\\n",
       "\t 2013                & 1                   & 1                   & 559                 & 600                 & -1                  &  941                &  910                &  31                 & AA                  &  707                & N3DUAA              & LGA                 & DFW                 & 257                 & 1389                & 6                   &  0                  & 2013-01-01 06:00:00 &  32                \\\\\n",
       "\t 2013                & 1                   & 1                   & 559                 & 559                 &  0                  &  702                &  706                &  -4                 & B6                  & 1806                & N708JB              & JFK                 & BOS                 &  44                 &  187                & 5                   & 59                  & 2013-01-01 05:00:00 &  -4                \\\\\n",
       "\t 2013                & 1                   & 1                   & 559                 & 600                 & -1                  &  854                &  902                &  -8                 & UA                  & 1187                & N76515              & EWR                 & LAS                 & 337                 & 2227                & 6                   &  0                  & 2013-01-01 06:00:00 &  -7                \\\\\n",
       "\t 2013                & 1                   & 1                   & 600                 & 600                 &  0                  &  851                &  858                &  -7                 & B6                  &  371                & N595JB              & LGA                 & FLL                 & 152                 & 1076                & 6                   &  0                  & 2013-01-01 06:00:00 &  -7                \\\\\n",
       "\t 2013                & 1                   & 1                   & 600                 & 600                 &  0                  &  837                &  825                &  12                 & MQ                  & 4650                & N542MQ              & LGA                 & ATL                 & 134                 &  762                & 6                   &  0                  & 2013-01-01 06:00:00 &  12                \\\\\n",
       "\t 2013                & 1                   & 1                   & 601                 & 600                 &  1                  &  844                &  850                &  -6                 & B6                  &  343                & N644JB              & EWR                 & PBI                 & 147                 & 1023                & 6                   &  0                  & 2013-01-01 06:00:00 &  -7                \\\\\n",
       "\t 2013                & 1                   & 1                   & 602                 & 610                 & -8                  &  812                &  820                &  -8                 & DL                  & 1919                & N971DL              & LGA                 & MSP                 & 170                 & 1020                & 6                   & 10                  & 2013-01-01 06:00:00 &   0                \\\\\n",
       "\t 2013                & 1                   & 1                   & 602                 & 605                 & -3                  &  821                &  805                &  16                 & MQ                  & 4401                & N730MQ              & LGA                 & DTW                 & 105                 &  502                & 6                   &  5                  & 2013-01-01 06:00:00 &  19                \\\\\n",
       "\t 2013                & 1                   & 1                   & 606                 & 610                 & -4                  &  858                &  910                & -12                 & AA                  & 1895                & N633AA              & EWR                 & MIA                 & 152                 & 1085                & 6                   & 10                  & 2013-01-01 06:00:00 &  -8                \\\\\n",
       "\t 2013                & 1                   & 1                   & 606                 & 610                 & -4                  &  837                &  845                &  -8                 & DL                  & 1743                & N3739P              & JFK                 & ATL                 & 128                 &  760                & 6                   & 10                  & 2013-01-01 06:00:00 &  -4                \\\\\n",
       "\t 2013                & 1                   & 1                   & 607                 & 607                 &  0                  &  858                &  915                & -17                 & UA                  & 1077                & N53442              & EWR                 & MIA                 & 157                 & 1085                & 6                   &  7                  & 2013-01-01 06:00:00 & -17                \\\\\n",
       "\t 2013                & 1                   & 1                   & 608                 & 600                 &  8                  &  807                &  735                &  32                 & MQ                  & 3768                & N9EAMQ              & EWR                 & ORD                 & 139                 &  719                & 6                   &  0                  & 2013-01-01 06:00:00 &  24                \\\\\n",
       "\t 2013                & 1                   & 1                   & 611                 & 600                 & 11                  &  945                &  931                &  14                 & UA                  &  303                & N532UA              & JFK                 & SFO                 & 366                 & 2586                & 6                   &  0                  & 2013-01-01 06:00:00 &   3                \\\\\n",
       "\t 2013                & 1                   & 1                   & 613                 & 610                 &  3                  &  925                &  921                &   4                 & B6                  &  135                & N635JB              & JFK                 & RSW                 & 175                 & 1074                & 6                   & 10                  & 2013-01-01 06:00:00 &   1                \\\\\n",
       "\t 2013                & 1                   & 1                   & 615                 & 615                 &  0                  & 1039                & 1100                & -21                 & B6                  &  709                & N794JB              & JFK                 & SJU                 & 182                 & 1598                & 6                   & 15                  & 2013-01-01 06:00:00 & -21                \\\\\n",
       "\t 2013                & 1                   & 1                   & 615                 & 615                 &  0                  &  833                &  842                &  -9                 & DL                  &  575                & N326NB              & EWR                 & ATL                 & 120                 &  746                & 6                   & 15                  & 2013-01-01 06:00:00 &  -9                \\\\\n",
       "\t ⋮ & ⋮ & ⋮ & ⋮ & ⋮ & ⋮ & ⋮ & ⋮ & ⋮ & ⋮ & ⋮ & ⋮ & ⋮ & ⋮ & ⋮ & ⋮ & ⋮ & ⋮ & ⋮ & ⋮\\\\\n",
       "\t 2013                & 9                   & 30                  & 2123                & 2125                &  -2                 & 2223                & 2247                & -24                 & EV                  & 5489                & N712EV              & LGA                 & CHO                 &  45                 &  305                & 21                  & 25                  & 2013-09-30 21:00:00 & -22                \\\\\n",
       "\t 2013                & 9                   & 30                  & 2127                & 2129                &  -2                 & 2314                & 2323                &  -9                 & EV                  & 3833                & N16546              & EWR                 & CLT                 &  72                 &  529                & 21                  & 29                  & 2013-09-30 21:00:00 &  -7                \\\\\n",
       "\t 2013                & 9                   & 30                  & 2128                & 2130                &  -2                 & 2328                & 2359                & -31                 & B6                  &   97                & N807JB              & JFK                 & DEN                 & 213                 & 1626                & 21                  & 30                  & 2013-09-30 21:00:00 & -29                \\\\\n",
       "\t 2013                & 9                   & 30                  & 2129                & 2059                &  30                 & 2230                & 2232                &  -2                 & EV                  & 5048                & N751EV              & LGA                 & RIC                 &  45                 &  292                & 20                  & 59                  & 2013-09-30 20:00:00 & -32                \\\\\n",
       "\t 2013                & 9                   & 30                  & 2131                & 2140                &  -9                 & 2225                & 2255                & -30                 & MQ                  & 3621                & N807MQ              & JFK                 & DCA                 &  36                 &  213                & 21                  & 40                  & 2013-09-30 21:00:00 & -21                \\\\\n",
       "\t 2013                & 9                   & 30                  & 2140                & 2140                &   0                 &   10                &   40                & -30                 & AA                  &  185                & N335AA              & JFK                 & LAX                 & 298                 & 2475                & 21                  & 40                  & 2013-09-30 21:00:00 & -30                \\\\\n",
       "\t 2013                & 9                   & 30                  & 2142                & 2129                &  13                 & 2250                & 2239                &  11                 & EV                  & 4509                & N12957              & EWR                 & PWM                 &  47                 &  284                & 21                  & 29                  & 2013-09-30 21:00:00 &  -2                \\\\\n",
       "\t 2013                & 9                   & 30                  & 2145                & 2145                &   0                 &  115                &  140                & -25                 & B6                  & 1103                & N633JB              & JFK                 & SJU                 & 192                 & 1598                & 21                  & 45                  & 2013-09-30 21:00:00 & -25                \\\\\n",
       "\t 2013                & 9                   & 30                  & 2147                & 2137                &  10                 &   30                &   27                &   3                 & B6                  & 1371                & N627JB              & LGA                 & FLL                 & 139                 & 1076                & 21                  & 37                  & 2013-09-30 21:00:00 &  -7                \\\\\n",
       "\t 2013                & 9                   & 30                  & 2149                & 2156                &  -7                 & 2245                & 2308                & -23                 & UA                  &  523                & N813UA              & EWR                 & BOS                 &  37                 &  200                & 21                  & 56                  & 2013-09-30 21:00:00 & -16                \\\\\n",
       "\t 2013                & 9                   & 30                  & 2150                & 2159                &  -9                 & 2250                & 2306                & -16                 & EV                  & 3842                & N10575              & EWR                 & MHT                 &  39                 &  209                & 21                  & 59                  & 2013-09-30 21:00:00 &  -7                \\\\\n",
       "\t 2013                & 9                   & 30                  & 2159                & 1845                & 194                 & 2344                & 2030                & 194                 & 9E                  & 3320                & N906XJ              & JFK                 & BUF                 &  50                 &  301                & 18                  & 45                  & 2013-09-30 18:00:00 &   0                \\\\\n",
       "\t 2013                & 9                   & 30                  & 2203                & 2205                &  -2                 & 2339                & 2331                &   8                 & EV                  & 5311                & N722EV              & LGA                 & BGR                 &  61                 &  378                & 22                  &  5                  & 2013-09-30 22:00:00 &  10                \\\\\n",
       "\t 2013                & 9                   & 30                  & 2207                & 2140                &  27                 & 2257                & 2250                &   7                 & MQ                  & 3660                & N532MQ              & LGA                 & BNA                 &  97                 &  764                & 21                  & 40                  & 2013-09-30 21:00:00 & -20                \\\\\n",
       "\t 2013                & 9                   & 30                  & 2211                & 2059                &  72                 & 2339                & 2242                &  57                 & EV                  & 4672                & N12145              & EWR                 & STL                 & 120                 &  872                & 20                  & 59                  & 2013-09-30 20:00:00 & -15                \\\\\n",
       "\t 2013                & 9                   & 30                  & 2231                & 2245                & -14                 & 2335                & 2356                & -21                 & B6                  &  108                & N193JB              & JFK                 & PWM                 &  48                 &  273                & 22                  & 45                  & 2013-09-30 22:00:00 &  -7                \\\\\n",
       "\t 2013                & 9                   & 30                  & 2233                & 2113                &  80                 &  112                &   30                &  42                 & UA                  &  471                & N578UA              & EWR                 & SFO                 & 318                 & 2565                & 21                  & 13                  & 2013-09-30 21:00:00 & -38                \\\\\n",
       "\t 2013                & 9                   & 30                  & 2235                & 2001                & 154                 &   59                & 2249                & 130                 & B6                  & 1083                & N804JB              & JFK                 & MCO                 & 123                 &  944                & 20                  &  1                  & 2013-09-30 20:00:00 & -24                \\\\\n",
       "\t 2013                & 9                   & 30                  & 2237                & 2245                &  -8                 & 2345                & 2353                &  -8                 & B6                  &  234                & N318JB              & JFK                 & BTV                 &  43                 &  266                & 22                  & 45                  & 2013-09-30 22:00:00 &   0                \\\\\n",
       "\t 2013                & 9                   & 30                  & 2240                & 2245                &  -5                 & 2334                & 2351                & -17                 & B6                  & 1816                & N354JB              & JFK                 & SYR                 &  41                 &  209                & 22                  & 45                  & 2013-09-30 22:00:00 & -12                \\\\\n",
       "\t 2013                & 9                   & 30                  & 2240                & 2250                & -10                 & 2347                &    7                & -20                 & B6                  & 2002                & N281JB              & JFK                 & BUF                 &  52                 &  301                & 22                  & 50                  & 2013-09-30 22:00:00 & -10                \\\\\n",
       "\t 2013                & 9                   & 30                  & 2241                & 2246                &  -5                 & 2345                &    1                & -16                 & B6                  &  486                & N346JB              & JFK                 & ROC                 &  47                 &  264                & 22                  & 46                  & 2013-09-30 22:00:00 & -11                \\\\\n",
       "\t 2013                & 9                   & 30                  & 2307                & 2255                &  12                 & 2359                & 2358                &   1                 & B6                  &  718                & N565JB              & JFK                 & BOS                 &  33                 &  187                & 22                  & 55                  & 2013-09-30 22:00:00 & -11                \\\\\n",
       "\t 2013                & 9                   & 30                  & 2349                & 2359                & -10                 &  325                &  350                & -25                 & B6                  &  745                & N516JB              & JFK                 & PSE                 & 196                 & 1617                & 23                  & 59                  & 2013-09-30 23:00:00 & -15                \\\\\n",
       "\t 2013                & 9                   & 30                  &   NA                & 1842                &  NA                 &   NA                & 2019                &  NA                 & EV                  & 5274                & N740EV              & LGA                 & BNA                 &  NA                 &  764                & 18                  & 42                  & 2013-09-30 18:00:00 &  NA                \\\\\n",
       "\t 2013                & 9                   & 30                  &   NA                & 1455                &  NA                 &   NA                & 1634                &  NA                 & 9E                  & 3393                & NA                  & JFK                 & DCA                 &  NA                 &  213                & 14                  & 55                  & 2013-09-30 14:00:00 &  NA                \\\\\n",
       "\t 2013                & 9                   & 30                  &   NA                & 2200                &  NA                 &   NA                & 2312                &  NA                 & 9E                  & 3525                & NA                  & LGA                 & SYR                 &  NA                 &  198                & 22                  &  0                  & 2013-09-30 22:00:00 &  NA                \\\\\n",
       "\t 2013                & 9                   & 30                  &   NA                & 1210                &  NA                 &   NA                & 1330                &  NA                 & MQ                  & 3461                & N535MQ              & LGA                 & BNA                 &  NA                 &  764                & 12                  & 10                  & 2013-09-30 12:00:00 &  NA                \\\\\n",
       "\t 2013                & 9                   & 30                  &   NA                & 1159                &  NA                 &   NA                & 1344                &  NA                 & MQ                  & 3572                & N511MQ              & LGA                 & CLE                 &  NA                 &  419                & 11                  & 59                  & 2013-09-30 11:00:00 &  NA                \\\\\n",
       "\t 2013                & 9                   & 30                  &   NA                &  840                &  NA                 &   NA                & 1020                &  NA                 & MQ                  & 3531                & N839MQ              & LGA                 & RDU                 &  NA                 &  431                &  8                  & 40                  & 2013-09-30 08:00:00 &  NA                \\\\\n",
       "\\end{tabular}\n"
      ],
      "text/markdown": [
       "\n",
       "year | month | day | dep_time | sched_dep_time | dep_delay | arr_time | sched_arr_time | arr_delay | carrier | flight | tailnum | origin | dest | air_time | distance | hour | minute | time_hour | new_col | \n",
       "|---|---|---|---|---|---|---|---|---|---|---|---|---|---|---|---|---|---|---|---|---|---|---|---|---|---|---|---|---|---|---|---|---|---|---|---|---|---|---|---|---|---|---|---|---|---|---|---|---|---|---|---|---|---|---|---|---|---|---|---|---|\n",
       "| 2013                | 1                   | 1                   | 517                 | 515                 |  2                  |  830                |  819                |  11                 | UA                  | 1545                | N14228              | EWR                 | IAH                 | 227                 | 1400                | 5                   | 15                  | 2013-01-01 05:00:00 |   9                 | \n",
       "| 2013                | 1                   | 1                   | 533                 | 529                 |  4                  |  850                |  830                |  20                 | UA                  | 1714                | N24211              | LGA                 | IAH                 | 227                 | 1416                | 5                   | 29                  | 2013-01-01 05:00:00 |  16                 | \n",
       "| 2013                | 1                   | 1                   | 542                 | 540                 |  2                  |  923                |  850                |  33                 | AA                  | 1141                | N619AA              | JFK                 | MIA                 | 160                 | 1089                | 5                   | 40                  | 2013-01-01 05:00:00 |  31                 | \n",
       "| 2013                | 1                   | 1                   | 544                 | 545                 | -1                  | 1004                | 1022                | -18                 | B6                  |  725                | N804JB              | JFK                 | BQN                 | 183                 | 1576                | 5                   | 45                  | 2013-01-01 05:00:00 | -17                 | \n",
       "| 2013                | 1                   | 1                   | 554                 | 600                 | -6                  |  812                |  837                | -25                 | DL                  |  461                | N668DN              | LGA                 | ATL                 | 116                 |  762                | 6                   |  0                  | 2013-01-01 06:00:00 | -19                 | \n",
       "| 2013                | 1                   | 1                   | 554                 | 558                 | -4                  |  740                |  728                |  12                 | UA                  | 1696                | N39463              | EWR                 | ORD                 | 150                 |  719                | 5                   | 58                  | 2013-01-01 05:00:00 |  16                 | \n",
       "| 2013                | 1                   | 1                   | 555                 | 600                 | -5                  |  913                |  854                |  19                 | B6                  |  507                | N516JB              | EWR                 | FLL                 | 158                 | 1065                | 6                   |  0                  | 2013-01-01 06:00:00 |  24                 | \n",
       "| 2013                | 1                   | 1                   | 557                 | 600                 | -3                  |  709                |  723                | -14                 | EV                  | 5708                | N829AS              | LGA                 | IAD                 |  53                 |  229                | 6                   |  0                  | 2013-01-01 06:00:00 | -11                 | \n",
       "| 2013                | 1                   | 1                   | 557                 | 600                 | -3                  |  838                |  846                |  -8                 | B6                  |   79                | N593JB              | JFK                 | MCO                 | 140                 |  944                | 6                   |  0                  | 2013-01-01 06:00:00 |  -5                 | \n",
       "| 2013                | 1                   | 1                   | 558                 | 600                 | -2                  |  753                |  745                |   8                 | AA                  |  301                | N3ALAA              | LGA                 | ORD                 | 138                 |  733                | 6                   |  0                  | 2013-01-01 06:00:00 |  10                 | \n",
       "| 2013                | 1                   | 1                   | 558                 | 600                 | -2                  |  849                |  851                |  -2                 | B6                  |   49                | N793JB              | JFK                 | PBI                 | 149                 | 1028                | 6                   |  0                  | 2013-01-01 06:00:00 |   0                 | \n",
       "| 2013                | 1                   | 1                   | 558                 | 600                 | -2                  |  853                |  856                |  -3                 | B6                  |   71                | N657JB              | JFK                 | TPA                 | 158                 | 1005                | 6                   |  0                  | 2013-01-01 06:00:00 |  -1                 | \n",
       "| 2013                | 1                   | 1                   | 558                 | 600                 | -2                  |  924                |  917                |   7                 | UA                  |  194                | N29129              | JFK                 | LAX                 | 345                 | 2475                | 6                   |  0                  | 2013-01-01 06:00:00 |   9                 | \n",
       "| 2013                | 1                   | 1                   | 558                 | 600                 | -2                  |  923                |  937                | -14                 | UA                  | 1124                | N53441              | EWR                 | SFO                 | 361                 | 2565                | 6                   |  0                  | 2013-01-01 06:00:00 | -12                 | \n",
       "| 2013                | 1                   | 1                   | 559                 | 600                 | -1                  |  941                |  910                |  31                 | AA                  |  707                | N3DUAA              | LGA                 | DFW                 | 257                 | 1389                | 6                   |  0                  | 2013-01-01 06:00:00 |  32                 | \n",
       "| 2013                | 1                   | 1                   | 559                 | 559                 |  0                  |  702                |  706                |  -4                 | B6                  | 1806                | N708JB              | JFK                 | BOS                 |  44                 |  187                | 5                   | 59                  | 2013-01-01 05:00:00 |  -4                 | \n",
       "| 2013                | 1                   | 1                   | 559                 | 600                 | -1                  |  854                |  902                |  -8                 | UA                  | 1187                | N76515              | EWR                 | LAS                 | 337                 | 2227                | 6                   |  0                  | 2013-01-01 06:00:00 |  -7                 | \n",
       "| 2013                | 1                   | 1                   | 600                 | 600                 |  0                  |  851                |  858                |  -7                 | B6                  |  371                | N595JB              | LGA                 | FLL                 | 152                 | 1076                | 6                   |  0                  | 2013-01-01 06:00:00 |  -7                 | \n",
       "| 2013                | 1                   | 1                   | 600                 | 600                 |  0                  |  837                |  825                |  12                 | MQ                  | 4650                | N542MQ              | LGA                 | ATL                 | 134                 |  762                | 6                   |  0                  | 2013-01-01 06:00:00 |  12                 | \n",
       "| 2013                | 1                   | 1                   | 601                 | 600                 |  1                  |  844                |  850                |  -6                 | B6                  |  343                | N644JB              | EWR                 | PBI                 | 147                 | 1023                | 6                   |  0                  | 2013-01-01 06:00:00 |  -7                 | \n",
       "| 2013                | 1                   | 1                   | 602                 | 610                 | -8                  |  812                |  820                |  -8                 | DL                  | 1919                | N971DL              | LGA                 | MSP                 | 170                 | 1020                | 6                   | 10                  | 2013-01-01 06:00:00 |   0                 | \n",
       "| 2013                | 1                   | 1                   | 602                 | 605                 | -3                  |  821                |  805                |  16                 | MQ                  | 4401                | N730MQ              | LGA                 | DTW                 | 105                 |  502                | 6                   |  5                  | 2013-01-01 06:00:00 |  19                 | \n",
       "| 2013                | 1                   | 1                   | 606                 | 610                 | -4                  |  858                |  910                | -12                 | AA                  | 1895                | N633AA              | EWR                 | MIA                 | 152                 | 1085                | 6                   | 10                  | 2013-01-01 06:00:00 |  -8                 | \n",
       "| 2013                | 1                   | 1                   | 606                 | 610                 | -4                  |  837                |  845                |  -8                 | DL                  | 1743                | N3739P              | JFK                 | ATL                 | 128                 |  760                | 6                   | 10                  | 2013-01-01 06:00:00 |  -4                 | \n",
       "| 2013                | 1                   | 1                   | 607                 | 607                 |  0                  |  858                |  915                | -17                 | UA                  | 1077                | N53442              | EWR                 | MIA                 | 157                 | 1085                | 6                   |  7                  | 2013-01-01 06:00:00 | -17                 | \n",
       "| 2013                | 1                   | 1                   | 608                 | 600                 |  8                  |  807                |  735                |  32                 | MQ                  | 3768                | N9EAMQ              | EWR                 | ORD                 | 139                 |  719                | 6                   |  0                  | 2013-01-01 06:00:00 |  24                 | \n",
       "| 2013                | 1                   | 1                   | 611                 | 600                 | 11                  |  945                |  931                |  14                 | UA                  |  303                | N532UA              | JFK                 | SFO                 | 366                 | 2586                | 6                   |  0                  | 2013-01-01 06:00:00 |   3                 | \n",
       "| 2013                | 1                   | 1                   | 613                 | 610                 |  3                  |  925                |  921                |   4                 | B6                  |  135                | N635JB              | JFK                 | RSW                 | 175                 | 1074                | 6                   | 10                  | 2013-01-01 06:00:00 |   1                 | \n",
       "| 2013                | 1                   | 1                   | 615                 | 615                 |  0                  | 1039                | 1100                | -21                 | B6                  |  709                | N794JB              | JFK                 | SJU                 | 182                 | 1598                | 6                   | 15                  | 2013-01-01 06:00:00 | -21                 | \n",
       "| 2013                | 1                   | 1                   | 615                 | 615                 |  0                  |  833                |  842                |  -9                 | DL                  |  575                | N326NB              | EWR                 | ATL                 | 120                 |  746                | 6                   | 15                  | 2013-01-01 06:00:00 |  -9                 | \n",
       "| ⋮ | ⋮ | ⋮ | ⋮ | ⋮ | ⋮ | ⋮ | ⋮ | ⋮ | ⋮ | ⋮ | ⋮ | ⋮ | ⋮ | ⋮ | ⋮ | ⋮ | ⋮ | ⋮ | ⋮ | \n",
       "| 2013                | 9                   | 30                  | 2123                | 2125                |  -2                 | 2223                | 2247                | -24                 | EV                  | 5489                | N712EV              | LGA                 | CHO                 |  45                 |  305                | 21                  | 25                  | 2013-09-30 21:00:00 | -22                 | \n",
       "| 2013                | 9                   | 30                  | 2127                | 2129                |  -2                 | 2314                | 2323                |  -9                 | EV                  | 3833                | N16546              | EWR                 | CLT                 |  72                 |  529                | 21                  | 29                  | 2013-09-30 21:00:00 |  -7                 | \n",
       "| 2013                | 9                   | 30                  | 2128                | 2130                |  -2                 | 2328                | 2359                | -31                 | B6                  |   97                | N807JB              | JFK                 | DEN                 | 213                 | 1626                | 21                  | 30                  | 2013-09-30 21:00:00 | -29                 | \n",
       "| 2013                | 9                   | 30                  | 2129                | 2059                |  30                 | 2230                | 2232                |  -2                 | EV                  | 5048                | N751EV              | LGA                 | RIC                 |  45                 |  292                | 20                  | 59                  | 2013-09-30 20:00:00 | -32                 | \n",
       "| 2013                | 9                   | 30                  | 2131                | 2140                |  -9                 | 2225                | 2255                | -30                 | MQ                  | 3621                | N807MQ              | JFK                 | DCA                 |  36                 |  213                | 21                  | 40                  | 2013-09-30 21:00:00 | -21                 | \n",
       "| 2013                | 9                   | 30                  | 2140                | 2140                |   0                 |   10                |   40                | -30                 | AA                  |  185                | N335AA              | JFK                 | LAX                 | 298                 | 2475                | 21                  | 40                  | 2013-09-30 21:00:00 | -30                 | \n",
       "| 2013                | 9                   | 30                  | 2142                | 2129                |  13                 | 2250                | 2239                |  11                 | EV                  | 4509                | N12957              | EWR                 | PWM                 |  47                 |  284                | 21                  | 29                  | 2013-09-30 21:00:00 |  -2                 | \n",
       "| 2013                | 9                   | 30                  | 2145                | 2145                |   0                 |  115                |  140                | -25                 | B6                  | 1103                | N633JB              | JFK                 | SJU                 | 192                 | 1598                | 21                  | 45                  | 2013-09-30 21:00:00 | -25                 | \n",
       "| 2013                | 9                   | 30                  | 2147                | 2137                |  10                 |   30                |   27                |   3                 | B6                  | 1371                | N627JB              | LGA                 | FLL                 | 139                 | 1076                | 21                  | 37                  | 2013-09-30 21:00:00 |  -7                 | \n",
       "| 2013                | 9                   | 30                  | 2149                | 2156                |  -7                 | 2245                | 2308                | -23                 | UA                  |  523                | N813UA              | EWR                 | BOS                 |  37                 |  200                | 21                  | 56                  | 2013-09-30 21:00:00 | -16                 | \n",
       "| 2013                | 9                   | 30                  | 2150                | 2159                |  -9                 | 2250                | 2306                | -16                 | EV                  | 3842                | N10575              | EWR                 | MHT                 |  39                 |  209                | 21                  | 59                  | 2013-09-30 21:00:00 |  -7                 | \n",
       "| 2013                | 9                   | 30                  | 2159                | 1845                | 194                 | 2344                | 2030                | 194                 | 9E                  | 3320                | N906XJ              | JFK                 | BUF                 |  50                 |  301                | 18                  | 45                  | 2013-09-30 18:00:00 |   0                 | \n",
       "| 2013                | 9                   | 30                  | 2203                | 2205                |  -2                 | 2339                | 2331                |   8                 | EV                  | 5311                | N722EV              | LGA                 | BGR                 |  61                 |  378                | 22                  |  5                  | 2013-09-30 22:00:00 |  10                 | \n",
       "| 2013                | 9                   | 30                  | 2207                | 2140                |  27                 | 2257                | 2250                |   7                 | MQ                  | 3660                | N532MQ              | LGA                 | BNA                 |  97                 |  764                | 21                  | 40                  | 2013-09-30 21:00:00 | -20                 | \n",
       "| 2013                | 9                   | 30                  | 2211                | 2059                |  72                 | 2339                | 2242                |  57                 | EV                  | 4672                | N12145              | EWR                 | STL                 | 120                 |  872                | 20                  | 59                  | 2013-09-30 20:00:00 | -15                 | \n",
       "| 2013                | 9                   | 30                  | 2231                | 2245                | -14                 | 2335                | 2356                | -21                 | B6                  |  108                | N193JB              | JFK                 | PWM                 |  48                 |  273                | 22                  | 45                  | 2013-09-30 22:00:00 |  -7                 | \n",
       "| 2013                | 9                   | 30                  | 2233                | 2113                |  80                 |  112                |   30                |  42                 | UA                  |  471                | N578UA              | EWR                 | SFO                 | 318                 | 2565                | 21                  | 13                  | 2013-09-30 21:00:00 | -38                 | \n",
       "| 2013                | 9                   | 30                  | 2235                | 2001                | 154                 |   59                | 2249                | 130                 | B6                  | 1083                | N804JB              | JFK                 | MCO                 | 123                 |  944                | 20                  |  1                  | 2013-09-30 20:00:00 | -24                 | \n",
       "| 2013                | 9                   | 30                  | 2237                | 2245                |  -8                 | 2345                | 2353                |  -8                 | B6                  |  234                | N318JB              | JFK                 | BTV                 |  43                 |  266                | 22                  | 45                  | 2013-09-30 22:00:00 |   0                 | \n",
       "| 2013                | 9                   | 30                  | 2240                | 2245                |  -5                 | 2334                | 2351                | -17                 | B6                  | 1816                | N354JB              | JFK                 | SYR                 |  41                 |  209                | 22                  | 45                  | 2013-09-30 22:00:00 | -12                 | \n",
       "| 2013                | 9                   | 30                  | 2240                | 2250                | -10                 | 2347                |    7                | -20                 | B6                  | 2002                | N281JB              | JFK                 | BUF                 |  52                 |  301                | 22                  | 50                  | 2013-09-30 22:00:00 | -10                 | \n",
       "| 2013                | 9                   | 30                  | 2241                | 2246                |  -5                 | 2345                |    1                | -16                 | B6                  |  486                | N346JB              | JFK                 | ROC                 |  47                 |  264                | 22                  | 46                  | 2013-09-30 22:00:00 | -11                 | \n",
       "| 2013                | 9                   | 30                  | 2307                | 2255                |  12                 | 2359                | 2358                |   1                 | B6                  |  718                | N565JB              | JFK                 | BOS                 |  33                 |  187                | 22                  | 55                  | 2013-09-30 22:00:00 | -11                 | \n",
       "| 2013                | 9                   | 30                  | 2349                | 2359                | -10                 |  325                |  350                | -25                 | B6                  |  745                | N516JB              | JFK                 | PSE                 | 196                 | 1617                | 23                  | 59                  | 2013-09-30 23:00:00 | -15                 | \n",
       "| 2013                | 9                   | 30                  |   NA                | 1842                |  NA                 |   NA                | 2019                |  NA                 | EV                  | 5274                | N740EV              | LGA                 | BNA                 |  NA                 |  764                | 18                  | 42                  | 2013-09-30 18:00:00 |  NA                 | \n",
       "| 2013                | 9                   | 30                  |   NA                | 1455                |  NA                 |   NA                | 1634                |  NA                 | 9E                  | 3393                | NA                  | JFK                 | DCA                 |  NA                 |  213                | 14                  | 55                  | 2013-09-30 14:00:00 |  NA                 | \n",
       "| 2013                | 9                   | 30                  |   NA                | 2200                |  NA                 |   NA                | 2312                |  NA                 | 9E                  | 3525                | NA                  | LGA                 | SYR                 |  NA                 |  198                | 22                  |  0                  | 2013-09-30 22:00:00 |  NA                 | \n",
       "| 2013                | 9                   | 30                  |   NA                | 1210                |  NA                 |   NA                | 1330                |  NA                 | MQ                  | 3461                | N535MQ              | LGA                 | BNA                 |  NA                 |  764                | 12                  | 10                  | 2013-09-30 12:00:00 |  NA                 | \n",
       "| 2013                | 9                   | 30                  |   NA                | 1159                |  NA                 |   NA                | 1344                |  NA                 | MQ                  | 3572                | N511MQ              | LGA                 | CLE                 |  NA                 |  419                | 11                  | 59                  | 2013-09-30 11:00:00 |  NA                 | \n",
       "| 2013                | 9                   | 30                  |   NA                |  840                |  NA                 |   NA                | 1020                |  NA                 | MQ                  | 3531                | N839MQ              | LGA                 | RDU                 |  NA                 |  431                |  8                  | 40                  | 2013-09-30 08:00:00 |  NA                 | \n",
       "\n",
       "\n"
      ],
      "text/plain": [
       "       year month day dep_time sched_dep_time dep_delay arr_time sched_arr_time\n",
       "1      2013 1     1   517      515             2         830      819          \n",
       "2      2013 1     1   533      529             4         850      830          \n",
       "3      2013 1     1   542      540             2         923      850          \n",
       "4      2013 1     1   544      545            -1        1004     1022          \n",
       "5      2013 1     1   554      600            -6         812      837          \n",
       "6      2013 1     1   554      558            -4         740      728          \n",
       "7      2013 1     1   555      600            -5         913      854          \n",
       "8      2013 1     1   557      600            -3         709      723          \n",
       "9      2013 1     1   557      600            -3         838      846          \n",
       "10     2013 1     1   558      600            -2         753      745          \n",
       "11     2013 1     1   558      600            -2         849      851          \n",
       "12     2013 1     1   558      600            -2         853      856          \n",
       "13     2013 1     1   558      600            -2         924      917          \n",
       "14     2013 1     1   558      600            -2         923      937          \n",
       "15     2013 1     1   559      600            -1         941      910          \n",
       "16     2013 1     1   559      559             0         702      706          \n",
       "17     2013 1     1   559      600            -1         854      902          \n",
       "18     2013 1     1   600      600             0         851      858          \n",
       "19     2013 1     1   600      600             0         837      825          \n",
       "20     2013 1     1   601      600             1         844      850          \n",
       "21     2013 1     1   602      610            -8         812      820          \n",
       "22     2013 1     1   602      605            -3         821      805          \n",
       "23     2013 1     1   606      610            -4         858      910          \n",
       "24     2013 1     1   606      610            -4         837      845          \n",
       "25     2013 1     1   607      607             0         858      915          \n",
       "26     2013 1     1   608      600             8         807      735          \n",
       "27     2013 1     1   611      600            11         945      931          \n",
       "28     2013 1     1   613      610             3         925      921          \n",
       "29     2013 1     1   615      615             0        1039     1100          \n",
       "30     2013 1     1   615      615             0         833      842          \n",
       "⋮      ⋮    ⋮     ⋮   ⋮        ⋮              ⋮         ⋮        ⋮             \n",
       "336747 2013 9     30  2123     2125            -2       2223     2247          \n",
       "336748 2013 9     30  2127     2129            -2       2314     2323          \n",
       "336749 2013 9     30  2128     2130            -2       2328     2359          \n",
       "336750 2013 9     30  2129     2059            30       2230     2232          \n",
       "336751 2013 9     30  2131     2140            -9       2225     2255          \n",
       "336752 2013 9     30  2140     2140             0         10       40          \n",
       "336753 2013 9     30  2142     2129            13       2250     2239          \n",
       "336754 2013 9     30  2145     2145             0        115      140          \n",
       "336755 2013 9     30  2147     2137            10         30       27          \n",
       "336756 2013 9     30  2149     2156            -7       2245     2308          \n",
       "336757 2013 9     30  2150     2159            -9       2250     2306          \n",
       "336758 2013 9     30  2159     1845           194       2344     2030          \n",
       "336759 2013 9     30  2203     2205            -2       2339     2331          \n",
       "336760 2013 9     30  2207     2140            27       2257     2250          \n",
       "336761 2013 9     30  2211     2059            72       2339     2242          \n",
       "336762 2013 9     30  2231     2245           -14       2335     2356          \n",
       "336763 2013 9     30  2233     2113            80        112       30          \n",
       "336764 2013 9     30  2235     2001           154         59     2249          \n",
       "336765 2013 9     30  2237     2245            -8       2345     2353          \n",
       "336766 2013 9     30  2240     2245            -5       2334     2351          \n",
       "336767 2013 9     30  2240     2250           -10       2347        7          \n",
       "336768 2013 9     30  2241     2246            -5       2345        1          \n",
       "336769 2013 9     30  2307     2255            12       2359     2358          \n",
       "336770 2013 9     30  2349     2359           -10        325      350          \n",
       "336771 2013 9     30    NA     1842            NA         NA     2019          \n",
       "336772 2013 9     30    NA     1455            NA         NA     1634          \n",
       "336773 2013 9     30    NA     2200            NA         NA     2312          \n",
       "336774 2013 9     30    NA     1210            NA         NA     1330          \n",
       "336775 2013 9     30    NA     1159            NA         NA     1344          \n",
       "336776 2013 9     30    NA      840            NA         NA     1020          \n",
       "       arr_delay carrier flight tailnum origin dest air_time distance hour\n",
       "1       11       UA      1545   N14228  EWR    IAH  227      1400     5   \n",
       "2       20       UA      1714   N24211  LGA    IAH  227      1416     5   \n",
       "3       33       AA      1141   N619AA  JFK    MIA  160      1089     5   \n",
       "4      -18       B6       725   N804JB  JFK    BQN  183      1576     5   \n",
       "5      -25       DL       461   N668DN  LGA    ATL  116       762     6   \n",
       "6       12       UA      1696   N39463  EWR    ORD  150       719     5   \n",
       "7       19       B6       507   N516JB  EWR    FLL  158      1065     6   \n",
       "8      -14       EV      5708   N829AS  LGA    IAD   53       229     6   \n",
       "9       -8       B6        79   N593JB  JFK    MCO  140       944     6   \n",
       "10       8       AA       301   N3ALAA  LGA    ORD  138       733     6   \n",
       "11      -2       B6        49   N793JB  JFK    PBI  149      1028     6   \n",
       "12      -3       B6        71   N657JB  JFK    TPA  158      1005     6   \n",
       "13       7       UA       194   N29129  JFK    LAX  345      2475     6   \n",
       "14     -14       UA      1124   N53441  EWR    SFO  361      2565     6   \n",
       "15      31       AA       707   N3DUAA  LGA    DFW  257      1389     6   \n",
       "16      -4       B6      1806   N708JB  JFK    BOS   44       187     5   \n",
       "17      -8       UA      1187   N76515  EWR    LAS  337      2227     6   \n",
       "18      -7       B6       371   N595JB  LGA    FLL  152      1076     6   \n",
       "19      12       MQ      4650   N542MQ  LGA    ATL  134       762     6   \n",
       "20      -6       B6       343   N644JB  EWR    PBI  147      1023     6   \n",
       "21      -8       DL      1919   N971DL  LGA    MSP  170      1020     6   \n",
       "22      16       MQ      4401   N730MQ  LGA    DTW  105       502     6   \n",
       "23     -12       AA      1895   N633AA  EWR    MIA  152      1085     6   \n",
       "24      -8       DL      1743   N3739P  JFK    ATL  128       760     6   \n",
       "25     -17       UA      1077   N53442  EWR    MIA  157      1085     6   \n",
       "26      32       MQ      3768   N9EAMQ  EWR    ORD  139       719     6   \n",
       "27      14       UA       303   N532UA  JFK    SFO  366      2586     6   \n",
       "28       4       B6       135   N635JB  JFK    RSW  175      1074     6   \n",
       "29     -21       B6       709   N794JB  JFK    SJU  182      1598     6   \n",
       "30      -9       DL       575   N326NB  EWR    ATL  120       746     6   \n",
       "⋮      ⋮         ⋮       ⋮      ⋮       ⋮      ⋮    ⋮        ⋮        ⋮   \n",
       "336747 -24       EV      5489   N712EV  LGA    CHO   45       305     21  \n",
       "336748  -9       EV      3833   N16546  EWR    CLT   72       529     21  \n",
       "336749 -31       B6        97   N807JB  JFK    DEN  213      1626     21  \n",
       "336750  -2       EV      5048   N751EV  LGA    RIC   45       292     20  \n",
       "336751 -30       MQ      3621   N807MQ  JFK    DCA   36       213     21  \n",
       "336752 -30       AA       185   N335AA  JFK    LAX  298      2475     21  \n",
       "336753  11       EV      4509   N12957  EWR    PWM   47       284     21  \n",
       "336754 -25       B6      1103   N633JB  JFK    SJU  192      1598     21  \n",
       "336755   3       B6      1371   N627JB  LGA    FLL  139      1076     21  \n",
       "336756 -23       UA       523   N813UA  EWR    BOS   37       200     21  \n",
       "336757 -16       EV      3842   N10575  EWR    MHT   39       209     21  \n",
       "336758 194       9E      3320   N906XJ  JFK    BUF   50       301     18  \n",
       "336759   8       EV      5311   N722EV  LGA    BGR   61       378     22  \n",
       "336760   7       MQ      3660   N532MQ  LGA    BNA   97       764     21  \n",
       "336761  57       EV      4672   N12145  EWR    STL  120       872     20  \n",
       "336762 -21       B6       108   N193JB  JFK    PWM   48       273     22  \n",
       "336763  42       UA       471   N578UA  EWR    SFO  318      2565     21  \n",
       "336764 130       B6      1083   N804JB  JFK    MCO  123       944     20  \n",
       "336765  -8       B6       234   N318JB  JFK    BTV   43       266     22  \n",
       "336766 -17       B6      1816   N354JB  JFK    SYR   41       209     22  \n",
       "336767 -20       B6      2002   N281JB  JFK    BUF   52       301     22  \n",
       "336768 -16       B6       486   N346JB  JFK    ROC   47       264     22  \n",
       "336769   1       B6       718   N565JB  JFK    BOS   33       187     22  \n",
       "336770 -25       B6       745   N516JB  JFK    PSE  196      1617     23  \n",
       "336771  NA       EV      5274   N740EV  LGA    BNA   NA       764     18  \n",
       "336772  NA       9E      3393   NA      JFK    DCA   NA       213     14  \n",
       "336773  NA       9E      3525   NA      LGA    SYR   NA       198     22  \n",
       "336774  NA       MQ      3461   N535MQ  LGA    BNA   NA       764     12  \n",
       "336775  NA       MQ      3572   N511MQ  LGA    CLE   NA       419     11  \n",
       "336776  NA       MQ      3531   N839MQ  LGA    RDU   NA       431      8  \n",
       "       minute time_hour           new_col\n",
       "1      15     2013-01-01 05:00:00   9    \n",
       "2      29     2013-01-01 05:00:00  16    \n",
       "3      40     2013-01-01 05:00:00  31    \n",
       "4      45     2013-01-01 05:00:00 -17    \n",
       "5       0     2013-01-01 06:00:00 -19    \n",
       "6      58     2013-01-01 05:00:00  16    \n",
       "7       0     2013-01-01 06:00:00  24    \n",
       "8       0     2013-01-01 06:00:00 -11    \n",
       "9       0     2013-01-01 06:00:00  -5    \n",
       "10      0     2013-01-01 06:00:00  10    \n",
       "11      0     2013-01-01 06:00:00   0    \n",
       "12      0     2013-01-01 06:00:00  -1    \n",
       "13      0     2013-01-01 06:00:00   9    \n",
       "14      0     2013-01-01 06:00:00 -12    \n",
       "15      0     2013-01-01 06:00:00  32    \n",
       "16     59     2013-01-01 05:00:00  -4    \n",
       "17      0     2013-01-01 06:00:00  -7    \n",
       "18      0     2013-01-01 06:00:00  -7    \n",
       "19      0     2013-01-01 06:00:00  12    \n",
       "20      0     2013-01-01 06:00:00  -7    \n",
       "21     10     2013-01-01 06:00:00   0    \n",
       "22      5     2013-01-01 06:00:00  19    \n",
       "23     10     2013-01-01 06:00:00  -8    \n",
       "24     10     2013-01-01 06:00:00  -4    \n",
       "25      7     2013-01-01 06:00:00 -17    \n",
       "26      0     2013-01-01 06:00:00  24    \n",
       "27      0     2013-01-01 06:00:00   3    \n",
       "28     10     2013-01-01 06:00:00   1    \n",
       "29     15     2013-01-01 06:00:00 -21    \n",
       "30     15     2013-01-01 06:00:00  -9    \n",
       "⋮      ⋮      ⋮                   ⋮      \n",
       "336747 25     2013-09-30 21:00:00 -22    \n",
       "336748 29     2013-09-30 21:00:00  -7    \n",
       "336749 30     2013-09-30 21:00:00 -29    \n",
       "336750 59     2013-09-30 20:00:00 -32    \n",
       "336751 40     2013-09-30 21:00:00 -21    \n",
       "336752 40     2013-09-30 21:00:00 -30    \n",
       "336753 29     2013-09-30 21:00:00  -2    \n",
       "336754 45     2013-09-30 21:00:00 -25    \n",
       "336755 37     2013-09-30 21:00:00  -7    \n",
       "336756 56     2013-09-30 21:00:00 -16    \n",
       "336757 59     2013-09-30 21:00:00  -7    \n",
       "336758 45     2013-09-30 18:00:00   0    \n",
       "336759  5     2013-09-30 22:00:00  10    \n",
       "336760 40     2013-09-30 21:00:00 -20    \n",
       "336761 59     2013-09-30 20:00:00 -15    \n",
       "336762 45     2013-09-30 22:00:00  -7    \n",
       "336763 13     2013-09-30 21:00:00 -38    \n",
       "336764  1     2013-09-30 20:00:00 -24    \n",
       "336765 45     2013-09-30 22:00:00   0    \n",
       "336766 45     2013-09-30 22:00:00 -12    \n",
       "336767 50     2013-09-30 22:00:00 -10    \n",
       "336768 46     2013-09-30 22:00:00 -11    \n",
       "336769 55     2013-09-30 22:00:00 -11    \n",
       "336770 59     2013-09-30 23:00:00 -15    \n",
       "336771 42     2013-09-30 18:00:00  NA    \n",
       "336772 55     2013-09-30 14:00:00  NA    \n",
       "336773  0     2013-09-30 22:00:00  NA    \n",
       "336774 10     2013-09-30 12:00:00  NA    \n",
       "336775 59     2013-09-30 11:00:00  NA    \n",
       "336776 40     2013-09-30 08:00:00  NA    "
      ]
     },
     "metadata": {},
     "output_type": "display_data"
    }
   ],
   "source": [
    "mutate(flights, new_col = arr_delay - dep_delay)"
   ]
  },
  {
   "cell_type": "code",
   "execution_count": 37,
   "metadata": {},
   "outputs": [
    {
     "data": {
      "text/html": [
       "<table>\n",
       "<thead><tr><th scope=col>new_col</th></tr></thead>\n",
       "<tbody>\n",
       "\t<tr><td> 22</td></tr>\n",
       "\t<tr><td> 80</td></tr>\n",
       "\t<tr><td> 66</td></tr>\n",
       "\t<tr><td> 18</td></tr>\n",
       "\t<tr><td>150</td></tr>\n",
       "\t<tr><td>-48</td></tr>\n",
       "</tbody>\n",
       "</table>\n"
      ],
      "text/latex": [
       "\\begin{tabular}{r|l}\n",
       " new\\_col\\\\\n",
       "\\hline\n",
       "\t  22\\\\\n",
       "\t  80\\\\\n",
       "\t  66\\\\\n",
       "\t  18\\\\\n",
       "\t 150\\\\\n",
       "\t -48\\\\\n",
       "\\end{tabular}\n"
      ],
      "text/markdown": [
       "\n",
       "new_col | \n",
       "|---|---|---|---|---|---|\n",
       "|  22 | \n",
       "|  80 | \n",
       "|  66 | \n",
       "|  18 | \n",
       "| 150 | \n",
       "| -48 | \n",
       "\n",
       "\n"
      ],
      "text/plain": [
       "  new_col\n",
       "1  22    \n",
       "2  80    \n",
       "3  66    \n",
       "4  18    \n",
       "5 150    \n",
       "6 -48    "
      ]
     },
     "metadata": {},
     "output_type": "display_data"
    }
   ],
   "source": [
    "head(transmute(flights, new_col = arr_delay * dep_delay))"
   ]
  },
  {
   "cell_type": "code",
   "execution_count": 38,
   "metadata": {},
   "outputs": [
    {
     "data": {
      "text/html": [
       "<table>\n",
       "<thead><tr><th scope=col>avg_air_time</th></tr></thead>\n",
       "<tbody>\n",
       "\t<tr><td>150.6865</td></tr>\n",
       "</tbody>\n",
       "</table>\n"
      ],
      "text/latex": [
       "\\begin{tabular}{r|l}\n",
       " avg\\_air\\_time\\\\\n",
       "\\hline\n",
       "\t 150.6865\\\\\n",
       "\\end{tabular}\n"
      ],
      "text/markdown": [
       "\n",
       "avg_air_time | \n",
       "|---|\n",
       "| 150.6865 | \n",
       "\n",
       "\n"
      ],
      "text/plain": [
       "  avg_air_time\n",
       "1 150.6865    "
      ]
     },
     "metadata": {},
     "output_type": "display_data"
    }
   ],
   "source": [
    "summarise(flights, avg_air_time = mean(air_time, na.rm = TRUE))"
   ]
  },
  {
   "cell_type": "code",
   "execution_count": 45,
   "metadata": {},
   "outputs": [
    {
     "data": {
      "text/html": [
       "<table>\n",
       "<thead><tr><th scope=col>carrier</th><th scope=col>n</th></tr></thead>\n",
       "<tbody>\n",
       "\t<tr><td>9E   </td><td>18460</td></tr>\n",
       "\t<tr><td>AA   </td><td>32729</td></tr>\n",
       "\t<tr><td>AS   </td><td>  714</td></tr>\n",
       "\t<tr><td>B6   </td><td>54635</td></tr>\n",
       "\t<tr><td>DL   </td><td>48110</td></tr>\n",
       "\t<tr><td>EV   </td><td>54173</td></tr>\n",
       "\t<tr><td>F9   </td><td>  685</td></tr>\n",
       "\t<tr><td>FL   </td><td> 3260</td></tr>\n",
       "\t<tr><td>HA   </td><td>  342</td></tr>\n",
       "\t<tr><td>MQ   </td><td>26397</td></tr>\n",
       "\t<tr><td>OO   </td><td>   32</td></tr>\n",
       "\t<tr><td>UA   </td><td>58665</td></tr>\n",
       "\t<tr><td>US   </td><td>20536</td></tr>\n",
       "\t<tr><td>VX   </td><td> 5162</td></tr>\n",
       "\t<tr><td>WN   </td><td>12275</td></tr>\n",
       "\t<tr><td>YV   </td><td>  601</td></tr>\n",
       "</tbody>\n",
       "</table>\n"
      ],
      "text/latex": [
       "\\begin{tabular}{r|ll}\n",
       " carrier & n\\\\\n",
       "\\hline\n",
       "\t 9E    & 18460\\\\\n",
       "\t AA    & 32729\\\\\n",
       "\t AS    &   714\\\\\n",
       "\t B6    & 54635\\\\\n",
       "\t DL    & 48110\\\\\n",
       "\t EV    & 54173\\\\\n",
       "\t F9    &   685\\\\\n",
       "\t FL    &  3260\\\\\n",
       "\t HA    &   342\\\\\n",
       "\t MQ    & 26397\\\\\n",
       "\t OO    &    32\\\\\n",
       "\t UA    & 58665\\\\\n",
       "\t US    & 20536\\\\\n",
       "\t VX    &  5162\\\\\n",
       "\t WN    & 12275\\\\\n",
       "\t YV    &   601\\\\\n",
       "\\end{tabular}\n"
      ],
      "text/markdown": [
       "\n",
       "carrier | n | \n",
       "|---|---|---|---|---|---|---|---|---|---|---|---|---|---|---|---|\n",
       "| 9E    | 18460 | \n",
       "| AA    | 32729 | \n",
       "| AS    |   714 | \n",
       "| B6    | 54635 | \n",
       "| DL    | 48110 | \n",
       "| EV    | 54173 | \n",
       "| F9    |   685 | \n",
       "| FL    |  3260 | \n",
       "| HA    |   342 | \n",
       "| MQ    | 26397 | \n",
       "| OO    |    32 | \n",
       "| UA    | 58665 | \n",
       "| US    | 20536 | \n",
       "| VX    |  5162 | \n",
       "| WN    | 12275 | \n",
       "| YV    |   601 | \n",
       "\n",
       "\n"
      ],
      "text/plain": [
       "   carrier n    \n",
       "1  9E      18460\n",
       "2  AA      32729\n",
       "3  AS        714\n",
       "4  B6      54635\n",
       "5  DL      48110\n",
       "6  EV      54173\n",
       "7  F9        685\n",
       "8  FL       3260\n",
       "9  HA        342\n",
       "10 MQ      26397\n",
       "11 OO         32\n",
       "12 UA      58665\n",
       "13 US      20536\n",
       "14 VX       5162\n",
       "15 WN      12275\n",
       "16 YV        601"
      ]
     },
     "metadata": {},
     "output_type": "display_data"
    }
   ],
   "source": [
    "count(flights, carrier )"
   ]
  },
  {
   "cell_type": "code",
   "execution_count": 46,
   "metadata": {},
   "outputs": [],
   "source": [
    "df <- mtcars"
   ]
  },
  {
   "cell_type": "code",
   "execution_count": 47,
   "metadata": {},
   "outputs": [],
   "source": [
    "result = arrange(sample_n(filter(df, mpg > 20), size = 5), desc(mpg))"
   ]
  },
  {
   "cell_type": "code",
   "execution_count": 48,
   "metadata": {},
   "outputs": [
    {
     "data": {
      "text/html": [
       "<table>\n",
       "<thead><tr><th scope=col>mpg</th><th scope=col>cyl</th><th scope=col>disp</th><th scope=col>hp</th><th scope=col>drat</th><th scope=col>wt</th><th scope=col>qsec</th><th scope=col>vs</th><th scope=col>am</th><th scope=col>gear</th><th scope=col>carb</th></tr></thead>\n",
       "<tbody>\n",
       "\t<tr><td>27.3 </td><td>4    </td><td> 79.0</td><td> 66  </td><td>4.08 </td><td>1.935</td><td>18.90</td><td>1    </td><td>1    </td><td>4    </td><td>1    </td></tr>\n",
       "\t<tr><td>26.0 </td><td>4    </td><td>120.3</td><td> 91  </td><td>4.43 </td><td>2.140</td><td>16.70</td><td>0    </td><td>1    </td><td>5    </td><td>2    </td></tr>\n",
       "\t<tr><td>22.8 </td><td>4    </td><td>140.8</td><td> 95  </td><td>3.92 </td><td>3.150</td><td>22.90</td><td>1    </td><td>0    </td><td>4    </td><td>2    </td></tr>\n",
       "\t<tr><td>21.4 </td><td>6    </td><td>258.0</td><td>110  </td><td>3.08 </td><td>3.215</td><td>19.44</td><td>1    </td><td>0    </td><td>3    </td><td>1    </td></tr>\n",
       "\t<tr><td>21.4 </td><td>4    </td><td>121.0</td><td>109  </td><td>4.11 </td><td>2.780</td><td>18.60</td><td>1    </td><td>1    </td><td>4    </td><td>2    </td></tr>\n",
       "</tbody>\n",
       "</table>\n"
      ],
      "text/latex": [
       "\\begin{tabular}{r|lllllllllll}\n",
       " mpg & cyl & disp & hp & drat & wt & qsec & vs & am & gear & carb\\\\\n",
       "\\hline\n",
       "\t 27.3  & 4     &  79.0 &  66   & 4.08  & 1.935 & 18.90 & 1     & 1     & 4     & 1    \\\\\n",
       "\t 26.0  & 4     & 120.3 &  91   & 4.43  & 2.140 & 16.70 & 0     & 1     & 5     & 2    \\\\\n",
       "\t 22.8  & 4     & 140.8 &  95   & 3.92  & 3.150 & 22.90 & 1     & 0     & 4     & 2    \\\\\n",
       "\t 21.4  & 6     & 258.0 & 110   & 3.08  & 3.215 & 19.44 & 1     & 0     & 3     & 1    \\\\\n",
       "\t 21.4  & 4     & 121.0 & 109   & 4.11  & 2.780 & 18.60 & 1     & 1     & 4     & 2    \\\\\n",
       "\\end{tabular}\n"
      ],
      "text/markdown": [
       "\n",
       "mpg | cyl | disp | hp | drat | wt | qsec | vs | am | gear | carb | \n",
       "|---|---|---|---|---|\n",
       "| 27.3  | 4     |  79.0 |  66   | 4.08  | 1.935 | 18.90 | 1     | 1     | 4     | 1     | \n",
       "| 26.0  | 4     | 120.3 |  91   | 4.43  | 2.140 | 16.70 | 0     | 1     | 5     | 2     | \n",
       "| 22.8  | 4     | 140.8 |  95   | 3.92  | 3.150 | 22.90 | 1     | 0     | 4     | 2     | \n",
       "| 21.4  | 6     | 258.0 | 110   | 3.08  | 3.215 | 19.44 | 1     | 0     | 3     | 1     | \n",
       "| 21.4  | 4     | 121.0 | 109   | 4.11  | 2.780 | 18.60 | 1     | 1     | 4     | 2     | \n",
       "\n",
       "\n"
      ],
      "text/plain": [
       "  mpg  cyl disp  hp  drat wt    qsec  vs am gear carb\n",
       "1 27.3 4    79.0  66 4.08 1.935 18.90 1  1  4    1   \n",
       "2 26.0 4   120.3  91 4.43 2.140 16.70 0  1  5    2   \n",
       "3 22.8 4   140.8  95 3.92 3.150 22.90 1  0  4    2   \n",
       "4 21.4 6   258.0 110 3.08 3.215 19.44 1  0  3    1   \n",
       "5 21.4 4   121.0 109 4.11 2.780 18.60 1  1  4    2   "
      ]
     },
     "metadata": {},
     "output_type": "display_data"
    }
   ],
   "source": [
    "result"
   ]
  },
  {
   "cell_type": "code",
   "execution_count": 49,
   "metadata": {},
   "outputs": [
    {
     "data": {
      "text/html": [
       "<table>\n",
       "<thead><tr><th scope=col>mpg</th><th scope=col>cyl</th><th scope=col>disp</th><th scope=col>hp</th><th scope=col>drat</th><th scope=col>wt</th><th scope=col>qsec</th><th scope=col>vs</th><th scope=col>am</th><th scope=col>gear</th><th scope=col>carb</th></tr></thead>\n",
       "<tbody>\n",
       "\t<tr><td>33.9 </td><td>4    </td><td> 71.1</td><td> 65  </td><td>4.22 </td><td>1.835</td><td>19.90</td><td>1    </td><td>1    </td><td>4    </td><td>1    </td></tr>\n",
       "\t<tr><td>26.0 </td><td>4    </td><td>120.3</td><td> 91  </td><td>4.43 </td><td>2.140</td><td>16.70</td><td>0    </td><td>1    </td><td>5    </td><td>2    </td></tr>\n",
       "\t<tr><td>24.4 </td><td>4    </td><td>146.7</td><td> 62  </td><td>3.69 </td><td>3.190</td><td>20.00</td><td>1    </td><td>0    </td><td>4    </td><td>2    </td></tr>\n",
       "\t<tr><td>21.4 </td><td>6    </td><td>258.0</td><td>110  </td><td>3.08 </td><td>3.215</td><td>19.44</td><td>1    </td><td>0    </td><td>3    </td><td>1    </td></tr>\n",
       "\t<tr><td>21.0 </td><td>6    </td><td>160.0</td><td>110  </td><td>3.90 </td><td>2.875</td><td>17.02</td><td>0    </td><td>1    </td><td>4    </td><td>4    </td></tr>\n",
       "</tbody>\n",
       "</table>\n"
      ],
      "text/latex": [
       "\\begin{tabular}{r|lllllllllll}\n",
       " mpg & cyl & disp & hp & drat & wt & qsec & vs & am & gear & carb\\\\\n",
       "\\hline\n",
       "\t 33.9  & 4     &  71.1 &  65   & 4.22  & 1.835 & 19.90 & 1     & 1     & 4     & 1    \\\\\n",
       "\t 26.0  & 4     & 120.3 &  91   & 4.43  & 2.140 & 16.70 & 0     & 1     & 5     & 2    \\\\\n",
       "\t 24.4  & 4     & 146.7 &  62   & 3.69  & 3.190 & 20.00 & 1     & 0     & 4     & 2    \\\\\n",
       "\t 21.4  & 6     & 258.0 & 110   & 3.08  & 3.215 & 19.44 & 1     & 0     & 3     & 1    \\\\\n",
       "\t 21.0  & 6     & 160.0 & 110   & 3.90  & 2.875 & 17.02 & 0     & 1     & 4     & 4    \\\\\n",
       "\\end{tabular}\n"
      ],
      "text/markdown": [
       "\n",
       "mpg | cyl | disp | hp | drat | wt | qsec | vs | am | gear | carb | \n",
       "|---|---|---|---|---|\n",
       "| 33.9  | 4     |  71.1 |  65   | 4.22  | 1.835 | 19.90 | 1     | 1     | 4     | 1     | \n",
       "| 26.0  | 4     | 120.3 |  91   | 4.43  | 2.140 | 16.70 | 0     | 1     | 5     | 2     | \n",
       "| 24.4  | 4     | 146.7 |  62   | 3.69  | 3.190 | 20.00 | 1     | 0     | 4     | 2     | \n",
       "| 21.4  | 6     | 258.0 | 110   | 3.08  | 3.215 | 19.44 | 1     | 0     | 3     | 1     | \n",
       "| 21.0  | 6     | 160.0 | 110   | 3.90  | 2.875 | 17.02 | 0     | 1     | 4     | 4     | \n",
       "\n",
       "\n"
      ],
      "text/plain": [
       "  mpg  cyl disp  hp  drat wt    qsec  vs am gear carb\n",
       "1 33.9 4    71.1  65 4.22 1.835 19.90 1  1  4    1   \n",
       "2 26.0 4   120.3  91 4.43 2.140 16.70 0  1  5    2   \n",
       "3 24.4 4   146.7  62 3.69 3.190 20.00 1  0  4    2   \n",
       "4 21.4 6   258.0 110 3.08 3.215 19.44 1  0  3    1   \n",
       "5 21.0 6   160.0 110 3.90 2.875 17.02 0  1  4    4   "
      ]
     },
     "metadata": {},
     "output_type": "display_data"
    }
   ],
   "source": [
    "a = filter(df, mpg > 20)\n",
    "b = sample_n(a, size = 5)\n",
    "result = arrange(b, desc(mpg))\n",
    "result"
   ]
  },
  {
   "cell_type": "code",
   "execution_count": 50,
   "metadata": {},
   "outputs": [
    {
     "data": {
      "text/html": [
       "<table>\n",
       "<thead><tr><th scope=col>mpg</th><th scope=col>cyl</th><th scope=col>disp</th><th scope=col>hp</th><th scope=col>drat</th><th scope=col>wt</th><th scope=col>qsec</th><th scope=col>vs</th><th scope=col>am</th><th scope=col>gear</th><th scope=col>carb</th></tr></thead>\n",
       "<tbody>\n",
       "\t<tr><td>33.9 </td><td>4    </td><td> 71.1</td><td> 65  </td><td>4.22 </td><td>1.835</td><td>19.90</td><td>1    </td><td>1    </td><td>4    </td><td>1    </td></tr>\n",
       "\t<tr><td>30.4 </td><td>4    </td><td> 95.1</td><td>113  </td><td>3.77 </td><td>1.513</td><td>16.90</td><td>1    </td><td>1    </td><td>5    </td><td>2    </td></tr>\n",
       "\t<tr><td>24.4 </td><td>4    </td><td>146.7</td><td> 62  </td><td>3.69 </td><td>3.190</td><td>20.00</td><td>1    </td><td>0    </td><td>4    </td><td>2    </td></tr>\n",
       "\t<tr><td>21.0 </td><td>6    </td><td>160.0</td><td>110  </td><td>3.90 </td><td>2.875</td><td>17.02</td><td>0    </td><td>1    </td><td>4    </td><td>4    </td></tr>\n",
       "\t<tr><td>21.0 </td><td>6    </td><td>160.0</td><td>110  </td><td>3.90 </td><td>2.620</td><td>16.46</td><td>0    </td><td>1    </td><td>4    </td><td>4    </td></tr>\n",
       "</tbody>\n",
       "</table>\n"
      ],
      "text/latex": [
       "\\begin{tabular}{r|lllllllllll}\n",
       " mpg & cyl & disp & hp & drat & wt & qsec & vs & am & gear & carb\\\\\n",
       "\\hline\n",
       "\t 33.9  & 4     &  71.1 &  65   & 4.22  & 1.835 & 19.90 & 1     & 1     & 4     & 1    \\\\\n",
       "\t 30.4  & 4     &  95.1 & 113   & 3.77  & 1.513 & 16.90 & 1     & 1     & 5     & 2    \\\\\n",
       "\t 24.4  & 4     & 146.7 &  62   & 3.69  & 3.190 & 20.00 & 1     & 0     & 4     & 2    \\\\\n",
       "\t 21.0  & 6     & 160.0 & 110   & 3.90  & 2.875 & 17.02 & 0     & 1     & 4     & 4    \\\\\n",
       "\t 21.0  & 6     & 160.0 & 110   & 3.90  & 2.620 & 16.46 & 0     & 1     & 4     & 4    \\\\\n",
       "\\end{tabular}\n"
      ],
      "text/markdown": [
       "\n",
       "mpg | cyl | disp | hp | drat | wt | qsec | vs | am | gear | carb | \n",
       "|---|---|---|---|---|\n",
       "| 33.9  | 4     |  71.1 |  65   | 4.22  | 1.835 | 19.90 | 1     | 1     | 4     | 1     | \n",
       "| 30.4  | 4     |  95.1 | 113   | 3.77  | 1.513 | 16.90 | 1     | 1     | 5     | 2     | \n",
       "| 24.4  | 4     | 146.7 |  62   | 3.69  | 3.190 | 20.00 | 1     | 0     | 4     | 2     | \n",
       "| 21.0  | 6     | 160.0 | 110   | 3.90  | 2.875 | 17.02 | 0     | 1     | 4     | 4     | \n",
       "| 21.0  | 6     | 160.0 | 110   | 3.90  | 2.620 | 16.46 | 0     | 1     | 4     | 4     | \n",
       "\n",
       "\n"
      ],
      "text/plain": [
       "  mpg  cyl disp  hp  drat wt    qsec  vs am gear carb\n",
       "1 33.9 4    71.1  65 4.22 1.835 19.90 1  1  4    1   \n",
       "2 30.4 4    95.1 113 3.77 1.513 16.90 1  1  5    2   \n",
       "3 24.4 4   146.7  62 3.69 3.190 20.00 1  0  4    2   \n",
       "4 21.0 6   160.0 110 3.90 2.875 17.02 0  1  4    4   \n",
       "5 21.0 6   160.0 110 3.90 2.620 16.46 0  1  4    4   "
      ]
     },
     "metadata": {},
     "output_type": "display_data"
    }
   ],
   "source": [
    "result = df %>% filter(mpg >20) %>% sample_n(size = 5) %>% arrange(desc(mpg))\n",
    "result"
   ]
  },
  {
   "cell_type": "code",
   "execution_count": 6,
   "metadata": {},
   "outputs": [
    {
     "data": {
      "text/html": [
       "<table>\n",
       "<thead><tr><th></th><th scope=col>mpg</th><th scope=col>cyl</th><th scope=col>disp</th><th scope=col>hp</th><th scope=col>drat</th><th scope=col>wt</th><th scope=col>qsec</th><th scope=col>vs</th><th scope=col>am</th><th scope=col>gear</th><th scope=col>carb</th></tr></thead>\n",
       "<tbody>\n",
       "\t<tr><th scope=row>Mazda RX4</th><td>21.0 </td><td>6    </td><td>160  </td><td>110  </td><td>3.90 </td><td>2.620</td><td>16.46</td><td>0    </td><td>1    </td><td>4    </td><td>4    </td></tr>\n",
       "\t<tr><th scope=row>Mazda RX4 Wag</th><td>21.0 </td><td>6    </td><td>160  </td><td>110  </td><td>3.90 </td><td>2.875</td><td>17.02</td><td>0    </td><td>1    </td><td>4    </td><td>4    </td></tr>\n",
       "\t<tr><th scope=row>Datsun 710</th><td>22.8 </td><td>4    </td><td>108  </td><td> 93  </td><td>3.85 </td><td>2.320</td><td>18.61</td><td>1    </td><td>1    </td><td>4    </td><td>1    </td></tr>\n",
       "\t<tr><th scope=row>Hornet 4 Drive</th><td>21.4 </td><td>6    </td><td>258  </td><td>110  </td><td>3.08 </td><td>3.215</td><td>19.44</td><td>1    </td><td>0    </td><td>3    </td><td>1    </td></tr>\n",
       "\t<tr><th scope=row>Hornet Sportabout</th><td>18.7 </td><td>8    </td><td>360  </td><td>175  </td><td>3.15 </td><td>3.440</td><td>17.02</td><td>0    </td><td>0    </td><td>3    </td><td>2    </td></tr>\n",
       "\t<tr><th scope=row>Valiant</th><td>18.1 </td><td>6    </td><td>225  </td><td>105  </td><td>2.76 </td><td>3.460</td><td>20.22</td><td>1    </td><td>0    </td><td>3    </td><td>1    </td></tr>\n",
       "</tbody>\n",
       "</table>\n"
      ],
      "text/latex": [
       "\\begin{tabular}{r|lllllllllll}\n",
       "  & mpg & cyl & disp & hp & drat & wt & qsec & vs & am & gear & carb\\\\\n",
       "\\hline\n",
       "\tMazda RX4 & 21.0  & 6     & 160   & 110   & 3.90  & 2.620 & 16.46 & 0     & 1     & 4     & 4    \\\\\n",
       "\tMazda RX4 Wag & 21.0  & 6     & 160   & 110   & 3.90  & 2.875 & 17.02 & 0     & 1     & 4     & 4    \\\\\n",
       "\tDatsun 710 & 22.8  & 4     & 108   &  93   & 3.85  & 2.320 & 18.61 & 1     & 1     & 4     & 1    \\\\\n",
       "\tHornet 4 Drive & 21.4  & 6     & 258   & 110   & 3.08  & 3.215 & 19.44 & 1     & 0     & 3     & 1    \\\\\n",
       "\tHornet Sportabout & 18.7  & 8     & 360   & 175   & 3.15  & 3.440 & 17.02 & 0     & 0     & 3     & 2    \\\\\n",
       "\tValiant & 18.1  & 6     & 225   & 105   & 2.76  & 3.460 & 20.22 & 1     & 0     & 3     & 1    \\\\\n",
       "\\end{tabular}\n"
      ],
      "text/markdown": [
       "\n",
       "| <!--/--> | mpg | cyl | disp | hp | drat | wt | qsec | vs | am | gear | carb | \n",
       "|---|---|---|---|---|---|\n",
       "| Mazda RX4 | 21.0  | 6     | 160   | 110   | 3.90  | 2.620 | 16.46 | 0     | 1     | 4     | 4     | \n",
       "| Mazda RX4 Wag | 21.0  | 6     | 160   | 110   | 3.90  | 2.875 | 17.02 | 0     | 1     | 4     | 4     | \n",
       "| Datsun 710 | 22.8  | 4     | 108   |  93   | 3.85  | 2.320 | 18.61 | 1     | 1     | 4     | 1     | \n",
       "| Hornet 4 Drive | 21.4  | 6     | 258   | 110   | 3.08  | 3.215 | 19.44 | 1     | 0     | 3     | 1     | \n",
       "| Hornet Sportabout | 18.7  | 8     | 360   | 175   | 3.15  | 3.440 | 17.02 | 0     | 0     | 3     | 2     | \n",
       "| Valiant | 18.1  | 6     | 225   | 105   | 2.76  | 3.460 | 20.22 | 1     | 0     | 3     | 1     | \n",
       "\n",
       "\n"
      ],
      "text/plain": [
       "                  mpg  cyl disp hp  drat wt    qsec  vs am gear carb\n",
       "Mazda RX4         21.0 6   160  110 3.90 2.620 16.46 0  1  4    4   \n",
       "Mazda RX4 Wag     21.0 6   160  110 3.90 2.875 17.02 0  1  4    4   \n",
       "Datsun 710        22.8 4   108   93 3.85 2.320 18.61 1  1  4    1   \n",
       "Hornet 4 Drive    21.4 6   258  110 3.08 3.215 19.44 1  0  3    1   \n",
       "Hornet Sportabout 18.7 8   360  175 3.15 3.440 17.02 0  0  3    2   \n",
       "Valiant           18.1 6   225  105 2.76 3.460 20.22 1  0  3    1   "
      ]
     },
     "metadata": {},
     "output_type": "display_data"
    }
   ],
   "source": [
    "library(MASS)\n",
    "head(mtcars)"
   ]
  },
  {
   "cell_type": "code",
   "execution_count": 15,
   "metadata": {},
   "outputs": [
    {
     "data": {
      "text/html": [
       "<table>\n",
       "<thead><tr><th scope=col>mpg</th><th scope=col>cyl</th><th scope=col>disp</th><th scope=col>hp</th><th scope=col>drat</th><th scope=col>wt</th><th scope=col>qsec</th><th scope=col>vs</th><th scope=col>am</th><th scope=col>gear</th><th scope=col>carb</th></tr></thead>\n",
       "<tbody>\n",
       "\t<tr><td>21.0 </td><td>6    </td><td>160  </td><td>110  </td><td>3.90 </td><td>2.620</td><td>16.46</td><td>0    </td><td>1    </td><td>4    </td><td>4    </td></tr>\n",
       "\t<tr><td>21.0 </td><td>6    </td><td>160  </td><td>110  </td><td>3.90 </td><td>2.875</td><td>17.02</td><td>0    </td><td>1    </td><td>4    </td><td>4    </td></tr>\n",
       "\t<tr><td>21.4 </td><td>6    </td><td>258  </td><td>110  </td><td>3.08 </td><td>3.215</td><td>19.44</td><td>1    </td><td>0    </td><td>3    </td><td>1    </td></tr>\n",
       "</tbody>\n",
       "</table>\n"
      ],
      "text/latex": [
       "\\begin{tabular}{r|lllllllllll}\n",
       " mpg & cyl & disp & hp & drat & wt & qsec & vs & am & gear & carb\\\\\n",
       "\\hline\n",
       "\t 21.0  & 6     & 160   & 110   & 3.90  & 2.620 & 16.46 & 0     & 1     & 4     & 4    \\\\\n",
       "\t 21.0  & 6     & 160   & 110   & 3.90  & 2.875 & 17.02 & 0     & 1     & 4     & 4    \\\\\n",
       "\t 21.4  & 6     & 258   & 110   & 3.08  & 3.215 & 19.44 & 1     & 0     & 3     & 1    \\\\\n",
       "\\end{tabular}\n"
      ],
      "text/markdown": [
       "\n",
       "mpg | cyl | disp | hp | drat | wt | qsec | vs | am | gear | carb | \n",
       "|---|---|---|\n",
       "| 21.0  | 6     | 160   | 110   | 3.90  | 2.620 | 16.46 | 0     | 1     | 4     | 4     | \n",
       "| 21.0  | 6     | 160   | 110   | 3.90  | 2.875 | 17.02 | 0     | 1     | 4     | 4     | \n",
       "| 21.4  | 6     | 258   | 110   | 3.08  | 3.215 | 19.44 | 1     | 0     | 3     | 1     | \n",
       "\n",
       "\n"
      ],
      "text/plain": [
       "  mpg  cyl disp hp  drat wt    qsec  vs am gear carb\n",
       "1 21.0 6   160  110 3.90 2.620 16.46 0  1  4    4   \n",
       "2 21.0 6   160  110 3.90 2.875 17.02 0  1  4    4   \n",
       "3 21.4 6   258  110 3.08 3.215 19.44 1  0  3    1   "
      ]
     },
     "metadata": {},
     "output_type": "display_data"
    }
   ],
   "source": [
    "# Return rows of cars that have an mpg value greater than 20 and 6 cylinders.\n",
    "filter(mtcars, mpg > 20, cyl == 6)\n"
   ]
  },
  {
   "cell_type": "code",
   "execution_count": 18,
   "metadata": {},
   "outputs": [
    {
     "data": {
      "text/html": [
       "<table>\n",
       "<thead><tr><th scope=col>mpg</th><th scope=col>cyl</th><th scope=col>disp</th><th scope=col>hp</th><th scope=col>drat</th><th scope=col>wt</th><th scope=col>qsec</th><th scope=col>vs</th><th scope=col>am</th><th scope=col>gear</th><th scope=col>carb</th></tr></thead>\n",
       "<tbody>\n",
       "\t<tr><td>24.4 </td><td>4    </td><td>146.7</td><td> 62  </td><td>3.69 </td><td>3.190</td><td>20.00</td><td>1    </td><td>0    </td><td>4    </td><td>2    </td></tr>\n",
       "\t<tr><td>22.8 </td><td>4    </td><td>140.8</td><td> 95  </td><td>3.92 </td><td>3.150</td><td>22.90</td><td>1    </td><td>0    </td><td>4    </td><td>2    </td></tr>\n",
       "\t<tr><td>21.4 </td><td>4    </td><td>121.0</td><td>109  </td><td>4.11 </td><td>2.780</td><td>18.60</td><td>1    </td><td>1    </td><td>4    </td><td>2    </td></tr>\n",
       "\t<tr><td>21.5 </td><td>4    </td><td>120.1</td><td> 97  </td><td>3.70 </td><td>2.465</td><td>20.01</td><td>1    </td><td>0    </td><td>3    </td><td>1    </td></tr>\n",
       "\t<tr><td>22.8 </td><td>4    </td><td>108.0</td><td> 93  </td><td>3.85 </td><td>2.320</td><td>18.61</td><td>1    </td><td>1    </td><td>4    </td><td>1    </td></tr>\n",
       "\t<tr><td>32.4 </td><td>4    </td><td> 78.7</td><td> 66  </td><td>4.08 </td><td>2.200</td><td>19.47</td><td>1    </td><td>1    </td><td>4    </td><td>1    </td></tr>\n",
       "</tbody>\n",
       "</table>\n"
      ],
      "text/latex": [
       "\\begin{tabular}{r|lllllllllll}\n",
       " mpg & cyl & disp & hp & drat & wt & qsec & vs & am & gear & carb\\\\\n",
       "\\hline\n",
       "\t 24.4  & 4     & 146.7 &  62   & 3.69  & 3.190 & 20.00 & 1     & 0     & 4     & 2    \\\\\n",
       "\t 22.8  & 4     & 140.8 &  95   & 3.92  & 3.150 & 22.90 & 1     & 0     & 4     & 2    \\\\\n",
       "\t 21.4  & 4     & 121.0 & 109   & 4.11  & 2.780 & 18.60 & 1     & 1     & 4     & 2    \\\\\n",
       "\t 21.5  & 4     & 120.1 &  97   & 3.70  & 2.465 & 20.01 & 1     & 0     & 3     & 1    \\\\\n",
       "\t 22.8  & 4     & 108.0 &  93   & 3.85  & 2.320 & 18.61 & 1     & 1     & 4     & 1    \\\\\n",
       "\t 32.4  & 4     &  78.7 &  66   & 4.08  & 2.200 & 19.47 & 1     & 1     & 4     & 1    \\\\\n",
       "\\end{tabular}\n"
      ],
      "text/markdown": [
       "\n",
       "mpg | cyl | disp | hp | drat | wt | qsec | vs | am | gear | carb | \n",
       "|---|---|---|---|---|---|\n",
       "| 24.4  | 4     | 146.7 |  62   | 3.69  | 3.190 | 20.00 | 1     | 0     | 4     | 2     | \n",
       "| 22.8  | 4     | 140.8 |  95   | 3.92  | 3.150 | 22.90 | 1     | 0     | 4     | 2     | \n",
       "| 21.4  | 4     | 121.0 | 109   | 4.11  | 2.780 | 18.60 | 1     | 1     | 4     | 2     | \n",
       "| 21.5  | 4     | 120.1 |  97   | 3.70  | 2.465 | 20.01 | 1     | 0     | 3     | 1     | \n",
       "| 22.8  | 4     | 108.0 |  93   | 3.85  | 2.320 | 18.61 | 1     | 1     | 4     | 1     | \n",
       "| 32.4  | 4     |  78.7 |  66   | 4.08  | 2.200 | 19.47 | 1     | 1     | 4     | 1     | \n",
       "\n",
       "\n"
      ],
      "text/plain": [
       "  mpg  cyl disp  hp  drat wt    qsec  vs am gear carb\n",
       "1 24.4 4   146.7  62 3.69 3.190 20.00 1  0  4    2   \n",
       "2 22.8 4   140.8  95 3.92 3.150 22.90 1  0  4    2   \n",
       "3 21.4 4   121.0 109 4.11 2.780 18.60 1  1  4    2   \n",
       "4 21.5 4   120.1  97 3.70 2.465 20.01 1  0  3    1   \n",
       "5 22.8 4   108.0  93 3.85 2.320 18.61 1  1  4    1   \n",
       "6 32.4 4    78.7  66 4.08 2.200 19.47 1  1  4    1   "
      ]
     },
     "metadata": {},
     "output_type": "display_data"
    }
   ],
   "source": [
    "#Reorder the Data Frame by cyl first, then by descending wt.\n",
    "head(arrange(mtcars,cyl,desc(wt)))"
   ]
  },
  {
   "cell_type": "code",
   "execution_count": 19,
   "metadata": {},
   "outputs": [
    {
     "data": {
      "text/html": [
       "<table>\n",
       "<thead><tr><th></th><th scope=col>mpg</th><th scope=col>hp</th></tr></thead>\n",
       "<tbody>\n",
       "\t<tr><th scope=row>Mazda RX4</th><td>21.0</td><td>110 </td></tr>\n",
       "\t<tr><th scope=row>Mazda RX4 Wag</th><td>21.0</td><td>110 </td></tr>\n",
       "\t<tr><th scope=row>Datsun 710</th><td>22.8</td><td> 93 </td></tr>\n",
       "\t<tr><th scope=row>Hornet 4 Drive</th><td>21.4</td><td>110 </td></tr>\n",
       "\t<tr><th scope=row>Hornet Sportabout</th><td>18.7</td><td>175 </td></tr>\n",
       "\t<tr><th scope=row>Valiant</th><td>18.1</td><td>105 </td></tr>\n",
       "\t<tr><th scope=row>Duster 360</th><td>14.3</td><td>245 </td></tr>\n",
       "\t<tr><th scope=row>Merc 240D</th><td>24.4</td><td> 62 </td></tr>\n",
       "\t<tr><th scope=row>Merc 230</th><td>22.8</td><td> 95 </td></tr>\n",
       "\t<tr><th scope=row>Merc 280</th><td>19.2</td><td>123 </td></tr>\n",
       "\t<tr><th scope=row>Merc 280C</th><td>17.8</td><td>123 </td></tr>\n",
       "\t<tr><th scope=row>Merc 450SE</th><td>16.4</td><td>180 </td></tr>\n",
       "\t<tr><th scope=row>Merc 450SL</th><td>17.3</td><td>180 </td></tr>\n",
       "\t<tr><th scope=row>Merc 450SLC</th><td>15.2</td><td>180 </td></tr>\n",
       "\t<tr><th scope=row>Cadillac Fleetwood</th><td>10.4</td><td>205 </td></tr>\n",
       "\t<tr><th scope=row>Lincoln Continental</th><td>10.4</td><td>215 </td></tr>\n",
       "\t<tr><th scope=row>Chrysler Imperial</th><td>14.7</td><td>230 </td></tr>\n",
       "\t<tr><th scope=row>Fiat 128</th><td>32.4</td><td> 66 </td></tr>\n",
       "\t<tr><th scope=row>Honda Civic</th><td>30.4</td><td> 52 </td></tr>\n",
       "\t<tr><th scope=row>Toyota Corolla</th><td>33.9</td><td> 65 </td></tr>\n",
       "\t<tr><th scope=row>Toyota Corona</th><td>21.5</td><td> 97 </td></tr>\n",
       "\t<tr><th scope=row>Dodge Challenger</th><td>15.5</td><td>150 </td></tr>\n",
       "\t<tr><th scope=row>AMC Javelin</th><td>15.2</td><td>150 </td></tr>\n",
       "\t<tr><th scope=row>Camaro Z28</th><td>13.3</td><td>245 </td></tr>\n",
       "\t<tr><th scope=row>Pontiac Firebird</th><td>19.2</td><td>175 </td></tr>\n",
       "\t<tr><th scope=row>Fiat X1-9</th><td>27.3</td><td> 66 </td></tr>\n",
       "\t<tr><th scope=row>Porsche 914-2</th><td>26.0</td><td> 91 </td></tr>\n",
       "\t<tr><th scope=row>Lotus Europa</th><td>30.4</td><td>113 </td></tr>\n",
       "\t<tr><th scope=row>Ford Pantera L</th><td>15.8</td><td>264 </td></tr>\n",
       "\t<tr><th scope=row>Ferrari Dino</th><td>19.7</td><td>175 </td></tr>\n",
       "\t<tr><th scope=row>Maserati Bora</th><td>15.0</td><td>335 </td></tr>\n",
       "\t<tr><th scope=row>Volvo 142E</th><td>21.4</td><td>109 </td></tr>\n",
       "</tbody>\n",
       "</table>\n"
      ],
      "text/latex": [
       "\\begin{tabular}{r|ll}\n",
       "  & mpg & hp\\\\\n",
       "\\hline\n",
       "\tMazda RX4 & 21.0 & 110 \\\\\n",
       "\tMazda RX4 Wag & 21.0 & 110 \\\\\n",
       "\tDatsun 710 & 22.8 &  93 \\\\\n",
       "\tHornet 4 Drive & 21.4 & 110 \\\\\n",
       "\tHornet Sportabout & 18.7 & 175 \\\\\n",
       "\tValiant & 18.1 & 105 \\\\\n",
       "\tDuster 360 & 14.3 & 245 \\\\\n",
       "\tMerc 240D & 24.4 &  62 \\\\\n",
       "\tMerc 230 & 22.8 &  95 \\\\\n",
       "\tMerc 280 & 19.2 & 123 \\\\\n",
       "\tMerc 280C & 17.8 & 123 \\\\\n",
       "\tMerc 450SE & 16.4 & 180 \\\\\n",
       "\tMerc 450SL & 17.3 & 180 \\\\\n",
       "\tMerc 450SLC & 15.2 & 180 \\\\\n",
       "\tCadillac Fleetwood & 10.4 & 205 \\\\\n",
       "\tLincoln Continental & 10.4 & 215 \\\\\n",
       "\tChrysler Imperial & 14.7 & 230 \\\\\n",
       "\tFiat 128 & 32.4 &  66 \\\\\n",
       "\tHonda Civic & 30.4 &  52 \\\\\n",
       "\tToyota Corolla & 33.9 &  65 \\\\\n",
       "\tToyota Corona & 21.5 &  97 \\\\\n",
       "\tDodge Challenger & 15.5 & 150 \\\\\n",
       "\tAMC Javelin & 15.2 & 150 \\\\\n",
       "\tCamaro Z28 & 13.3 & 245 \\\\\n",
       "\tPontiac Firebird & 19.2 & 175 \\\\\n",
       "\tFiat X1-9 & 27.3 &  66 \\\\\n",
       "\tPorsche 914-2 & 26.0 &  91 \\\\\n",
       "\tLotus Europa & 30.4 & 113 \\\\\n",
       "\tFord Pantera L & 15.8 & 264 \\\\\n",
       "\tFerrari Dino & 19.7 & 175 \\\\\n",
       "\tMaserati Bora & 15.0 & 335 \\\\\n",
       "\tVolvo 142E & 21.4 & 109 \\\\\n",
       "\\end{tabular}\n"
      ],
      "text/markdown": [
       "\n",
       "| <!--/--> | mpg | hp | \n",
       "|---|---|---|---|---|---|---|---|---|---|---|---|---|---|---|---|---|---|---|---|---|---|---|---|---|---|---|---|---|---|---|---|\n",
       "| Mazda RX4 | 21.0 | 110  | \n",
       "| Mazda RX4 Wag | 21.0 | 110  | \n",
       "| Datsun 710 | 22.8 |  93  | \n",
       "| Hornet 4 Drive | 21.4 | 110  | \n",
       "| Hornet Sportabout | 18.7 | 175  | \n",
       "| Valiant | 18.1 | 105  | \n",
       "| Duster 360 | 14.3 | 245  | \n",
       "| Merc 240D | 24.4 |  62  | \n",
       "| Merc 230 | 22.8 |  95  | \n",
       "| Merc 280 | 19.2 | 123  | \n",
       "| Merc 280C | 17.8 | 123  | \n",
       "| Merc 450SE | 16.4 | 180  | \n",
       "| Merc 450SL | 17.3 | 180  | \n",
       "| Merc 450SLC | 15.2 | 180  | \n",
       "| Cadillac Fleetwood | 10.4 | 205  | \n",
       "| Lincoln Continental | 10.4 | 215  | \n",
       "| Chrysler Imperial | 14.7 | 230  | \n",
       "| Fiat 128 | 32.4 |  66  | \n",
       "| Honda Civic | 30.4 |  52  | \n",
       "| Toyota Corolla | 33.9 |  65  | \n",
       "| Toyota Corona | 21.5 |  97  | \n",
       "| Dodge Challenger | 15.5 | 150  | \n",
       "| AMC Javelin | 15.2 | 150  | \n",
       "| Camaro Z28 | 13.3 | 245  | \n",
       "| Pontiac Firebird | 19.2 | 175  | \n",
       "| Fiat X1-9 | 27.3 |  66  | \n",
       "| Porsche 914-2 | 26.0 |  91  | \n",
       "| Lotus Europa | 30.4 | 113  | \n",
       "| Ford Pantera L | 15.8 | 264  | \n",
       "| Ferrari Dino | 19.7 | 175  | \n",
       "| Maserati Bora | 15.0 | 335  | \n",
       "| Volvo 142E | 21.4 | 109  | \n",
       "\n",
       "\n"
      ],
      "text/plain": [
       "                    mpg  hp \n",
       "Mazda RX4           21.0 110\n",
       "Mazda RX4 Wag       21.0 110\n",
       "Datsun 710          22.8  93\n",
       "Hornet 4 Drive      21.4 110\n",
       "Hornet Sportabout   18.7 175\n",
       "Valiant             18.1 105\n",
       "Duster 360          14.3 245\n",
       "Merc 240D           24.4  62\n",
       "Merc 230            22.8  95\n",
       "Merc 280            19.2 123\n",
       "Merc 280C           17.8 123\n",
       "Merc 450SE          16.4 180\n",
       "Merc 450SL          17.3 180\n",
       "Merc 450SLC         15.2 180\n",
       "Cadillac Fleetwood  10.4 205\n",
       "Lincoln Continental 10.4 215\n",
       "Chrysler Imperial   14.7 230\n",
       "Fiat 128            32.4  66\n",
       "Honda Civic         30.4  52\n",
       "Toyota Corolla      33.9  65\n",
       "Toyota Corona       21.5  97\n",
       "Dodge Challenger    15.5 150\n",
       "AMC Javelin         15.2 150\n",
       "Camaro Z28          13.3 245\n",
       "Pontiac Firebird    19.2 175\n",
       "Fiat X1-9           27.3  66\n",
       "Porsche 914-2       26.0  91\n",
       "Lotus Europa        30.4 113\n",
       "Ford Pantera L      15.8 264\n",
       "Ferrari Dino        19.7 175\n",
       "Maserati Bora       15.0 335\n",
       "Volvo 142E          21.4 109"
      ]
     },
     "metadata": {},
     "output_type": "display_data"
    }
   ],
   "source": [
    "#Select the columns mpg and hp\n",
    "select(mtcars, mpg, hp)\n"
   ]
  },
  {
   "cell_type": "code",
   "execution_count": 20,
   "metadata": {},
   "outputs": [
    {
     "data": {
      "text/html": [
       "<table>\n",
       "<thead><tr><th scope=col>gear</th></tr></thead>\n",
       "<tbody>\n",
       "\t<tr><td>4</td></tr>\n",
       "\t<tr><td>3</td></tr>\n",
       "\t<tr><td>5</td></tr>\n",
       "</tbody>\n",
       "</table>\n"
      ],
      "text/latex": [
       "\\begin{tabular}{r|l}\n",
       " gear\\\\\n",
       "\\hline\n",
       "\t 4\\\\\n",
       "\t 3\\\\\n",
       "\t 5\\\\\n",
       "\\end{tabular}\n"
      ],
      "text/markdown": [
       "\n",
       "gear | \n",
       "|---|---|---|\n",
       "| 4 | \n",
       "| 3 | \n",
       "| 5 | \n",
       "\n",
       "\n"
      ],
      "text/plain": [
       "  gear\n",
       "1 4   \n",
       "2 3   \n",
       "3 5   "
      ]
     },
     "metadata": {},
     "output_type": "display_data"
    }
   ],
   "source": [
    "#Select the distinct values of the gear column.\n",
    "distinct(select(mtcars,gear))"
   ]
  },
  {
   "cell_type": "code",
   "execution_count": 21,
   "metadata": {},
   "outputs": [
    {
     "data": {
      "text/html": [
       "<table>\n",
       "<thead><tr><th scope=col>mpg</th><th scope=col>cyl</th><th scope=col>disp</th><th scope=col>hp</th><th scope=col>drat</th><th scope=col>wt</th><th scope=col>qsec</th><th scope=col>vs</th><th scope=col>am</th><th scope=col>gear</th><th scope=col>carb</th><th scope=col>Performance</th></tr></thead>\n",
       "<tbody>\n",
       "\t<tr><td>21.0    </td><td>6       </td><td>160.0   </td><td>110     </td><td>3.90    </td><td>2.620   </td><td>16.46   </td><td>0       </td><td>1       </td><td>4       </td><td>4       </td><td>41.98473</td></tr>\n",
       "\t<tr><td>21.0    </td><td>6       </td><td>160.0   </td><td>110     </td><td>3.90    </td><td>2.875   </td><td>17.02   </td><td>0       </td><td>1       </td><td>4       </td><td>4       </td><td>38.26087</td></tr>\n",
       "\t<tr><td>22.8    </td><td>4       </td><td>108.0   </td><td> 93     </td><td>3.85    </td><td>2.320   </td><td>18.61   </td><td>1       </td><td>1       </td><td>4       </td><td>1       </td><td>40.08621</td></tr>\n",
       "\t<tr><td>21.4    </td><td>6       </td><td>258.0   </td><td>110     </td><td>3.08    </td><td>3.215   </td><td>19.44   </td><td>1       </td><td>0       </td><td>3       </td><td>1       </td><td>34.21462</td></tr>\n",
       "\t<tr><td>18.7    </td><td>8       </td><td>360.0   </td><td>175     </td><td>3.15    </td><td>3.440   </td><td>17.02   </td><td>0       </td><td>0       </td><td>3       </td><td>2       </td><td>50.87209</td></tr>\n",
       "\t<tr><td>18.1    </td><td>6       </td><td>225.0   </td><td>105     </td><td>2.76    </td><td>3.460   </td><td>20.22   </td><td>1       </td><td>0       </td><td>3       </td><td>1       </td><td>30.34682</td></tr>\n",
       "\t<tr><td>14.3    </td><td>8       </td><td>360.0   </td><td>245     </td><td>3.21    </td><td>3.570   </td><td>15.84   </td><td>0       </td><td>0       </td><td>3       </td><td>4       </td><td>68.62745</td></tr>\n",
       "\t<tr><td>24.4    </td><td>4       </td><td>146.7   </td><td> 62     </td><td>3.69    </td><td>3.190   </td><td>20.00   </td><td>1       </td><td>0       </td><td>4       </td><td>2       </td><td>19.43574</td></tr>\n",
       "\t<tr><td>22.8    </td><td>4       </td><td>140.8   </td><td> 95     </td><td>3.92    </td><td>3.150   </td><td>22.90   </td><td>1       </td><td>0       </td><td>4       </td><td>2       </td><td>30.15873</td></tr>\n",
       "\t<tr><td>19.2    </td><td>6       </td><td>167.6   </td><td>123     </td><td>3.92    </td><td>3.440   </td><td>18.30   </td><td>1       </td><td>0       </td><td>4       </td><td>4       </td><td>35.75581</td></tr>\n",
       "\t<tr><td>17.8    </td><td>6       </td><td>167.6   </td><td>123     </td><td>3.92    </td><td>3.440   </td><td>18.90   </td><td>1       </td><td>0       </td><td>4       </td><td>4       </td><td>35.75581</td></tr>\n",
       "\t<tr><td>16.4    </td><td>8       </td><td>275.8   </td><td>180     </td><td>3.07    </td><td>4.070   </td><td>17.40   </td><td>0       </td><td>0       </td><td>3       </td><td>3       </td><td>44.22604</td></tr>\n",
       "\t<tr><td>17.3    </td><td>8       </td><td>275.8   </td><td>180     </td><td>3.07    </td><td>3.730   </td><td>17.60   </td><td>0       </td><td>0       </td><td>3       </td><td>3       </td><td>48.25737</td></tr>\n",
       "\t<tr><td>15.2    </td><td>8       </td><td>275.8   </td><td>180     </td><td>3.07    </td><td>3.780   </td><td>18.00   </td><td>0       </td><td>0       </td><td>3       </td><td>3       </td><td>47.61905</td></tr>\n",
       "\t<tr><td>10.4    </td><td>8       </td><td>472.0   </td><td>205     </td><td>2.93    </td><td>5.250   </td><td>17.98   </td><td>0       </td><td>0       </td><td>3       </td><td>4       </td><td>39.04762</td></tr>\n",
       "\t<tr><td>10.4    </td><td>8       </td><td>460.0   </td><td>215     </td><td>3.00    </td><td>5.424   </td><td>17.82   </td><td>0       </td><td>0       </td><td>3       </td><td>4       </td><td>39.63864</td></tr>\n",
       "\t<tr><td>14.7    </td><td>8       </td><td>440.0   </td><td>230     </td><td>3.23    </td><td>5.345   </td><td>17.42   </td><td>0       </td><td>0       </td><td>3       </td><td>4       </td><td>43.03087</td></tr>\n",
       "\t<tr><td>32.4    </td><td>4       </td><td> 78.7   </td><td> 66     </td><td>4.08    </td><td>2.200   </td><td>19.47   </td><td>1       </td><td>1       </td><td>4       </td><td>1       </td><td>30.00000</td></tr>\n",
       "\t<tr><td>30.4    </td><td>4       </td><td> 75.7   </td><td> 52     </td><td>4.93    </td><td>1.615   </td><td>18.52   </td><td>1       </td><td>1       </td><td>4       </td><td>2       </td><td>32.19814</td></tr>\n",
       "\t<tr><td>33.9    </td><td>4       </td><td> 71.1   </td><td> 65     </td><td>4.22    </td><td>1.835   </td><td>19.90   </td><td>1       </td><td>1       </td><td>4       </td><td>1       </td><td>35.42234</td></tr>\n",
       "\t<tr><td>21.5    </td><td>4       </td><td>120.1   </td><td> 97     </td><td>3.70    </td><td>2.465   </td><td>20.01   </td><td>1       </td><td>0       </td><td>3       </td><td>1       </td><td>39.35091</td></tr>\n",
       "\t<tr><td>15.5    </td><td>8       </td><td>318.0   </td><td>150     </td><td>2.76    </td><td>3.520   </td><td>16.87   </td><td>0       </td><td>0       </td><td>3       </td><td>2       </td><td>42.61364</td></tr>\n",
       "\t<tr><td>15.2    </td><td>8       </td><td>304.0   </td><td>150     </td><td>3.15    </td><td>3.435   </td><td>17.30   </td><td>0       </td><td>0       </td><td>3       </td><td>2       </td><td>43.66812</td></tr>\n",
       "\t<tr><td>13.3    </td><td>8       </td><td>350.0   </td><td>245     </td><td>3.73    </td><td>3.840   </td><td>15.41   </td><td>0       </td><td>0       </td><td>3       </td><td>4       </td><td>63.80208</td></tr>\n",
       "\t<tr><td>19.2    </td><td>8       </td><td>400.0   </td><td>175     </td><td>3.08    </td><td>3.845   </td><td>17.05   </td><td>0       </td><td>0       </td><td>3       </td><td>2       </td><td>45.51365</td></tr>\n",
       "\t<tr><td>27.3    </td><td>4       </td><td> 79.0   </td><td> 66     </td><td>4.08    </td><td>1.935   </td><td>18.90   </td><td>1       </td><td>1       </td><td>4       </td><td>1       </td><td>34.10853</td></tr>\n",
       "\t<tr><td>26.0    </td><td>4       </td><td>120.3   </td><td> 91     </td><td>4.43    </td><td>2.140   </td><td>16.70   </td><td>0       </td><td>1       </td><td>5       </td><td>2       </td><td>42.52336</td></tr>\n",
       "\t<tr><td>30.4    </td><td>4       </td><td> 95.1   </td><td>113     </td><td>3.77    </td><td>1.513   </td><td>16.90   </td><td>1       </td><td>1       </td><td>5       </td><td>2       </td><td>74.68605</td></tr>\n",
       "\t<tr><td>15.8    </td><td>8       </td><td>351.0   </td><td>264     </td><td>4.22    </td><td>3.170   </td><td>14.50   </td><td>0       </td><td>1       </td><td>5       </td><td>4       </td><td>83.28076</td></tr>\n",
       "\t<tr><td>19.7    </td><td>6       </td><td>145.0   </td><td>175     </td><td>3.62    </td><td>2.770   </td><td>15.50   </td><td>0       </td><td>1       </td><td>5       </td><td>6       </td><td>63.17690</td></tr>\n",
       "\t<tr><td>15.0    </td><td>8       </td><td>301.0   </td><td>335     </td><td>3.54    </td><td>3.570   </td><td>14.60   </td><td>0       </td><td>1       </td><td>5       </td><td>8       </td><td>93.83754</td></tr>\n",
       "\t<tr><td>21.4    </td><td>4       </td><td>121.0   </td><td>109     </td><td>4.11    </td><td>2.780   </td><td>18.60   </td><td>1       </td><td>1       </td><td>4       </td><td>2       </td><td>39.20863</td></tr>\n",
       "</tbody>\n",
       "</table>\n"
      ],
      "text/latex": [
       "\\begin{tabular}{r|llllllllllll}\n",
       " mpg & cyl & disp & hp & drat & wt & qsec & vs & am & gear & carb & Performance\\\\\n",
       "\\hline\n",
       "\t 21.0     & 6        & 160.0    & 110      & 3.90     & 2.620    & 16.46    & 0        & 1        & 4        & 4        & 41.98473\\\\\n",
       "\t 21.0     & 6        & 160.0    & 110      & 3.90     & 2.875    & 17.02    & 0        & 1        & 4        & 4        & 38.26087\\\\\n",
       "\t 22.8     & 4        & 108.0    &  93      & 3.85     & 2.320    & 18.61    & 1        & 1        & 4        & 1        & 40.08621\\\\\n",
       "\t 21.4     & 6        & 258.0    & 110      & 3.08     & 3.215    & 19.44    & 1        & 0        & 3        & 1        & 34.21462\\\\\n",
       "\t 18.7     & 8        & 360.0    & 175      & 3.15     & 3.440    & 17.02    & 0        & 0        & 3        & 2        & 50.87209\\\\\n",
       "\t 18.1     & 6        & 225.0    & 105      & 2.76     & 3.460    & 20.22    & 1        & 0        & 3        & 1        & 30.34682\\\\\n",
       "\t 14.3     & 8        & 360.0    & 245      & 3.21     & 3.570    & 15.84    & 0        & 0        & 3        & 4        & 68.62745\\\\\n",
       "\t 24.4     & 4        & 146.7    &  62      & 3.69     & 3.190    & 20.00    & 1        & 0        & 4        & 2        & 19.43574\\\\\n",
       "\t 22.8     & 4        & 140.8    &  95      & 3.92     & 3.150    & 22.90    & 1        & 0        & 4        & 2        & 30.15873\\\\\n",
       "\t 19.2     & 6        & 167.6    & 123      & 3.92     & 3.440    & 18.30    & 1        & 0        & 4        & 4        & 35.75581\\\\\n",
       "\t 17.8     & 6        & 167.6    & 123      & 3.92     & 3.440    & 18.90    & 1        & 0        & 4        & 4        & 35.75581\\\\\n",
       "\t 16.4     & 8        & 275.8    & 180      & 3.07     & 4.070    & 17.40    & 0        & 0        & 3        & 3        & 44.22604\\\\\n",
       "\t 17.3     & 8        & 275.8    & 180      & 3.07     & 3.730    & 17.60    & 0        & 0        & 3        & 3        & 48.25737\\\\\n",
       "\t 15.2     & 8        & 275.8    & 180      & 3.07     & 3.780    & 18.00    & 0        & 0        & 3        & 3        & 47.61905\\\\\n",
       "\t 10.4     & 8        & 472.0    & 205      & 2.93     & 5.250    & 17.98    & 0        & 0        & 3        & 4        & 39.04762\\\\\n",
       "\t 10.4     & 8        & 460.0    & 215      & 3.00     & 5.424    & 17.82    & 0        & 0        & 3        & 4        & 39.63864\\\\\n",
       "\t 14.7     & 8        & 440.0    & 230      & 3.23     & 5.345    & 17.42    & 0        & 0        & 3        & 4        & 43.03087\\\\\n",
       "\t 32.4     & 4        &  78.7    &  66      & 4.08     & 2.200    & 19.47    & 1        & 1        & 4        & 1        & 30.00000\\\\\n",
       "\t 30.4     & 4        &  75.7    &  52      & 4.93     & 1.615    & 18.52    & 1        & 1        & 4        & 2        & 32.19814\\\\\n",
       "\t 33.9     & 4        &  71.1    &  65      & 4.22     & 1.835    & 19.90    & 1        & 1        & 4        & 1        & 35.42234\\\\\n",
       "\t 21.5     & 4        & 120.1    &  97      & 3.70     & 2.465    & 20.01    & 1        & 0        & 3        & 1        & 39.35091\\\\\n",
       "\t 15.5     & 8        & 318.0    & 150      & 2.76     & 3.520    & 16.87    & 0        & 0        & 3        & 2        & 42.61364\\\\\n",
       "\t 15.2     & 8        & 304.0    & 150      & 3.15     & 3.435    & 17.30    & 0        & 0        & 3        & 2        & 43.66812\\\\\n",
       "\t 13.3     & 8        & 350.0    & 245      & 3.73     & 3.840    & 15.41    & 0        & 0        & 3        & 4        & 63.80208\\\\\n",
       "\t 19.2     & 8        & 400.0    & 175      & 3.08     & 3.845    & 17.05    & 0        & 0        & 3        & 2        & 45.51365\\\\\n",
       "\t 27.3     & 4        &  79.0    &  66      & 4.08     & 1.935    & 18.90    & 1        & 1        & 4        & 1        & 34.10853\\\\\n",
       "\t 26.0     & 4        & 120.3    &  91      & 4.43     & 2.140    & 16.70    & 0        & 1        & 5        & 2        & 42.52336\\\\\n",
       "\t 30.4     & 4        &  95.1    & 113      & 3.77     & 1.513    & 16.90    & 1        & 1        & 5        & 2        & 74.68605\\\\\n",
       "\t 15.8     & 8        & 351.0    & 264      & 4.22     & 3.170    & 14.50    & 0        & 1        & 5        & 4        & 83.28076\\\\\n",
       "\t 19.7     & 6        & 145.0    & 175      & 3.62     & 2.770    & 15.50    & 0        & 1        & 5        & 6        & 63.17690\\\\\n",
       "\t 15.0     & 8        & 301.0    & 335      & 3.54     & 3.570    & 14.60    & 0        & 1        & 5        & 8        & 93.83754\\\\\n",
       "\t 21.4     & 4        & 121.0    & 109      & 4.11     & 2.780    & 18.60    & 1        & 1        & 4        & 2        & 39.20863\\\\\n",
       "\\end{tabular}\n"
      ],
      "text/markdown": [
       "\n",
       "mpg | cyl | disp | hp | drat | wt | qsec | vs | am | gear | carb | Performance | \n",
       "|---|---|---|---|---|---|---|---|---|---|---|---|---|---|---|---|---|---|---|---|---|---|---|---|---|---|---|---|---|---|---|---|\n",
       "| 21.0     | 6        | 160.0    | 110      | 3.90     | 2.620    | 16.46    | 0        | 1        | 4        | 4        | 41.98473 | \n",
       "| 21.0     | 6        | 160.0    | 110      | 3.90     | 2.875    | 17.02    | 0        | 1        | 4        | 4        | 38.26087 | \n",
       "| 22.8     | 4        | 108.0    |  93      | 3.85     | 2.320    | 18.61    | 1        | 1        | 4        | 1        | 40.08621 | \n",
       "| 21.4     | 6        | 258.0    | 110      | 3.08     | 3.215    | 19.44    | 1        | 0        | 3        | 1        | 34.21462 | \n",
       "| 18.7     | 8        | 360.0    | 175      | 3.15     | 3.440    | 17.02    | 0        | 0        | 3        | 2        | 50.87209 | \n",
       "| 18.1     | 6        | 225.0    | 105      | 2.76     | 3.460    | 20.22    | 1        | 0        | 3        | 1        | 30.34682 | \n",
       "| 14.3     | 8        | 360.0    | 245      | 3.21     | 3.570    | 15.84    | 0        | 0        | 3        | 4        | 68.62745 | \n",
       "| 24.4     | 4        | 146.7    |  62      | 3.69     | 3.190    | 20.00    | 1        | 0        | 4        | 2        | 19.43574 | \n",
       "| 22.8     | 4        | 140.8    |  95      | 3.92     | 3.150    | 22.90    | 1        | 0        | 4        | 2        | 30.15873 | \n",
       "| 19.2     | 6        | 167.6    | 123      | 3.92     | 3.440    | 18.30    | 1        | 0        | 4        | 4        | 35.75581 | \n",
       "| 17.8     | 6        | 167.6    | 123      | 3.92     | 3.440    | 18.90    | 1        | 0        | 4        | 4        | 35.75581 | \n",
       "| 16.4     | 8        | 275.8    | 180      | 3.07     | 4.070    | 17.40    | 0        | 0        | 3        | 3        | 44.22604 | \n",
       "| 17.3     | 8        | 275.8    | 180      | 3.07     | 3.730    | 17.60    | 0        | 0        | 3        | 3        | 48.25737 | \n",
       "| 15.2     | 8        | 275.8    | 180      | 3.07     | 3.780    | 18.00    | 0        | 0        | 3        | 3        | 47.61905 | \n",
       "| 10.4     | 8        | 472.0    | 205      | 2.93     | 5.250    | 17.98    | 0        | 0        | 3        | 4        | 39.04762 | \n",
       "| 10.4     | 8        | 460.0    | 215      | 3.00     | 5.424    | 17.82    | 0        | 0        | 3        | 4        | 39.63864 | \n",
       "| 14.7     | 8        | 440.0    | 230      | 3.23     | 5.345    | 17.42    | 0        | 0        | 3        | 4        | 43.03087 | \n",
       "| 32.4     | 4        |  78.7    |  66      | 4.08     | 2.200    | 19.47    | 1        | 1        | 4        | 1        | 30.00000 | \n",
       "| 30.4     | 4        |  75.7    |  52      | 4.93     | 1.615    | 18.52    | 1        | 1        | 4        | 2        | 32.19814 | \n",
       "| 33.9     | 4        |  71.1    |  65      | 4.22     | 1.835    | 19.90    | 1        | 1        | 4        | 1        | 35.42234 | \n",
       "| 21.5     | 4        | 120.1    |  97      | 3.70     | 2.465    | 20.01    | 1        | 0        | 3        | 1        | 39.35091 | \n",
       "| 15.5     | 8        | 318.0    | 150      | 2.76     | 3.520    | 16.87    | 0        | 0        | 3        | 2        | 42.61364 | \n",
       "| 15.2     | 8        | 304.0    | 150      | 3.15     | 3.435    | 17.30    | 0        | 0        | 3        | 2        | 43.66812 | \n",
       "| 13.3     | 8        | 350.0    | 245      | 3.73     | 3.840    | 15.41    | 0        | 0        | 3        | 4        | 63.80208 | \n",
       "| 19.2     | 8        | 400.0    | 175      | 3.08     | 3.845    | 17.05    | 0        | 0        | 3        | 2        | 45.51365 | \n",
       "| 27.3     | 4        |  79.0    |  66      | 4.08     | 1.935    | 18.90    | 1        | 1        | 4        | 1        | 34.10853 | \n",
       "| 26.0     | 4        | 120.3    |  91      | 4.43     | 2.140    | 16.70    | 0        | 1        | 5        | 2        | 42.52336 | \n",
       "| 30.4     | 4        |  95.1    | 113      | 3.77     | 1.513    | 16.90    | 1        | 1        | 5        | 2        | 74.68605 | \n",
       "| 15.8     | 8        | 351.0    | 264      | 4.22     | 3.170    | 14.50    | 0        | 1        | 5        | 4        | 83.28076 | \n",
       "| 19.7     | 6        | 145.0    | 175      | 3.62     | 2.770    | 15.50    | 0        | 1        | 5        | 6        | 63.17690 | \n",
       "| 15.0     | 8        | 301.0    | 335      | 3.54     | 3.570    | 14.60    | 0        | 1        | 5        | 8        | 93.83754 | \n",
       "| 21.4     | 4        | 121.0    | 109      | 4.11     | 2.780    | 18.60    | 1        | 1        | 4        | 2        | 39.20863 | \n",
       "\n",
       "\n"
      ],
      "text/plain": [
       "   mpg  cyl disp  hp  drat wt    qsec  vs am gear carb Performance\n",
       "1  21.0 6   160.0 110 3.90 2.620 16.46 0  1  4    4    41.98473   \n",
       "2  21.0 6   160.0 110 3.90 2.875 17.02 0  1  4    4    38.26087   \n",
       "3  22.8 4   108.0  93 3.85 2.320 18.61 1  1  4    1    40.08621   \n",
       "4  21.4 6   258.0 110 3.08 3.215 19.44 1  0  3    1    34.21462   \n",
       "5  18.7 8   360.0 175 3.15 3.440 17.02 0  0  3    2    50.87209   \n",
       "6  18.1 6   225.0 105 2.76 3.460 20.22 1  0  3    1    30.34682   \n",
       "7  14.3 8   360.0 245 3.21 3.570 15.84 0  0  3    4    68.62745   \n",
       "8  24.4 4   146.7  62 3.69 3.190 20.00 1  0  4    2    19.43574   \n",
       "9  22.8 4   140.8  95 3.92 3.150 22.90 1  0  4    2    30.15873   \n",
       "10 19.2 6   167.6 123 3.92 3.440 18.30 1  0  4    4    35.75581   \n",
       "11 17.8 6   167.6 123 3.92 3.440 18.90 1  0  4    4    35.75581   \n",
       "12 16.4 8   275.8 180 3.07 4.070 17.40 0  0  3    3    44.22604   \n",
       "13 17.3 8   275.8 180 3.07 3.730 17.60 0  0  3    3    48.25737   \n",
       "14 15.2 8   275.8 180 3.07 3.780 18.00 0  0  3    3    47.61905   \n",
       "15 10.4 8   472.0 205 2.93 5.250 17.98 0  0  3    4    39.04762   \n",
       "16 10.4 8   460.0 215 3.00 5.424 17.82 0  0  3    4    39.63864   \n",
       "17 14.7 8   440.0 230 3.23 5.345 17.42 0  0  3    4    43.03087   \n",
       "18 32.4 4    78.7  66 4.08 2.200 19.47 1  1  4    1    30.00000   \n",
       "19 30.4 4    75.7  52 4.93 1.615 18.52 1  1  4    2    32.19814   \n",
       "20 33.9 4    71.1  65 4.22 1.835 19.90 1  1  4    1    35.42234   \n",
       "21 21.5 4   120.1  97 3.70 2.465 20.01 1  0  3    1    39.35091   \n",
       "22 15.5 8   318.0 150 2.76 3.520 16.87 0  0  3    2    42.61364   \n",
       "23 15.2 8   304.0 150 3.15 3.435 17.30 0  0  3    2    43.66812   \n",
       "24 13.3 8   350.0 245 3.73 3.840 15.41 0  0  3    4    63.80208   \n",
       "25 19.2 8   400.0 175 3.08 3.845 17.05 0  0  3    2    45.51365   \n",
       "26 27.3 4    79.0  66 4.08 1.935 18.90 1  1  4    1    34.10853   \n",
       "27 26.0 4   120.3  91 4.43 2.140 16.70 0  1  5    2    42.52336   \n",
       "28 30.4 4    95.1 113 3.77 1.513 16.90 1  1  5    2    74.68605   \n",
       "29 15.8 8   351.0 264 4.22 3.170 14.50 0  1  5    4    83.28076   \n",
       "30 19.7 6   145.0 175 3.62 2.770 15.50 0  1  5    6    63.17690   \n",
       "31 15.0 8   301.0 335 3.54 3.570 14.60 0  1  5    8    93.83754   \n",
       "32 21.4 4   121.0 109 4.11 2.780 18.60 1  1  4    2    39.20863   "
      ]
     },
     "metadata": {},
     "output_type": "display_data"
    }
   ],
   "source": [
    "#Create a new column called \"Performance\" which is calculated by hp divided by wt.\n",
    "mutate(mtcars, Performance = hp/wt)"
   ]
  },
  {
   "cell_type": "code",
   "execution_count": 24,
   "metadata": {},
   "outputs": [
    {
     "data": {
      "text/html": [
       "<table>\n",
       "<thead><tr><th scope=col>avg</th></tr></thead>\n",
       "<tbody>\n",
       "\t<tr><td>20.09062</td></tr>\n",
       "</tbody>\n",
       "</table>\n"
      ],
      "text/latex": [
       "\\begin{tabular}{r|l}\n",
       " avg\\\\\n",
       "\\hline\n",
       "\t 20.09062\\\\\n",
       "\\end{tabular}\n"
      ],
      "text/markdown": [
       "\n",
       "avg | \n",
       "|---|\n",
       "| 20.09062 | \n",
       "\n",
       "\n"
      ],
      "text/plain": [
       "  avg     \n",
       "1 20.09062"
      ]
     },
     "metadata": {},
     "output_type": "display_data"
    }
   ],
   "source": [
    "#Find the mean mpg value using dplyr.\n",
    "summarise(mtcars, avg = mean(mpg))"
   ]
  },
  {
   "cell_type": "code",
   "execution_count": 26,
   "metadata": {},
   "outputs": [
    {
     "data": {
      "text/html": [
       "<table>\n",
       "<thead><tr><th scope=col>avg_hp</th></tr></thead>\n",
       "<tbody>\n",
       "\t<tr><td>122.2857</td></tr>\n",
       "</tbody>\n",
       "</table>\n"
      ],
      "text/latex": [
       "\\begin{tabular}{r|l}\n",
       " avg\\_hp\\\\\n",
       "\\hline\n",
       "\t 122.2857\\\\\n",
       "\\end{tabular}\n"
      ],
      "text/markdown": [
       "\n",
       "avg_hp | \n",
       "|---|\n",
       "| 122.2857 | \n",
       "\n",
       "\n"
      ],
      "text/plain": [
       "  avg_hp  \n",
       "1 122.2857"
      ]
     },
     "metadata": {},
     "output_type": "display_data"
    }
   ],
   "source": [
    "#Use pipe operators to get the mean hp value for cars with 6 cylinders.\n",
    "mtcars %>% filter(cyl==6) %>% summarise(avg_hp = mean(hp))\n"
   ]
  },
  {
   "cell_type": "code",
   "execution_count": null,
   "metadata": {},
   "outputs": [],
   "source": []
  }
 ],
 "metadata": {
  "kernelspec": {
   "display_name": "R",
   "language": "R",
   "name": "ir"
  },
  "language_info": {
   "codemirror_mode": "r",
   "file_extension": ".r",
   "mimetype": "text/x-r-source",
   "name": "R",
   "pygments_lexer": "r",
   "version": "3.4.3"
  }
 },
 "nbformat": 4,
 "nbformat_minor": 2
}
